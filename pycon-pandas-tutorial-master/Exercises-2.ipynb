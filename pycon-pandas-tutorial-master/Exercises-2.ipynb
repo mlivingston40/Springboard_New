{
 "cells": [
  {
   "cell_type": "code",
   "execution_count": 6,
   "metadata": {
    "collapsed": false
   },
   "outputs": [],
   "source": [
    "%matplotlib inline\n",
    "import pandas as pd"
   ]
  },
  {
   "cell_type": "code",
   "execution_count": 7,
   "metadata": {
    "collapsed": false
   },
   "outputs": [
    {
     "data": {
      "text/html": [
       "<style>body {\n",
       "    margin: 0;\n",
       "    font-family: Helvetica;\n",
       "}\n",
       "table.dataframe {\n",
       "    border-collapse: collapse;\n",
       "    border: none;\n",
       "}\n",
       "table.dataframe tr {\n",
       "    border: none;\n",
       "}\n",
       "table.dataframe td, table.dataframe th {\n",
       "    margin: 0;\n",
       "    border: 1px solid white;\n",
       "    padding-left: 0.25em;\n",
       "    padding-right: 0.25em;\n",
       "}\n",
       "table.dataframe th:not(:empty) {\n",
       "    background-color: #fec;\n",
       "    text-align: left;\n",
       "    font-weight: normal;\n",
       "}\n",
       "table.dataframe tr:nth-child(2) th:empty {\n",
       "    border-left: none;\n",
       "    border-right: 1px dashed #888;\n",
       "}\n",
       "table.dataframe td {\n",
       "    border: 2px solid #ccf;\n",
       "    background-color: #f4f4ff;\n",
       "}\n",
       "h3 {\n",
       "    color: white;\n",
       "    background-color: black;\n",
       "    padding: 0.5em;\n",
       "}\n",
       "</style>"
      ],
      "text/plain": [
       "<IPython.core.display.HTML object>"
      ]
     },
     "execution_count": 7,
     "metadata": {},
     "output_type": "execute_result"
    }
   ],
   "source": [
    "from IPython.core.display import HTML\n",
    "css = open('style-table.css').read() + open('style-notebook.css').read()\n",
    "HTML('<style>{}</style>'.format(css))"
   ]
  },
  {
   "cell_type": "code",
   "execution_count": 9,
   "metadata": {
    "collapsed": false
   },
   "outputs": [
    {
     "data": {
      "text/html": [
       "<div>\n",
       "<table border=\"1\" class=\"dataframe\">\n",
       "  <thead>\n",
       "    <tr style=\"text-align: right;\">\n",
       "      <th></th>\n",
       "      <th>title</th>\n",
       "      <th>year</th>\n",
       "    </tr>\n",
       "  </thead>\n",
       "  <tbody>\n",
       "    <tr>\n",
       "      <th>0</th>\n",
       "      <td>Four Days</td>\n",
       "      <td>1951</td>\n",
       "    </tr>\n",
       "    <tr>\n",
       "      <th>1</th>\n",
       "      <td>Hanggang kailan ka papatay</td>\n",
       "      <td>1990</td>\n",
       "    </tr>\n",
       "    <tr>\n",
       "      <th>2</th>\n",
       "      <td>Trago Comigo</td>\n",
       "      <td>2013</td>\n",
       "    </tr>\n",
       "    <tr>\n",
       "      <th>3</th>\n",
       "      <td>Senin Hikayen</td>\n",
       "      <td>2013</td>\n",
       "    </tr>\n",
       "    <tr>\n",
       "      <th>4</th>\n",
       "      <td>Paso a paso</td>\n",
       "      <td>2015</td>\n",
       "    </tr>\n",
       "  </tbody>\n",
       "</table>\n",
       "</div>"
      ],
      "text/plain": [
       "                        title  year\n",
       "0                   Four Days  1951\n",
       "1  Hanggang kailan ka papatay  1990\n",
       "2                Trago Comigo  2013\n",
       "3               Senin Hikayen  2013\n",
       "4                 Paso a paso  2015"
      ]
     },
     "execution_count": 9,
     "metadata": {},
     "output_type": "execute_result"
    }
   ],
   "source": [
    "titles = pd.DataFrame.from_csv('data/titles.csv', index_col=None)\n",
    "titles.head()"
   ]
  },
  {
   "cell_type": "code",
   "execution_count": 10,
   "metadata": {
    "collapsed": false
   },
   "outputs": [
    {
     "data": {
      "text/html": [
       "<div>\n",
       "<table border=\"1\" class=\"dataframe\">\n",
       "  <thead>\n",
       "    <tr style=\"text-align: right;\">\n",
       "      <th></th>\n",
       "      <th>title</th>\n",
       "      <th>year</th>\n",
       "      <th>name</th>\n",
       "      <th>type</th>\n",
       "      <th>character</th>\n",
       "      <th>n</th>\n",
       "    </tr>\n",
       "  </thead>\n",
       "  <tbody>\n",
       "    <tr>\n",
       "      <th>0</th>\n",
       "      <td>Suuri illusioni</td>\n",
       "      <td>1985</td>\n",
       "      <td>Homo $</td>\n",
       "      <td>actor</td>\n",
       "      <td>Guests</td>\n",
       "      <td>22.0</td>\n",
       "    </tr>\n",
       "    <tr>\n",
       "      <th>1</th>\n",
       "      <td>Battle of the Sexes</td>\n",
       "      <td>2017</td>\n",
       "      <td>$hutter</td>\n",
       "      <td>actor</td>\n",
       "      <td>Bobby Riggs Fan</td>\n",
       "      <td>10.0</td>\n",
       "    </tr>\n",
       "    <tr>\n",
       "      <th>2</th>\n",
       "      <td>Secret in Their Eyes</td>\n",
       "      <td>2015</td>\n",
       "      <td>$hutter</td>\n",
       "      <td>actor</td>\n",
       "      <td>2002 Dodger Fan</td>\n",
       "      <td>NaN</td>\n",
       "    </tr>\n",
       "    <tr>\n",
       "      <th>3</th>\n",
       "      <td>Steve Jobs</td>\n",
       "      <td>2015</td>\n",
       "      <td>$hutter</td>\n",
       "      <td>actor</td>\n",
       "      <td>1988 Opera House Patron</td>\n",
       "      <td>NaN</td>\n",
       "    </tr>\n",
       "    <tr>\n",
       "      <th>4</th>\n",
       "      <td>Straight Outta Compton</td>\n",
       "      <td>2015</td>\n",
       "      <td>$hutter</td>\n",
       "      <td>actor</td>\n",
       "      <td>Club Patron</td>\n",
       "      <td>NaN</td>\n",
       "    </tr>\n",
       "  </tbody>\n",
       "</table>\n",
       "</div>"
      ],
      "text/plain": [
       "                    title  year     name   type                character     n\n",
       "0         Suuri illusioni  1985   Homo $  actor                   Guests  22.0\n",
       "1     Battle of the Sexes  2017  $hutter  actor          Bobby Riggs Fan  10.0\n",
       "2    Secret in Their Eyes  2015  $hutter  actor          2002 Dodger Fan   NaN\n",
       "3              Steve Jobs  2015  $hutter  actor  1988 Opera House Patron   NaN\n",
       "4  Straight Outta Compton  2015  $hutter  actor              Club Patron   NaN"
      ]
     },
     "execution_count": 10,
     "metadata": {},
     "output_type": "execute_result"
    }
   ],
   "source": [
    "cast = pd.DataFrame.from_csv('data/cast.csv', index_col=None)\n",
    "cast.head()"
   ]
  },
  {
   "cell_type": "markdown",
   "metadata": {
    "collapsed": true
   },
   "source": [
    "### What are the ten most common movie names of all time?"
   ]
  },
  {
   "cell_type": "code",
   "execution_count": 18,
   "metadata": {
    "collapsed": false
   },
   "outputs": [
    {
     "data": {
      "text/plain": [
       "<pandas.core.groupby.DataFrameGroupBy object at 0x112c4cb00>"
      ]
     },
     "execution_count": 18,
     "metadata": {},
     "output_type": "execute_result"
    }
   ],
   "source": [
    "cast.groupby('title')"
   ]
  },
  {
   "cell_type": "code",
   "execution_count": 51,
   "metadata": {
    "collapsed": false
   },
   "outputs": [
    {
     "name": "stdout",
     "output_type": "stream",
     "text": [
      "13\n",
      "CPU times: user 298 ms, sys: 6.79 ms, total: 305 ms\n",
      "Wall time: 362 ms\n"
     ]
    }
   ],
   "source": [
    "%%time\n",
    "c = cast[cast.title == 'Sleuth']\n",
    "print(len(c))\n",
    "c.head(5)"
   ]
  },
  {
   "cell_type": "code",
   "execution_count": 53,
   "metadata": {
    "collapsed": false
   },
   "outputs": [
    {
     "data": {
      "text/plain": [
       "3532544"
      ]
     },
     "execution_count": 53,
     "metadata": {},
     "output_type": "execute_result"
    }
   ],
   "source": [
    "len(cast)"
   ]
  },
  {
   "cell_type": "code",
   "execution_count": 68,
   "metadata": {
    "collapsed": false
   },
   "outputs": [
    {
     "name": "stdout",
     "output_type": "stream",
     "text": [
      "CPU times: user 13.1 s, sys: 1.56 s, total: 14.6 s\n",
      "Wall time: 15.2 s\n"
     ]
    }
   ],
   "source": [
    "%%time\n",
    "c = cast.set_index(['title']).sort_index()"
   ]
  },
  {
   "cell_type": "code",
   "execution_count": 69,
   "metadata": {
    "collapsed": false
   },
   "outputs": [
    {
     "name": "stdout",
     "output_type": "stream",
     "text": [
      "CPU times: user 1.19 s, sys: 338 ms, total: 1.52 s\n",
      "Wall time: 1.65 s\n"
     ]
    },
    {
     "data": {
      "text/html": [
       "<div>\n",
       "<table border=\"1\" class=\"dataframe\">\n",
       "  <thead>\n",
       "    <tr style=\"text-align: right;\">\n",
       "      <th></th>\n",
       "      <th>year</th>\n",
       "      <th>name</th>\n",
       "      <th>type</th>\n",
       "      <th>character</th>\n",
       "      <th>n</th>\n",
       "    </tr>\n",
       "    <tr>\n",
       "      <th>title</th>\n",
       "      <th></th>\n",
       "      <th></th>\n",
       "      <th></th>\n",
       "      <th></th>\n",
       "      <th></th>\n",
       "    </tr>\n",
       "  </thead>\n",
       "  <tbody>\n",
       "    <tr>\n",
       "      <th>Star Wars</th>\n",
       "      <td>1977</td>\n",
       "      <td>Peter Diamond</td>\n",
       "      <td>actor</td>\n",
       "      <td>Tusken Raider</td>\n",
       "      <td>NaN</td>\n",
       "    </tr>\n",
       "    <tr>\n",
       "      <th>Star Wars</th>\n",
       "      <td>1977</td>\n",
       "      <td>Mark (III) Austin</td>\n",
       "      <td>actor</td>\n",
       "      <td>Boba Fett (special edition)</td>\n",
       "      <td>NaN</td>\n",
       "    </tr>\n",
       "    <tr>\n",
       "      <th>Star Wars</th>\n",
       "      <td>1977</td>\n",
       "      <td>Grant McCune</td>\n",
       "      <td>actor</td>\n",
       "      <td>Death Star Gunner</td>\n",
       "      <td>NaN</td>\n",
       "    </tr>\n",
       "    <tr>\n",
       "      <th>Star Wars</th>\n",
       "      <td>1977</td>\n",
       "      <td>Diana Sadley Way</td>\n",
       "      <td>actress</td>\n",
       "      <td>Thuku</td>\n",
       "      <td>NaN</td>\n",
       "    </tr>\n",
       "    <tr>\n",
       "      <th>Star Wars</th>\n",
       "      <td>1977</td>\n",
       "      <td>John Sylla</td>\n",
       "      <td>actor</td>\n",
       "      <td>Cantina Voices</td>\n",
       "      <td>NaN</td>\n",
       "    </tr>\n",
       "    <tr>\n",
       "      <th>Star Wars</th>\n",
       "      <td>1977</td>\n",
       "      <td>Alec Guinness</td>\n",
       "      <td>actor</td>\n",
       "      <td>Ben Obi-Wan Kenobi</td>\n",
       "      <td>5.0</td>\n",
       "    </tr>\n",
       "    <tr>\n",
       "      <th>Star Wars</th>\n",
       "      <td>1977</td>\n",
       "      <td>Eddie Byrne</td>\n",
       "      <td>actor</td>\n",
       "      <td>General Willard</td>\n",
       "      <td>15.0</td>\n",
       "    </tr>\n",
       "    <tr>\n",
       "      <th>Star Wars</th>\n",
       "      <td>1977</td>\n",
       "      <td>Graham Ashley</td>\n",
       "      <td>actor</td>\n",
       "      <td>Gold Five</td>\n",
       "      <td>23.0</td>\n",
       "    </tr>\n",
       "    <tr>\n",
       "      <th>Star Wars</th>\n",
       "      <td>1977</td>\n",
       "      <td>Peter Diamond</td>\n",
       "      <td>actor</td>\n",
       "      <td>Death Star Trooper</td>\n",
       "      <td>NaN</td>\n",
       "    </tr>\n",
       "    <tr>\n",
       "      <th>Star Wars</th>\n",
       "      <td>1977</td>\n",
       "      <td>Salo Gardner</td>\n",
       "      <td>actor</td>\n",
       "      <td>Cantina Patron</td>\n",
       "      <td>NaN</td>\n",
       "    </tr>\n",
       "    <tr>\n",
       "      <th>Star Wars</th>\n",
       "      <td>1977</td>\n",
       "      <td>Warwick Diamond</td>\n",
       "      <td>actor</td>\n",
       "      <td>Jawa</td>\n",
       "      <td>NaN</td>\n",
       "    </tr>\n",
       "    <tr>\n",
       "      <th>Star Wars</th>\n",
       "      <td>1977</td>\n",
       "      <td>Jon Berg</td>\n",
       "      <td>actor</td>\n",
       "      <td>Cantina Alien</td>\n",
       "      <td>NaN</td>\n",
       "    </tr>\n",
       "    <tr>\n",
       "      <th>Star Wars</th>\n",
       "      <td>1977</td>\n",
       "      <td>Tom Sylla</td>\n",
       "      <td>actor</td>\n",
       "      <td>Massassi Outpost Announcer</td>\n",
       "      <td>NaN</td>\n",
       "    </tr>\n",
       "    <tr>\n",
       "      <th>Star Wars</th>\n",
       "      <td>1977</td>\n",
       "      <td>Barry Copping</td>\n",
       "      <td>actor</td>\n",
       "      <td>Wioslea</td>\n",
       "      <td>NaN</td>\n",
       "    </tr>\n",
       "    <tr>\n",
       "      <th>Star Wars</th>\n",
       "      <td>1977</td>\n",
       "      <td>Lightning Bear</td>\n",
       "      <td>actor</td>\n",
       "      <td>Stormtrooper</td>\n",
       "      <td>NaN</td>\n",
       "    </tr>\n",
       "    <tr>\n",
       "      <th>Star Wars</th>\n",
       "      <td>1977</td>\n",
       "      <td>Robert (V) Davies</td>\n",
       "      <td>actor</td>\n",
       "      <td>Cantina Patron</td>\n",
       "      <td>NaN</td>\n",
       "    </tr>\n",
       "    <tr>\n",
       "      <th>Star Wars</th>\n",
       "      <td>1977</td>\n",
       "      <td>Christine Hewett</td>\n",
       "      <td>actress</td>\n",
       "      <td>Brea Tonnika</td>\n",
       "      <td>NaN</td>\n",
       "    </tr>\n",
       "    <tr>\n",
       "      <th>Star Wars</th>\n",
       "      <td>1977</td>\n",
       "      <td>Peter Diamond</td>\n",
       "      <td>actor</td>\n",
       "      <td>Garouf Lafoe</td>\n",
       "      <td>NaN</td>\n",
       "    </tr>\n",
       "    <tr>\n",
       "      <th>Star Wars</th>\n",
       "      <td>1977</td>\n",
       "      <td>Barry Gnome</td>\n",
       "      <td>actor</td>\n",
       "      <td>Kabe</td>\n",
       "      <td>NaN</td>\n",
       "    </tr>\n",
       "    <tr>\n",
       "      <th>Star Wars</th>\n",
       "      <td>1977</td>\n",
       "      <td>Rusty Goffe</td>\n",
       "      <td>actor</td>\n",
       "      <td>GONK Droid</td>\n",
       "      <td>NaN</td>\n",
       "    </tr>\n",
       "    <tr>\n",
       "      <th>Star Wars</th>\n",
       "      <td>1977</td>\n",
       "      <td>Rusty Goffe</td>\n",
       "      <td>actor</td>\n",
       "      <td>Jawa</td>\n",
       "      <td>NaN</td>\n",
       "    </tr>\n",
       "    <tr>\n",
       "      <th>Star Wars</th>\n",
       "      <td>1977</td>\n",
       "      <td>Rusty Goffe</td>\n",
       "      <td>actor</td>\n",
       "      <td>Kabe</td>\n",
       "      <td>NaN</td>\n",
       "    </tr>\n",
       "    <tr>\n",
       "      <th>Star Wars</th>\n",
       "      <td>1977</td>\n",
       "      <td>Mark Hamill</td>\n",
       "      <td>actor</td>\n",
       "      <td>Luke Skywalker</td>\n",
       "      <td>1.0</td>\n",
       "    </tr>\n",
       "    <tr>\n",
       "      <th>Star Wars</th>\n",
       "      <td>1977</td>\n",
       "      <td>Harry Fielder</td>\n",
       "      <td>actor</td>\n",
       "      <td>Death Star Trooper</td>\n",
       "      <td>NaN</td>\n",
       "    </tr>\n",
       "    <tr>\n",
       "      <th>Star Wars</th>\n",
       "      <td>1977</td>\n",
       "      <td>Geoffrey Moon</td>\n",
       "      <td>actor</td>\n",
       "      <td>Cantina Patron</td>\n",
       "      <td>NaN</td>\n",
       "    </tr>\n",
       "    <tr>\n",
       "      <th>Star Wars</th>\n",
       "      <td>1977</td>\n",
       "      <td>Frank Henson</td>\n",
       "      <td>actor</td>\n",
       "      <td>Stormtrooper</td>\n",
       "      <td>NaN</td>\n",
       "    </tr>\n",
       "    <tr>\n",
       "      <th>Star Wars</th>\n",
       "      <td>1977</td>\n",
       "      <td>Isaac Grand</td>\n",
       "      <td>actor</td>\n",
       "      <td>Cantina Patron</td>\n",
       "      <td>NaN</td>\n",
       "    </tr>\n",
       "    <tr>\n",
       "      <th>Star Wars</th>\n",
       "      <td>1977</td>\n",
       "      <td>Scott Beach</td>\n",
       "      <td>actor</td>\n",
       "      <td>Stormtrooper</td>\n",
       "      <td>NaN</td>\n",
       "    </tr>\n",
       "    <tr>\n",
       "      <th>Star Wars</th>\n",
       "      <td>1977</td>\n",
       "      <td>Doug Beswick</td>\n",
       "      <td>actor</td>\n",
       "      <td>Cantina Alien</td>\n",
       "      <td>NaN</td>\n",
       "    </tr>\n",
       "    <tr>\n",
       "      <th>Star Wars</th>\n",
       "      <td>1977</td>\n",
       "      <td>Ted Gagliano</td>\n",
       "      <td>actor</td>\n",
       "      <td>Stormtrooper with Binoculars</td>\n",
       "      <td>NaN</td>\n",
       "    </tr>\n",
       "    <tr>\n",
       "      <th>...</th>\n",
       "      <td>...</td>\n",
       "      <td>...</td>\n",
       "      <td>...</td>\n",
       "      <td>...</td>\n",
       "      <td>...</td>\n",
       "    </tr>\n",
       "    <tr>\n",
       "      <th>Star Wars</th>\n",
       "      <td>1977</td>\n",
       "      <td>Joe Kaye</td>\n",
       "      <td>actor</td>\n",
       "      <td>Solomohal</td>\n",
       "      <td>NaN</td>\n",
       "    </tr>\n",
       "    <tr>\n",
       "      <th>Star Wars</th>\n",
       "      <td>1977</td>\n",
       "      <td>Morgan Upton</td>\n",
       "      <td>actor</td>\n",
       "      <td>Stormtrooper</td>\n",
       "      <td>NaN</td>\n",
       "    </tr>\n",
       "    <tr>\n",
       "      <th>Star Wars</th>\n",
       "      <td>1977</td>\n",
       "      <td>Alfie Curtis</td>\n",
       "      <td>actor</td>\n",
       "      <td>Dr. Evazan</td>\n",
       "      <td>NaN</td>\n",
       "    </tr>\n",
       "    <tr>\n",
       "      <th>Star Wars</th>\n",
       "      <td>1977</td>\n",
       "      <td>Richard LeParmentier</td>\n",
       "      <td>actor</td>\n",
       "      <td>General Motti</td>\n",
       "      <td>25.0</td>\n",
       "    </tr>\n",
       "    <tr>\n",
       "      <th>Star Wars</th>\n",
       "      <td>1977</td>\n",
       "      <td>Frazer Diamond</td>\n",
       "      <td>actor</td>\n",
       "      <td>Jawa</td>\n",
       "      <td>NaN</td>\n",
       "    </tr>\n",
       "    <tr>\n",
       "      <th>Star Wars</th>\n",
       "      <td>1977</td>\n",
       "      <td>Marcus Powell</td>\n",
       "      <td>actor</td>\n",
       "      <td>Rycar Ryjerd</td>\n",
       "      <td>NaN</td>\n",
       "    </tr>\n",
       "    <tr>\n",
       "      <th>Star Wars</th>\n",
       "      <td>1977</td>\n",
       "      <td>Peter (II) Mayhew</td>\n",
       "      <td>actor</td>\n",
       "      <td>Chewbacca</td>\n",
       "      <td>8.0</td>\n",
       "    </tr>\n",
       "    <tr>\n",
       "      <th>Star Wars</th>\n",
       "      <td>1977</td>\n",
       "      <td>Al Lampert</td>\n",
       "      <td>actor</td>\n",
       "      <td>Daine Jir</td>\n",
       "      <td>NaN</td>\n",
       "    </tr>\n",
       "    <tr>\n",
       "      <th>Star Wars</th>\n",
       "      <td>1977</td>\n",
       "      <td>Hal Wamsley</td>\n",
       "      <td>actor</td>\n",
       "      <td>Jawa</td>\n",
       "      <td>NaN</td>\n",
       "    </tr>\n",
       "    <tr>\n",
       "      <th>Star Wars</th>\n",
       "      <td>1977</td>\n",
       "      <td>Frances Alfred Basil Tomlin</td>\n",
       "      <td>actor</td>\n",
       "      <td>BoShek</td>\n",
       "      <td>NaN</td>\n",
       "    </tr>\n",
       "    <tr>\n",
       "      <th>Star Wars</th>\n",
       "      <td>1977</td>\n",
       "      <td>Larry (III) Ward</td>\n",
       "      <td>actor</td>\n",
       "      <td>Greedo</td>\n",
       "      <td>NaN</td>\n",
       "    </tr>\n",
       "    <tr>\n",
       "      <th>Star Wars</th>\n",
       "      <td>1977</td>\n",
       "      <td>Peter Cushing</td>\n",
       "      <td>actor</td>\n",
       "      <td>Grand Moff Tarkin</td>\n",
       "      <td>4.0</td>\n",
       "    </tr>\n",
       "    <tr>\n",
       "      <th>Star Wars</th>\n",
       "      <td>1977</td>\n",
       "      <td>Burnell Tucker</td>\n",
       "      <td>actor</td>\n",
       "      <td>Del Goren</td>\n",
       "      <td>NaN</td>\n",
       "    </tr>\n",
       "    <tr>\n",
       "      <th>Star Wars</th>\n",
       "      <td>1977</td>\n",
       "      <td>Jeremy Sinden</td>\n",
       "      <td>actor</td>\n",
       "      <td>Gold Two</td>\n",
       "      <td>22.0</td>\n",
       "    </tr>\n",
       "    <tr>\n",
       "      <th>Star Wars</th>\n",
       "      <td>1977</td>\n",
       "      <td>Harrison Ford</td>\n",
       "      <td>actor</td>\n",
       "      <td>Han Solo</td>\n",
       "      <td>2.0</td>\n",
       "    </tr>\n",
       "    <tr>\n",
       "      <th>Star Wars</th>\n",
       "      <td>1977</td>\n",
       "      <td>Peter Sturgeon</td>\n",
       "      <td>actor</td>\n",
       "      <td>Sai'torr Kal Fas</td>\n",
       "      <td>NaN</td>\n",
       "    </tr>\n",
       "    <tr>\n",
       "      <th>Star Wars</th>\n",
       "      <td>1977</td>\n",
       "      <td>Carrie Fisher</td>\n",
       "      <td>actress</td>\n",
       "      <td>Princess Leia Organa</td>\n",
       "      <td>3.0</td>\n",
       "    </tr>\n",
       "    <tr>\n",
       "      <th>Star Wars</th>\n",
       "      <td>1977</td>\n",
       "      <td>Angela Staines</td>\n",
       "      <td>actress</td>\n",
       "      <td>Senni Tonnika</td>\n",
       "      <td>NaN</td>\n",
       "    </tr>\n",
       "    <tr>\n",
       "      <th>Star Wars</th>\n",
       "      <td>1977</td>\n",
       "      <td>Tommy Ilsley</td>\n",
       "      <td>actor</td>\n",
       "      <td>Ponda Baba</td>\n",
       "      <td>NaN</td>\n",
       "    </tr>\n",
       "    <tr>\n",
       "      <th>Star Wars</th>\n",
       "      <td>1977</td>\n",
       "      <td>Annette Jones</td>\n",
       "      <td>actress</td>\n",
       "      <td>Mosep</td>\n",
       "      <td>NaN</td>\n",
       "    </tr>\n",
       "    <tr>\n",
       "      <th>Star Wars</th>\n",
       "      <td>1977</td>\n",
       "      <td>Harold Weed</td>\n",
       "      <td>actor</td>\n",
       "      <td>Melas</td>\n",
       "      <td>NaN</td>\n",
       "    </tr>\n",
       "    <tr>\n",
       "      <th>Star Wars</th>\n",
       "      <td>1977</td>\n",
       "      <td>Rick McCallum</td>\n",
       "      <td>actor</td>\n",
       "      <td>Stormtrooper (special edition)</td>\n",
       "      <td>NaN</td>\n",
       "    </tr>\n",
       "    <tr>\n",
       "      <th>Star Wars</th>\n",
       "      <td>1977</td>\n",
       "      <td>Kenny Baker</td>\n",
       "      <td>actor</td>\n",
       "      <td>R2-D2</td>\n",
       "      <td>7.0</td>\n",
       "    </tr>\n",
       "    <tr>\n",
       "      <th>Star Wars</th>\n",
       "      <td>1977</td>\n",
       "      <td>Melissa Kurtz</td>\n",
       "      <td>actress</td>\n",
       "      <td>Jawa</td>\n",
       "      <td>NaN</td>\n",
       "    </tr>\n",
       "    <tr>\n",
       "      <th>Star Wars</th>\n",
       "      <td>1977</td>\n",
       "      <td>Janice Burchette</td>\n",
       "      <td>actress</td>\n",
       "      <td>Nabrun Leids</td>\n",
       "      <td>NaN</td>\n",
       "    </tr>\n",
       "    <tr>\n",
       "      <th>Star Wars</th>\n",
       "      <td>1977</td>\n",
       "      <td>Alex McCrindle</td>\n",
       "      <td>actor</td>\n",
       "      <td>General Dodonna</td>\n",
       "      <td>14.0</td>\n",
       "    </tr>\n",
       "    <tr>\n",
       "      <th>Star Wars</th>\n",
       "      <td>1977</td>\n",
       "      <td>George Stock</td>\n",
       "      <td>actor</td>\n",
       "      <td>Cantina Patron</td>\n",
       "      <td>NaN</td>\n",
       "    </tr>\n",
       "    <tr>\n",
       "      <th>Star Wars</th>\n",
       "      <td>1977</td>\n",
       "      <td>Denis Lawson</td>\n",
       "      <td>actor</td>\n",
       "      <td>Red Two (Wedge)</td>\n",
       "      <td>17.0</td>\n",
       "    </tr>\n",
       "    <tr>\n",
       "      <th>Star Wars</th>\n",
       "      <td>1977</td>\n",
       "      <td>Alf Mangan</td>\n",
       "      <td>actor</td>\n",
       "      <td>Takeel</td>\n",
       "      <td>NaN</td>\n",
       "    </tr>\n",
       "    <tr>\n",
       "      <th>Star Wars</th>\n",
       "      <td>1977</td>\n",
       "      <td>Harold Weed</td>\n",
       "      <td>actor</td>\n",
       "      <td>Ketwol</td>\n",
       "      <td>NaN</td>\n",
       "    </tr>\n",
       "  </tbody>\n",
       "</table>\n",
       "<p>113 rows × 5 columns</p>\n",
       "</div>"
      ],
      "text/plain": [
       "           year                         name     type  \\\n",
       "title                                                   \n",
       "Star Wars  1977                Peter Diamond    actor   \n",
       "Star Wars  1977            Mark (III) Austin    actor   \n",
       "Star Wars  1977                 Grant McCune    actor   \n",
       "Star Wars  1977             Diana Sadley Way  actress   \n",
       "Star Wars  1977                   John Sylla    actor   \n",
       "Star Wars  1977                Alec Guinness    actor   \n",
       "Star Wars  1977                  Eddie Byrne    actor   \n",
       "Star Wars  1977                Graham Ashley    actor   \n",
       "Star Wars  1977                Peter Diamond    actor   \n",
       "Star Wars  1977                 Salo Gardner    actor   \n",
       "Star Wars  1977              Warwick Diamond    actor   \n",
       "Star Wars  1977                     Jon Berg    actor   \n",
       "Star Wars  1977                    Tom Sylla    actor   \n",
       "Star Wars  1977                Barry Copping    actor   \n",
       "Star Wars  1977               Lightning Bear    actor   \n",
       "Star Wars  1977            Robert (V) Davies    actor   \n",
       "Star Wars  1977             Christine Hewett  actress   \n",
       "Star Wars  1977                Peter Diamond    actor   \n",
       "Star Wars  1977                  Barry Gnome    actor   \n",
       "Star Wars  1977                  Rusty Goffe    actor   \n",
       "Star Wars  1977                  Rusty Goffe    actor   \n",
       "Star Wars  1977                  Rusty Goffe    actor   \n",
       "Star Wars  1977                  Mark Hamill    actor   \n",
       "Star Wars  1977                Harry Fielder    actor   \n",
       "Star Wars  1977                Geoffrey Moon    actor   \n",
       "Star Wars  1977                 Frank Henson    actor   \n",
       "Star Wars  1977                  Isaac Grand    actor   \n",
       "Star Wars  1977                  Scott Beach    actor   \n",
       "Star Wars  1977                 Doug Beswick    actor   \n",
       "Star Wars  1977                 Ted Gagliano    actor   \n",
       "...         ...                          ...      ...   \n",
       "Star Wars  1977                     Joe Kaye    actor   \n",
       "Star Wars  1977                 Morgan Upton    actor   \n",
       "Star Wars  1977                 Alfie Curtis    actor   \n",
       "Star Wars  1977         Richard LeParmentier    actor   \n",
       "Star Wars  1977               Frazer Diamond    actor   \n",
       "Star Wars  1977                Marcus Powell    actor   \n",
       "Star Wars  1977            Peter (II) Mayhew    actor   \n",
       "Star Wars  1977                   Al Lampert    actor   \n",
       "Star Wars  1977                  Hal Wamsley    actor   \n",
       "Star Wars  1977  Frances Alfred Basil Tomlin    actor   \n",
       "Star Wars  1977             Larry (III) Ward    actor   \n",
       "Star Wars  1977                Peter Cushing    actor   \n",
       "Star Wars  1977               Burnell Tucker    actor   \n",
       "Star Wars  1977                Jeremy Sinden    actor   \n",
       "Star Wars  1977                Harrison Ford    actor   \n",
       "Star Wars  1977               Peter Sturgeon    actor   \n",
       "Star Wars  1977                Carrie Fisher  actress   \n",
       "Star Wars  1977               Angela Staines  actress   \n",
       "Star Wars  1977                 Tommy Ilsley    actor   \n",
       "Star Wars  1977                Annette Jones  actress   \n",
       "Star Wars  1977                  Harold Weed    actor   \n",
       "Star Wars  1977                Rick McCallum    actor   \n",
       "Star Wars  1977                  Kenny Baker    actor   \n",
       "Star Wars  1977                Melissa Kurtz  actress   \n",
       "Star Wars  1977             Janice Burchette  actress   \n",
       "Star Wars  1977               Alex McCrindle    actor   \n",
       "Star Wars  1977                 George Stock    actor   \n",
       "Star Wars  1977                 Denis Lawson    actor   \n",
       "Star Wars  1977                   Alf Mangan    actor   \n",
       "Star Wars  1977                  Harold Weed    actor   \n",
       "\n",
       "                                character     n  \n",
       "title                                            \n",
       "Star Wars                   Tusken Raider   NaN  \n",
       "Star Wars     Boba Fett (special edition)   NaN  \n",
       "Star Wars               Death Star Gunner   NaN  \n",
       "Star Wars                           Thuku   NaN  \n",
       "Star Wars                  Cantina Voices   NaN  \n",
       "Star Wars              Ben Obi-Wan Kenobi   5.0  \n",
       "Star Wars                 General Willard  15.0  \n",
       "Star Wars                       Gold Five  23.0  \n",
       "Star Wars              Death Star Trooper   NaN  \n",
       "Star Wars                  Cantina Patron   NaN  \n",
       "Star Wars                            Jawa   NaN  \n",
       "Star Wars                   Cantina Alien   NaN  \n",
       "Star Wars      Massassi Outpost Announcer   NaN  \n",
       "Star Wars                         Wioslea   NaN  \n",
       "Star Wars                    Stormtrooper   NaN  \n",
       "Star Wars                  Cantina Patron   NaN  \n",
       "Star Wars                    Brea Tonnika   NaN  \n",
       "Star Wars                    Garouf Lafoe   NaN  \n",
       "Star Wars                            Kabe   NaN  \n",
       "Star Wars                      GONK Droid   NaN  \n",
       "Star Wars                            Jawa   NaN  \n",
       "Star Wars                            Kabe   NaN  \n",
       "Star Wars                  Luke Skywalker   1.0  \n",
       "Star Wars              Death Star Trooper   NaN  \n",
       "Star Wars                  Cantina Patron   NaN  \n",
       "Star Wars                    Stormtrooper   NaN  \n",
       "Star Wars                  Cantina Patron   NaN  \n",
       "Star Wars                    Stormtrooper   NaN  \n",
       "Star Wars                   Cantina Alien   NaN  \n",
       "Star Wars    Stormtrooper with Binoculars   NaN  \n",
       "...                                   ...   ...  \n",
       "Star Wars                       Solomohal   NaN  \n",
       "Star Wars                    Stormtrooper   NaN  \n",
       "Star Wars                      Dr. Evazan   NaN  \n",
       "Star Wars                   General Motti  25.0  \n",
       "Star Wars                            Jawa   NaN  \n",
       "Star Wars                    Rycar Ryjerd   NaN  \n",
       "Star Wars                       Chewbacca   8.0  \n",
       "Star Wars                       Daine Jir   NaN  \n",
       "Star Wars                            Jawa   NaN  \n",
       "Star Wars                          BoShek   NaN  \n",
       "Star Wars                          Greedo   NaN  \n",
       "Star Wars               Grand Moff Tarkin   4.0  \n",
       "Star Wars                       Del Goren   NaN  \n",
       "Star Wars                        Gold Two  22.0  \n",
       "Star Wars                        Han Solo   2.0  \n",
       "Star Wars                Sai'torr Kal Fas   NaN  \n",
       "Star Wars            Princess Leia Organa   3.0  \n",
       "Star Wars                   Senni Tonnika   NaN  \n",
       "Star Wars                      Ponda Baba   NaN  \n",
       "Star Wars                           Mosep   NaN  \n",
       "Star Wars                           Melas   NaN  \n",
       "Star Wars  Stormtrooper (special edition)   NaN  \n",
       "Star Wars                           R2-D2   7.0  \n",
       "Star Wars                            Jawa   NaN  \n",
       "Star Wars                    Nabrun Leids   NaN  \n",
       "Star Wars                 General Dodonna  14.0  \n",
       "Star Wars                  Cantina Patron   NaN  \n",
       "Star Wars                 Red Two (Wedge)  17.0  \n",
       "Star Wars                          Takeel   NaN  \n",
       "Star Wars                          Ketwol   NaN  \n",
       "\n",
       "[113 rows x 5 columns]"
      ]
     },
     "execution_count": 69,
     "metadata": {},
     "output_type": "execute_result"
    }
   ],
   "source": [
    "%%time\n",
    "c.loc['Star Wars']"
   ]
  },
  {
   "cell_type": "code",
   "execution_count": 65,
   "metadata": {
    "collapsed": false
   },
   "outputs": [
    {
     "name": "stdout",
     "output_type": "stream",
     "text": [
      "CPU times: user 13.1 s, sys: 2.17 s, total: 15.3 s\n",
      "Wall time: 16.3 s\n"
     ]
    }
   ],
   "source": [
    "%%time\n",
    "c = cast.set_index('title').sort_index()"
   ]
  },
  {
   "cell_type": "code",
   "execution_count": 66,
   "metadata": {
    "collapsed": false
   },
   "outputs": [
    {
     "data": {
      "text/html": [
       "<div>\n",
       "<table border=\"1\" class=\"dataframe\">\n",
       "  <thead>\n",
       "    <tr style=\"text-align: right;\">\n",
       "      <th></th>\n",
       "      <th>year</th>\n",
       "      <th>name</th>\n",
       "      <th>type</th>\n",
       "      <th>character</th>\n",
       "      <th>n</th>\n",
       "    </tr>\n",
       "    <tr>\n",
       "      <th>title</th>\n",
       "      <th></th>\n",
       "      <th></th>\n",
       "      <th></th>\n",
       "      <th></th>\n",
       "      <th></th>\n",
       "    </tr>\n",
       "  </thead>\n",
       "  <tbody>\n",
       "    <tr>\n",
       "      <th>#1 Serial Killer</th>\n",
       "      <td>2013</td>\n",
       "      <td>Eric (II) St. John</td>\n",
       "      <td>actor</td>\n",
       "      <td>Officer Williams</td>\n",
       "      <td>NaN</td>\n",
       "    </tr>\n",
       "    <tr>\n",
       "      <th>#1 Serial Killer</th>\n",
       "      <td>2013</td>\n",
       "      <td>Thomas Isao Morinaka</td>\n",
       "      <td>actor</td>\n",
       "      <td>Policeman #1</td>\n",
       "      <td>19.0</td>\n",
       "    </tr>\n",
       "    <tr>\n",
       "      <th>#1 Serial Killer</th>\n",
       "      <td>2013</td>\n",
       "      <td>Jinxia Ma</td>\n",
       "      <td>actress</td>\n",
       "      <td>Chinese Teacher</td>\n",
       "      <td>24.0</td>\n",
       "    </tr>\n",
       "    <tr>\n",
       "      <th>#1 Serial Killer</th>\n",
       "      <td>2013</td>\n",
       "      <td>Rane Jameson</td>\n",
       "      <td>actor</td>\n",
       "      <td>Micah Betancourt</td>\n",
       "      <td>6.0</td>\n",
       "    </tr>\n",
       "    <tr>\n",
       "      <th>#1 Serial Killer</th>\n",
       "      <td>2013</td>\n",
       "      <td>Zachary (X) Brown</td>\n",
       "      <td>actor</td>\n",
       "      <td>Africian American Teen</td>\n",
       "      <td>18.0</td>\n",
       "    </tr>\n",
       "  </tbody>\n",
       "</table>\n",
       "</div>"
      ],
      "text/plain": [
       "                  year                  name     type               character  \\\n",
       "title                                                                           \n",
       "#1 Serial Killer  2013    Eric (II) St. John    actor        Officer Williams   \n",
       "#1 Serial Killer  2013  Thomas Isao Morinaka    actor            Policeman #1   \n",
       "#1 Serial Killer  2013             Jinxia Ma  actress         Chinese Teacher   \n",
       "#1 Serial Killer  2013          Rane Jameson    actor        Micah Betancourt   \n",
       "#1 Serial Killer  2013     Zachary (X) Brown    actor  Africian American Teen   \n",
       "\n",
       "                     n  \n",
       "title                   \n",
       "#1 Serial Killer   NaN  \n",
       "#1 Serial Killer  19.0  \n",
       "#1 Serial Killer  24.0  \n",
       "#1 Serial Killer   6.0  \n",
       "#1 Serial Killer  18.0  "
      ]
     },
     "execution_count": 66,
     "metadata": {},
     "output_type": "execute_result"
    }
   ],
   "source": [
    "c.head(5)"
   ]
  },
  {
   "cell_type": "code",
   "execution_count": 67,
   "metadata": {
    "collapsed": false
   },
   "outputs": [
    {
     "name": "stdout",
     "output_type": "stream",
     "text": [
      "CPU times: user 1.22 s, sys: 333 ms, total: 1.55 s\n",
      "Wall time: 1.61 s\n"
     ]
    },
    {
     "data": {
      "text/html": [
       "<div>\n",
       "<table border=\"1\" class=\"dataframe\">\n",
       "  <thead>\n",
       "    <tr style=\"text-align: right;\">\n",
       "      <th></th>\n",
       "      <th>year</th>\n",
       "      <th>name</th>\n",
       "      <th>type</th>\n",
       "      <th>character</th>\n",
       "      <th>n</th>\n",
       "    </tr>\n",
       "    <tr>\n",
       "      <th>title</th>\n",
       "      <th></th>\n",
       "      <th></th>\n",
       "      <th></th>\n",
       "      <th></th>\n",
       "      <th></th>\n",
       "    </tr>\n",
       "  </thead>\n",
       "  <tbody>\n",
       "    <tr>\n",
       "      <th>Star Wars</th>\n",
       "      <td>1977</td>\n",
       "      <td>Peter Diamond</td>\n",
       "      <td>actor</td>\n",
       "      <td>Tusken Raider</td>\n",
       "      <td>NaN</td>\n",
       "    </tr>\n",
       "    <tr>\n",
       "      <th>Star Wars</th>\n",
       "      <td>1977</td>\n",
       "      <td>Mark (III) Austin</td>\n",
       "      <td>actor</td>\n",
       "      <td>Boba Fett (special edition)</td>\n",
       "      <td>NaN</td>\n",
       "    </tr>\n",
       "    <tr>\n",
       "      <th>Star Wars</th>\n",
       "      <td>1977</td>\n",
       "      <td>Grant McCune</td>\n",
       "      <td>actor</td>\n",
       "      <td>Death Star Gunner</td>\n",
       "      <td>NaN</td>\n",
       "    </tr>\n",
       "    <tr>\n",
       "      <th>Star Wars</th>\n",
       "      <td>1977</td>\n",
       "      <td>Diana Sadley Way</td>\n",
       "      <td>actress</td>\n",
       "      <td>Thuku</td>\n",
       "      <td>NaN</td>\n",
       "    </tr>\n",
       "    <tr>\n",
       "      <th>Star Wars</th>\n",
       "      <td>1977</td>\n",
       "      <td>John Sylla</td>\n",
       "      <td>actor</td>\n",
       "      <td>Cantina Voices</td>\n",
       "      <td>NaN</td>\n",
       "    </tr>\n",
       "    <tr>\n",
       "      <th>Star Wars</th>\n",
       "      <td>1977</td>\n",
       "      <td>Alec Guinness</td>\n",
       "      <td>actor</td>\n",
       "      <td>Ben Obi-Wan Kenobi</td>\n",
       "      <td>5.0</td>\n",
       "    </tr>\n",
       "    <tr>\n",
       "      <th>Star Wars</th>\n",
       "      <td>1977</td>\n",
       "      <td>Eddie Byrne</td>\n",
       "      <td>actor</td>\n",
       "      <td>General Willard</td>\n",
       "      <td>15.0</td>\n",
       "    </tr>\n",
       "    <tr>\n",
       "      <th>Star Wars</th>\n",
       "      <td>1977</td>\n",
       "      <td>Graham Ashley</td>\n",
       "      <td>actor</td>\n",
       "      <td>Gold Five</td>\n",
       "      <td>23.0</td>\n",
       "    </tr>\n",
       "    <tr>\n",
       "      <th>Star Wars</th>\n",
       "      <td>1977</td>\n",
       "      <td>Peter Diamond</td>\n",
       "      <td>actor</td>\n",
       "      <td>Death Star Trooper</td>\n",
       "      <td>NaN</td>\n",
       "    </tr>\n",
       "    <tr>\n",
       "      <th>Star Wars</th>\n",
       "      <td>1977</td>\n",
       "      <td>Salo Gardner</td>\n",
       "      <td>actor</td>\n",
       "      <td>Cantina Patron</td>\n",
       "      <td>NaN</td>\n",
       "    </tr>\n",
       "    <tr>\n",
       "      <th>Star Wars</th>\n",
       "      <td>1977</td>\n",
       "      <td>Warwick Diamond</td>\n",
       "      <td>actor</td>\n",
       "      <td>Jawa</td>\n",
       "      <td>NaN</td>\n",
       "    </tr>\n",
       "    <tr>\n",
       "      <th>Star Wars</th>\n",
       "      <td>1977</td>\n",
       "      <td>Jon Berg</td>\n",
       "      <td>actor</td>\n",
       "      <td>Cantina Alien</td>\n",
       "      <td>NaN</td>\n",
       "    </tr>\n",
       "    <tr>\n",
       "      <th>Star Wars</th>\n",
       "      <td>1977</td>\n",
       "      <td>Tom Sylla</td>\n",
       "      <td>actor</td>\n",
       "      <td>Massassi Outpost Announcer</td>\n",
       "      <td>NaN</td>\n",
       "    </tr>\n",
       "    <tr>\n",
       "      <th>Star Wars</th>\n",
       "      <td>1977</td>\n",
       "      <td>Barry Copping</td>\n",
       "      <td>actor</td>\n",
       "      <td>Wioslea</td>\n",
       "      <td>NaN</td>\n",
       "    </tr>\n",
       "    <tr>\n",
       "      <th>Star Wars</th>\n",
       "      <td>1977</td>\n",
       "      <td>Lightning Bear</td>\n",
       "      <td>actor</td>\n",
       "      <td>Stormtrooper</td>\n",
       "      <td>NaN</td>\n",
       "    </tr>\n",
       "    <tr>\n",
       "      <th>Star Wars</th>\n",
       "      <td>1977</td>\n",
       "      <td>Robert (V) Davies</td>\n",
       "      <td>actor</td>\n",
       "      <td>Cantina Patron</td>\n",
       "      <td>NaN</td>\n",
       "    </tr>\n",
       "    <tr>\n",
       "      <th>Star Wars</th>\n",
       "      <td>1977</td>\n",
       "      <td>Christine Hewett</td>\n",
       "      <td>actress</td>\n",
       "      <td>Brea Tonnika</td>\n",
       "      <td>NaN</td>\n",
       "    </tr>\n",
       "    <tr>\n",
       "      <th>Star Wars</th>\n",
       "      <td>1977</td>\n",
       "      <td>Peter Diamond</td>\n",
       "      <td>actor</td>\n",
       "      <td>Garouf Lafoe</td>\n",
       "      <td>NaN</td>\n",
       "    </tr>\n",
       "    <tr>\n",
       "      <th>Star Wars</th>\n",
       "      <td>1977</td>\n",
       "      <td>Barry Gnome</td>\n",
       "      <td>actor</td>\n",
       "      <td>Kabe</td>\n",
       "      <td>NaN</td>\n",
       "    </tr>\n",
       "    <tr>\n",
       "      <th>Star Wars</th>\n",
       "      <td>1977</td>\n",
       "      <td>Rusty Goffe</td>\n",
       "      <td>actor</td>\n",
       "      <td>GONK Droid</td>\n",
       "      <td>NaN</td>\n",
       "    </tr>\n",
       "    <tr>\n",
       "      <th>Star Wars</th>\n",
       "      <td>1977</td>\n",
       "      <td>Rusty Goffe</td>\n",
       "      <td>actor</td>\n",
       "      <td>Jawa</td>\n",
       "      <td>NaN</td>\n",
       "    </tr>\n",
       "    <tr>\n",
       "      <th>Star Wars</th>\n",
       "      <td>1977</td>\n",
       "      <td>Rusty Goffe</td>\n",
       "      <td>actor</td>\n",
       "      <td>Kabe</td>\n",
       "      <td>NaN</td>\n",
       "    </tr>\n",
       "    <tr>\n",
       "      <th>Star Wars</th>\n",
       "      <td>1977</td>\n",
       "      <td>Mark Hamill</td>\n",
       "      <td>actor</td>\n",
       "      <td>Luke Skywalker</td>\n",
       "      <td>1.0</td>\n",
       "    </tr>\n",
       "    <tr>\n",
       "      <th>Star Wars</th>\n",
       "      <td>1977</td>\n",
       "      <td>Harry Fielder</td>\n",
       "      <td>actor</td>\n",
       "      <td>Death Star Trooper</td>\n",
       "      <td>NaN</td>\n",
       "    </tr>\n",
       "    <tr>\n",
       "      <th>Star Wars</th>\n",
       "      <td>1977</td>\n",
       "      <td>Geoffrey Moon</td>\n",
       "      <td>actor</td>\n",
       "      <td>Cantina Patron</td>\n",
       "      <td>NaN</td>\n",
       "    </tr>\n",
       "    <tr>\n",
       "      <th>Star Wars</th>\n",
       "      <td>1977</td>\n",
       "      <td>Frank Henson</td>\n",
       "      <td>actor</td>\n",
       "      <td>Stormtrooper</td>\n",
       "      <td>NaN</td>\n",
       "    </tr>\n",
       "    <tr>\n",
       "      <th>Star Wars</th>\n",
       "      <td>1977</td>\n",
       "      <td>Isaac Grand</td>\n",
       "      <td>actor</td>\n",
       "      <td>Cantina Patron</td>\n",
       "      <td>NaN</td>\n",
       "    </tr>\n",
       "    <tr>\n",
       "      <th>Star Wars</th>\n",
       "      <td>1977</td>\n",
       "      <td>Scott Beach</td>\n",
       "      <td>actor</td>\n",
       "      <td>Stormtrooper</td>\n",
       "      <td>NaN</td>\n",
       "    </tr>\n",
       "    <tr>\n",
       "      <th>Star Wars</th>\n",
       "      <td>1977</td>\n",
       "      <td>Doug Beswick</td>\n",
       "      <td>actor</td>\n",
       "      <td>Cantina Alien</td>\n",
       "      <td>NaN</td>\n",
       "    </tr>\n",
       "    <tr>\n",
       "      <th>Star Wars</th>\n",
       "      <td>1977</td>\n",
       "      <td>Ted Gagliano</td>\n",
       "      <td>actor</td>\n",
       "      <td>Stormtrooper with Binoculars</td>\n",
       "      <td>NaN</td>\n",
       "    </tr>\n",
       "    <tr>\n",
       "      <th>...</th>\n",
       "      <td>...</td>\n",
       "      <td>...</td>\n",
       "      <td>...</td>\n",
       "      <td>...</td>\n",
       "      <td>...</td>\n",
       "    </tr>\n",
       "    <tr>\n",
       "      <th>Star Wars</th>\n",
       "      <td>1977</td>\n",
       "      <td>Joe Kaye</td>\n",
       "      <td>actor</td>\n",
       "      <td>Solomohal</td>\n",
       "      <td>NaN</td>\n",
       "    </tr>\n",
       "    <tr>\n",
       "      <th>Star Wars</th>\n",
       "      <td>1977</td>\n",
       "      <td>Morgan Upton</td>\n",
       "      <td>actor</td>\n",
       "      <td>Stormtrooper</td>\n",
       "      <td>NaN</td>\n",
       "    </tr>\n",
       "    <tr>\n",
       "      <th>Star Wars</th>\n",
       "      <td>1977</td>\n",
       "      <td>Alfie Curtis</td>\n",
       "      <td>actor</td>\n",
       "      <td>Dr. Evazan</td>\n",
       "      <td>NaN</td>\n",
       "    </tr>\n",
       "    <tr>\n",
       "      <th>Star Wars</th>\n",
       "      <td>1977</td>\n",
       "      <td>Richard LeParmentier</td>\n",
       "      <td>actor</td>\n",
       "      <td>General Motti</td>\n",
       "      <td>25.0</td>\n",
       "    </tr>\n",
       "    <tr>\n",
       "      <th>Star Wars</th>\n",
       "      <td>1977</td>\n",
       "      <td>Frazer Diamond</td>\n",
       "      <td>actor</td>\n",
       "      <td>Jawa</td>\n",
       "      <td>NaN</td>\n",
       "    </tr>\n",
       "    <tr>\n",
       "      <th>Star Wars</th>\n",
       "      <td>1977</td>\n",
       "      <td>Marcus Powell</td>\n",
       "      <td>actor</td>\n",
       "      <td>Rycar Ryjerd</td>\n",
       "      <td>NaN</td>\n",
       "    </tr>\n",
       "    <tr>\n",
       "      <th>Star Wars</th>\n",
       "      <td>1977</td>\n",
       "      <td>Peter (II) Mayhew</td>\n",
       "      <td>actor</td>\n",
       "      <td>Chewbacca</td>\n",
       "      <td>8.0</td>\n",
       "    </tr>\n",
       "    <tr>\n",
       "      <th>Star Wars</th>\n",
       "      <td>1977</td>\n",
       "      <td>Al Lampert</td>\n",
       "      <td>actor</td>\n",
       "      <td>Daine Jir</td>\n",
       "      <td>NaN</td>\n",
       "    </tr>\n",
       "    <tr>\n",
       "      <th>Star Wars</th>\n",
       "      <td>1977</td>\n",
       "      <td>Hal Wamsley</td>\n",
       "      <td>actor</td>\n",
       "      <td>Jawa</td>\n",
       "      <td>NaN</td>\n",
       "    </tr>\n",
       "    <tr>\n",
       "      <th>Star Wars</th>\n",
       "      <td>1977</td>\n",
       "      <td>Frances Alfred Basil Tomlin</td>\n",
       "      <td>actor</td>\n",
       "      <td>BoShek</td>\n",
       "      <td>NaN</td>\n",
       "    </tr>\n",
       "    <tr>\n",
       "      <th>Star Wars</th>\n",
       "      <td>1977</td>\n",
       "      <td>Larry (III) Ward</td>\n",
       "      <td>actor</td>\n",
       "      <td>Greedo</td>\n",
       "      <td>NaN</td>\n",
       "    </tr>\n",
       "    <tr>\n",
       "      <th>Star Wars</th>\n",
       "      <td>1977</td>\n",
       "      <td>Peter Cushing</td>\n",
       "      <td>actor</td>\n",
       "      <td>Grand Moff Tarkin</td>\n",
       "      <td>4.0</td>\n",
       "    </tr>\n",
       "    <tr>\n",
       "      <th>Star Wars</th>\n",
       "      <td>1977</td>\n",
       "      <td>Burnell Tucker</td>\n",
       "      <td>actor</td>\n",
       "      <td>Del Goren</td>\n",
       "      <td>NaN</td>\n",
       "    </tr>\n",
       "    <tr>\n",
       "      <th>Star Wars</th>\n",
       "      <td>1977</td>\n",
       "      <td>Jeremy Sinden</td>\n",
       "      <td>actor</td>\n",
       "      <td>Gold Two</td>\n",
       "      <td>22.0</td>\n",
       "    </tr>\n",
       "    <tr>\n",
       "      <th>Star Wars</th>\n",
       "      <td>1977</td>\n",
       "      <td>Harrison Ford</td>\n",
       "      <td>actor</td>\n",
       "      <td>Han Solo</td>\n",
       "      <td>2.0</td>\n",
       "    </tr>\n",
       "    <tr>\n",
       "      <th>Star Wars</th>\n",
       "      <td>1977</td>\n",
       "      <td>Peter Sturgeon</td>\n",
       "      <td>actor</td>\n",
       "      <td>Sai'torr Kal Fas</td>\n",
       "      <td>NaN</td>\n",
       "    </tr>\n",
       "    <tr>\n",
       "      <th>Star Wars</th>\n",
       "      <td>1977</td>\n",
       "      <td>Carrie Fisher</td>\n",
       "      <td>actress</td>\n",
       "      <td>Princess Leia Organa</td>\n",
       "      <td>3.0</td>\n",
       "    </tr>\n",
       "    <tr>\n",
       "      <th>Star Wars</th>\n",
       "      <td>1977</td>\n",
       "      <td>Angela Staines</td>\n",
       "      <td>actress</td>\n",
       "      <td>Senni Tonnika</td>\n",
       "      <td>NaN</td>\n",
       "    </tr>\n",
       "    <tr>\n",
       "      <th>Star Wars</th>\n",
       "      <td>1977</td>\n",
       "      <td>Tommy Ilsley</td>\n",
       "      <td>actor</td>\n",
       "      <td>Ponda Baba</td>\n",
       "      <td>NaN</td>\n",
       "    </tr>\n",
       "    <tr>\n",
       "      <th>Star Wars</th>\n",
       "      <td>1977</td>\n",
       "      <td>Annette Jones</td>\n",
       "      <td>actress</td>\n",
       "      <td>Mosep</td>\n",
       "      <td>NaN</td>\n",
       "    </tr>\n",
       "    <tr>\n",
       "      <th>Star Wars</th>\n",
       "      <td>1977</td>\n",
       "      <td>Harold Weed</td>\n",
       "      <td>actor</td>\n",
       "      <td>Melas</td>\n",
       "      <td>NaN</td>\n",
       "    </tr>\n",
       "    <tr>\n",
       "      <th>Star Wars</th>\n",
       "      <td>1977</td>\n",
       "      <td>Rick McCallum</td>\n",
       "      <td>actor</td>\n",
       "      <td>Stormtrooper (special edition)</td>\n",
       "      <td>NaN</td>\n",
       "    </tr>\n",
       "    <tr>\n",
       "      <th>Star Wars</th>\n",
       "      <td>1977</td>\n",
       "      <td>Kenny Baker</td>\n",
       "      <td>actor</td>\n",
       "      <td>R2-D2</td>\n",
       "      <td>7.0</td>\n",
       "    </tr>\n",
       "    <tr>\n",
       "      <th>Star Wars</th>\n",
       "      <td>1977</td>\n",
       "      <td>Melissa Kurtz</td>\n",
       "      <td>actress</td>\n",
       "      <td>Jawa</td>\n",
       "      <td>NaN</td>\n",
       "    </tr>\n",
       "    <tr>\n",
       "      <th>Star Wars</th>\n",
       "      <td>1977</td>\n",
       "      <td>Janice Burchette</td>\n",
       "      <td>actress</td>\n",
       "      <td>Nabrun Leids</td>\n",
       "      <td>NaN</td>\n",
       "    </tr>\n",
       "    <tr>\n",
       "      <th>Star Wars</th>\n",
       "      <td>1977</td>\n",
       "      <td>Alex McCrindle</td>\n",
       "      <td>actor</td>\n",
       "      <td>General Dodonna</td>\n",
       "      <td>14.0</td>\n",
       "    </tr>\n",
       "    <tr>\n",
       "      <th>Star Wars</th>\n",
       "      <td>1977</td>\n",
       "      <td>George Stock</td>\n",
       "      <td>actor</td>\n",
       "      <td>Cantina Patron</td>\n",
       "      <td>NaN</td>\n",
       "    </tr>\n",
       "    <tr>\n",
       "      <th>Star Wars</th>\n",
       "      <td>1977</td>\n",
       "      <td>Denis Lawson</td>\n",
       "      <td>actor</td>\n",
       "      <td>Red Two (Wedge)</td>\n",
       "      <td>17.0</td>\n",
       "    </tr>\n",
       "    <tr>\n",
       "      <th>Star Wars</th>\n",
       "      <td>1977</td>\n",
       "      <td>Alf Mangan</td>\n",
       "      <td>actor</td>\n",
       "      <td>Takeel</td>\n",
       "      <td>NaN</td>\n",
       "    </tr>\n",
       "    <tr>\n",
       "      <th>Star Wars</th>\n",
       "      <td>1977</td>\n",
       "      <td>Harold Weed</td>\n",
       "      <td>actor</td>\n",
       "      <td>Ketwol</td>\n",
       "      <td>NaN</td>\n",
       "    </tr>\n",
       "  </tbody>\n",
       "</table>\n",
       "<p>113 rows × 5 columns</p>\n",
       "</div>"
      ],
      "text/plain": [
       "           year                         name     type  \\\n",
       "title                                                   \n",
       "Star Wars  1977                Peter Diamond    actor   \n",
       "Star Wars  1977            Mark (III) Austin    actor   \n",
       "Star Wars  1977                 Grant McCune    actor   \n",
       "Star Wars  1977             Diana Sadley Way  actress   \n",
       "Star Wars  1977                   John Sylla    actor   \n",
       "Star Wars  1977                Alec Guinness    actor   \n",
       "Star Wars  1977                  Eddie Byrne    actor   \n",
       "Star Wars  1977                Graham Ashley    actor   \n",
       "Star Wars  1977                Peter Diamond    actor   \n",
       "Star Wars  1977                 Salo Gardner    actor   \n",
       "Star Wars  1977              Warwick Diamond    actor   \n",
       "Star Wars  1977                     Jon Berg    actor   \n",
       "Star Wars  1977                    Tom Sylla    actor   \n",
       "Star Wars  1977                Barry Copping    actor   \n",
       "Star Wars  1977               Lightning Bear    actor   \n",
       "Star Wars  1977            Robert (V) Davies    actor   \n",
       "Star Wars  1977             Christine Hewett  actress   \n",
       "Star Wars  1977                Peter Diamond    actor   \n",
       "Star Wars  1977                  Barry Gnome    actor   \n",
       "Star Wars  1977                  Rusty Goffe    actor   \n",
       "Star Wars  1977                  Rusty Goffe    actor   \n",
       "Star Wars  1977                  Rusty Goffe    actor   \n",
       "Star Wars  1977                  Mark Hamill    actor   \n",
       "Star Wars  1977                Harry Fielder    actor   \n",
       "Star Wars  1977                Geoffrey Moon    actor   \n",
       "Star Wars  1977                 Frank Henson    actor   \n",
       "Star Wars  1977                  Isaac Grand    actor   \n",
       "Star Wars  1977                  Scott Beach    actor   \n",
       "Star Wars  1977                 Doug Beswick    actor   \n",
       "Star Wars  1977                 Ted Gagliano    actor   \n",
       "...         ...                          ...      ...   \n",
       "Star Wars  1977                     Joe Kaye    actor   \n",
       "Star Wars  1977                 Morgan Upton    actor   \n",
       "Star Wars  1977                 Alfie Curtis    actor   \n",
       "Star Wars  1977         Richard LeParmentier    actor   \n",
       "Star Wars  1977               Frazer Diamond    actor   \n",
       "Star Wars  1977                Marcus Powell    actor   \n",
       "Star Wars  1977            Peter (II) Mayhew    actor   \n",
       "Star Wars  1977                   Al Lampert    actor   \n",
       "Star Wars  1977                  Hal Wamsley    actor   \n",
       "Star Wars  1977  Frances Alfred Basil Tomlin    actor   \n",
       "Star Wars  1977             Larry (III) Ward    actor   \n",
       "Star Wars  1977                Peter Cushing    actor   \n",
       "Star Wars  1977               Burnell Tucker    actor   \n",
       "Star Wars  1977                Jeremy Sinden    actor   \n",
       "Star Wars  1977                Harrison Ford    actor   \n",
       "Star Wars  1977               Peter Sturgeon    actor   \n",
       "Star Wars  1977                Carrie Fisher  actress   \n",
       "Star Wars  1977               Angela Staines  actress   \n",
       "Star Wars  1977                 Tommy Ilsley    actor   \n",
       "Star Wars  1977                Annette Jones  actress   \n",
       "Star Wars  1977                  Harold Weed    actor   \n",
       "Star Wars  1977                Rick McCallum    actor   \n",
       "Star Wars  1977                  Kenny Baker    actor   \n",
       "Star Wars  1977                Melissa Kurtz  actress   \n",
       "Star Wars  1977             Janice Burchette  actress   \n",
       "Star Wars  1977               Alex McCrindle    actor   \n",
       "Star Wars  1977                 George Stock    actor   \n",
       "Star Wars  1977                 Denis Lawson    actor   \n",
       "Star Wars  1977                   Alf Mangan    actor   \n",
       "Star Wars  1977                  Harold Weed    actor   \n",
       "\n",
       "                                character     n  \n",
       "title                                            \n",
       "Star Wars                   Tusken Raider   NaN  \n",
       "Star Wars     Boba Fett (special edition)   NaN  \n",
       "Star Wars               Death Star Gunner   NaN  \n",
       "Star Wars                           Thuku   NaN  \n",
       "Star Wars                  Cantina Voices   NaN  \n",
       "Star Wars              Ben Obi-Wan Kenobi   5.0  \n",
       "Star Wars                 General Willard  15.0  \n",
       "Star Wars                       Gold Five  23.0  \n",
       "Star Wars              Death Star Trooper   NaN  \n",
       "Star Wars                  Cantina Patron   NaN  \n",
       "Star Wars                            Jawa   NaN  \n",
       "Star Wars                   Cantina Alien   NaN  \n",
       "Star Wars      Massassi Outpost Announcer   NaN  \n",
       "Star Wars                         Wioslea   NaN  \n",
       "Star Wars                    Stormtrooper   NaN  \n",
       "Star Wars                  Cantina Patron   NaN  \n",
       "Star Wars                    Brea Tonnika   NaN  \n",
       "Star Wars                    Garouf Lafoe   NaN  \n",
       "Star Wars                            Kabe   NaN  \n",
       "Star Wars                      GONK Droid   NaN  \n",
       "Star Wars                            Jawa   NaN  \n",
       "Star Wars                            Kabe   NaN  \n",
       "Star Wars                  Luke Skywalker   1.0  \n",
       "Star Wars              Death Star Trooper   NaN  \n",
       "Star Wars                  Cantina Patron   NaN  \n",
       "Star Wars                    Stormtrooper   NaN  \n",
       "Star Wars                  Cantina Patron   NaN  \n",
       "Star Wars                    Stormtrooper   NaN  \n",
       "Star Wars                   Cantina Alien   NaN  \n",
       "Star Wars    Stormtrooper with Binoculars   NaN  \n",
       "...                                   ...   ...  \n",
       "Star Wars                       Solomohal   NaN  \n",
       "Star Wars                    Stormtrooper   NaN  \n",
       "Star Wars                      Dr. Evazan   NaN  \n",
       "Star Wars                   General Motti  25.0  \n",
       "Star Wars                            Jawa   NaN  \n",
       "Star Wars                    Rycar Ryjerd   NaN  \n",
       "Star Wars                       Chewbacca   8.0  \n",
       "Star Wars                       Daine Jir   NaN  \n",
       "Star Wars                            Jawa   NaN  \n",
       "Star Wars                          BoShek   NaN  \n",
       "Star Wars                          Greedo   NaN  \n",
       "Star Wars               Grand Moff Tarkin   4.0  \n",
       "Star Wars                       Del Goren   NaN  \n",
       "Star Wars                        Gold Two  22.0  \n",
       "Star Wars                        Han Solo   2.0  \n",
       "Star Wars                Sai'torr Kal Fas   NaN  \n",
       "Star Wars            Princess Leia Organa   3.0  \n",
       "Star Wars                   Senni Tonnika   NaN  \n",
       "Star Wars                      Ponda Baba   NaN  \n",
       "Star Wars                           Mosep   NaN  \n",
       "Star Wars                           Melas   NaN  \n",
       "Star Wars  Stormtrooper (special edition)   NaN  \n",
       "Star Wars                           R2-D2   7.0  \n",
       "Star Wars                            Jawa   NaN  \n",
       "Star Wars                    Nabrun Leids   NaN  \n",
       "Star Wars                 General Dodonna  14.0  \n",
       "Star Wars                  Cantina Patron   NaN  \n",
       "Star Wars                 Red Two (Wedge)  17.0  \n",
       "Star Wars                          Takeel   NaN  \n",
       "Star Wars                          Ketwol   NaN  \n",
       "\n",
       "[113 rows x 5 columns]"
      ]
     },
     "execution_count": 67,
     "metadata": {},
     "output_type": "execute_result"
    }
   ],
   "source": [
    "%%time\n",
    "c.loc['Star Wars']"
   ]
  },
  {
   "cell_type": "code",
   "execution_count": 28,
   "metadata": {
    "collapsed": false
   },
   "outputs": [
    {
     "name": "stderr",
     "output_type": "stream",
     "text": [
      "/Users/mjlivingston/anaconda/lib/python3.5/site-packages/ipykernel/__main__.py:1: FutureWarning: sort(columns=....) is deprecated, use sort_values(by=.....)\n",
      "  if __name__ == '__main__':\n"
     ]
    },
    {
     "data": {
      "text/html": [
       "<div>\n",
       "<table border=\"1\" class=\"dataframe\">\n",
       "  <thead>\n",
       "    <tr style=\"text-align: right;\">\n",
       "      <th></th>\n",
       "      <th>year</th>\n",
       "    </tr>\n",
       "    <tr>\n",
       "      <th>title</th>\n",
       "      <th></th>\n",
       "    </tr>\n",
       "  </thead>\n",
       "  <tbody>\n",
       "    <tr>\n",
       "      <th>Hamlet</th>\n",
       "      <td>19</td>\n",
       "    </tr>\n",
       "    <tr>\n",
       "      <th>Macbeth</th>\n",
       "      <td>15</td>\n",
       "    </tr>\n",
       "    <tr>\n",
       "      <th>Carmen</th>\n",
       "      <td>15</td>\n",
       "    </tr>\n",
       "    <tr>\n",
       "      <th>Othello</th>\n",
       "      <td>11</td>\n",
       "    </tr>\n",
       "    <tr>\n",
       "      <th>Hero</th>\n",
       "      <td>11</td>\n",
       "    </tr>\n",
       "    <tr>\n",
       "      <th>The Outsider</th>\n",
       "      <td>11</td>\n",
       "    </tr>\n",
       "    <tr>\n",
       "      <th>The Three Musketeers</th>\n",
       "      <td>11</td>\n",
       "    </tr>\n",
       "    <tr>\n",
       "      <th>Maya</th>\n",
       "      <td>11</td>\n",
       "    </tr>\n",
       "    <tr>\n",
       "      <th>Vengeance</th>\n",
       "      <td>10</td>\n",
       "    </tr>\n",
       "    <tr>\n",
       "      <th>She</th>\n",
       "      <td>10</td>\n",
       "    </tr>\n",
       "  </tbody>\n",
       "</table>\n",
       "</div>"
      ],
      "text/plain": [
       "                      year\n",
       "title                     \n",
       "Hamlet                  19\n",
       "Macbeth                 15\n",
       "Carmen                  15\n",
       "Othello                 11\n",
       "Hero                    11\n",
       "The Outsider            11\n",
       "The Three Musketeers    11\n",
       "Maya                    11\n",
       "Vengeance               10\n",
       "She                     10"
      ]
     },
     "execution_count": 28,
     "metadata": {},
     "output_type": "execute_result"
    }
   ],
   "source": [
    "titles.groupby('title').agg('count').sort('year',ascending=0).head(10)"
   ]
  },
  {
   "cell_type": "code",
   "execution_count": 27,
   "metadata": {
    "collapsed": false
   },
   "outputs": [
    {
     "data": {
      "text/plain": [
       "Hamlet                  19\n",
       "Carmen                  15\n",
       "Macbeth                 15\n",
       "The Three Musketeers    11\n",
       "Othello                 11\n",
       "The Outsider            11\n",
       "Hero                    11\n",
       "Maya                    11\n",
       "Anna                    10\n",
       "Anna Karenina           10\n",
       "Name: title, dtype: int64"
      ]
     },
     "execution_count": 27,
     "metadata": {},
     "output_type": "execute_result"
    }
   ],
   "source": [
    "titles.title.value_counts().head(10)"
   ]
  },
  {
   "cell_type": "code",
   "execution_count": 29,
   "metadata": {
    "collapsed": true
   },
   "outputs": [],
   "source": [
    "t = titles\n",
    "t = t[t.year // 10 == 193]"
   ]
  },
  {
   "cell_type": "code",
   "execution_count": 30,
   "metadata": {
    "collapsed": false
   },
   "outputs": [
    {
     "data": {
      "text/html": [
       "<div>\n",
       "<table border=\"1\" class=\"dataframe\">\n",
       "  <thead>\n",
       "    <tr style=\"text-align: right;\">\n",
       "      <th></th>\n",
       "      <th>title</th>\n",
       "      <th>year</th>\n",
       "    </tr>\n",
       "  </thead>\n",
       "  <tbody>\n",
       "    <tr>\n",
       "      <th>11</th>\n",
       "      <td>Gunsmoke Ranch</td>\n",
       "      <td>1937</td>\n",
       "    </tr>\n",
       "    <tr>\n",
       "      <th>33</th>\n",
       "      <td>The Virtuous Husband</td>\n",
       "      <td>1931</td>\n",
       "    </tr>\n",
       "    <tr>\n",
       "      <th>38</th>\n",
       "      <td>Against the Law</td>\n",
       "      <td>1934</td>\n",
       "    </tr>\n",
       "    <tr>\n",
       "      <th>45</th>\n",
       "      <td>Transgression</td>\n",
       "      <td>1931</td>\n",
       "    </tr>\n",
       "    <tr>\n",
       "      <th>52</th>\n",
       "      <td>Rien que des mensonges</td>\n",
       "      <td>1933</td>\n",
       "    </tr>\n",
       "  </tbody>\n",
       "</table>\n",
       "</div>"
      ],
      "text/plain": [
       "                     title  year\n",
       "11          Gunsmoke Ranch  1937\n",
       "33    The Virtuous Husband  1931\n",
       "38         Against the Law  1934\n",
       "45           Transgression  1931\n",
       "52  Rien que des mensonges  1933"
      ]
     },
     "execution_count": 30,
     "metadata": {},
     "output_type": "execute_result"
    }
   ],
   "source": [
    "t.head(5)"
   ]
  },
  {
   "cell_type": "code",
   "execution_count": 33,
   "metadata": {
    "collapsed": false
   },
   "outputs": [
    {
     "data": {
      "text/plain": [
       "Big Business             3\n",
       "Temptation               3\n",
       "The Life of the Party    3\n",
       "The Three Musketeers     3\n",
       "Stolen Heaven            2\n",
       "The Live Wire            2\n",
       "Bed and Breakfast        2\n",
       "The Lash                 2\n",
       "Holiday                  2\n",
       "Young Eagles             2\n",
       "Name: title, dtype: int64"
      ]
     },
     "execution_count": 33,
     "metadata": {},
     "output_type": "execute_result"
    }
   ],
   "source": [
    "t.title.value_counts().head(10)"
   ]
  },
  {
   "cell_type": "code",
   "execution_count": 34,
   "metadata": {
    "collapsed": true
   },
   "outputs": [],
   "source": [
    "w = t.year > 1985"
   ]
  },
  {
   "cell_type": "code",
   "execution_count": 35,
   "metadata": {
    "collapsed": false
   },
   "outputs": [
    {
     "data": {
      "text/plain": [
       "11    False\n",
       "33    False\n",
       "38    False\n",
       "45    False\n",
       "52    False\n",
       "Name: year, dtype: bool"
      ]
     },
     "execution_count": 35,
     "metadata": {},
     "output_type": "execute_result"
    }
   ],
   "source": [
    "w.head(5)"
   ]
  },
  {
   "cell_type": "code",
   "execution_count": 36,
   "metadata": {
    "collapsed": true
   },
   "outputs": [],
   "source": [
    "w = [t.year > 1985]"
   ]
  },
  {
   "cell_type": "code",
   "execution_count": 37,
   "metadata": {
    "collapsed": false
   },
   "outputs": [
    {
     "ename": "AttributeError",
     "evalue": "'list' object has no attribute 'head'",
     "output_type": "error",
     "traceback": [
      "\u001b[0;31m---------------------------------------------------------------------------\u001b[0m",
      "\u001b[0;31mAttributeError\u001b[0m                            Traceback (most recent call last)",
      "\u001b[0;32m<ipython-input-37-dc54cc89bd07>\u001b[0m in \u001b[0;36m<module>\u001b[0;34m()\u001b[0m\n\u001b[0;32m----> 1\u001b[0;31m \u001b[0mw\u001b[0m\u001b[0;34m.\u001b[0m\u001b[0mhead\u001b[0m\u001b[0;34m(\u001b[0m\u001b[0;36m10\u001b[0m\u001b[0;34m)\u001b[0m\u001b[0;34m\u001b[0m\u001b[0m\n\u001b[0m",
      "\u001b[0;31mAttributeError\u001b[0m: 'list' object has no attribute 'head'"
     ]
    }
   ],
   "source": [
    "w.head(10)"
   ]
  },
  {
   "cell_type": "code",
   "execution_count": 39,
   "metadata": {
    "collapsed": true
   },
   "outputs": [],
   "source": [
    "w = t[t.year > 1985]"
   ]
  },
  {
   "cell_type": "code",
   "execution_count": 40,
   "metadata": {
    "collapsed": false
   },
   "outputs": [
    {
     "data": {
      "text/html": [
       "<div>\n",
       "<table border=\"1\" class=\"dataframe\">\n",
       "  <thead>\n",
       "    <tr style=\"text-align: right;\">\n",
       "      <th></th>\n",
       "      <th>title</th>\n",
       "      <th>year</th>\n",
       "    </tr>\n",
       "  </thead>\n",
       "  <tbody>\n",
       "  </tbody>\n",
       "</table>\n",
       "</div>"
      ],
      "text/plain": [
       "Empty DataFrame\n",
       "Columns: [title, year]\n",
       "Index: []"
      ]
     },
     "execution_count": 40,
     "metadata": {},
     "output_type": "execute_result"
    }
   ],
   "source": [
    "w.head(5)"
   ]
  },
  {
   "cell_type": "code",
   "execution_count": 41,
   "metadata": {
    "collapsed": true
   },
   "outputs": [],
   "source": [
    "w = t[t.year < 1985]"
   ]
  },
  {
   "cell_type": "code",
   "execution_count": 45,
   "metadata": {
    "collapsed": false
   },
   "outputs": [
    {
     "name": "stderr",
     "output_type": "stream",
     "text": [
      "/Users/mjlivingston/anaconda/lib/python3.5/site-packages/ipykernel/__main__.py:1: FutureWarning: sort(columns=....) is deprecated, use sort_values(by=.....)\n",
      "  if __name__ == '__main__':\n"
     ]
    },
    {
     "data": {
      "text/html": [
       "<div>\n",
       "<table border=\"1\" class=\"dataframe\">\n",
       "  <thead>\n",
       "    <tr style=\"text-align: right;\">\n",
       "      <th></th>\n",
       "      <th>title</th>\n",
       "      <th>year</th>\n",
       "    </tr>\n",
       "  </thead>\n",
       "  <tbody>\n",
       "    <tr>\n",
       "      <th>228195</th>\n",
       "      <td>One Hour to Live</td>\n",
       "      <td>1939</td>\n",
       "    </tr>\n",
       "    <tr>\n",
       "      <th>35952</th>\n",
       "      <td>L'esclave blanche</td>\n",
       "      <td>1939</td>\n",
       "    </tr>\n",
       "    <tr>\n",
       "      <th>37509</th>\n",
       "      <td>Streets of New York</td>\n",
       "      <td>1939</td>\n",
       "    </tr>\n",
       "    <tr>\n",
       "      <th>37401</th>\n",
       "      <td>Gardons notre sourire</td>\n",
       "      <td>1939</td>\n",
       "    </tr>\n",
       "    <tr>\n",
       "      <th>37389</th>\n",
       "      <td>Divorcio en Montevideo</td>\n",
       "      <td>1939</td>\n",
       "    </tr>\n",
       "    <tr>\n",
       "      <th>139096</th>\n",
       "      <td>Allegri masnadieri</td>\n",
       "      <td>1939</td>\n",
       "    </tr>\n",
       "    <tr>\n",
       "      <th>37273</th>\n",
       "      <td>Zuihou de Banlu</td>\n",
       "      <td>1939</td>\n",
       "    </tr>\n",
       "    <tr>\n",
       "      <th>139228</th>\n",
       "      <td>On Your Toes</td>\n",
       "      <td>1939</td>\n",
       "    </tr>\n",
       "    <tr>\n",
       "      <th>139377</th>\n",
       "      <td>Due milioni per un sorriso</td>\n",
       "      <td>1939</td>\n",
       "    </tr>\n",
       "    <tr>\n",
       "      <th>37113</th>\n",
       "      <td>$1000 a Touchdown</td>\n",
       "      <td>1939</td>\n",
       "    </tr>\n",
       "    <tr>\n",
       "      <th>37081</th>\n",
       "      <td>Gunga Din</td>\n",
       "      <td>1939</td>\n",
       "    </tr>\n",
       "    <tr>\n",
       "      <th>37053</th>\n",
       "      <td>Ma tante dictateur</td>\n",
       "      <td>1939</td>\n",
       "    </tr>\n",
       "    <tr>\n",
       "      <th>140115</th>\n",
       "      <td>Code of the Secret Service</td>\n",
       "      <td>1939</td>\n",
       "    </tr>\n",
       "    <tr>\n",
       "      <th>140738</th>\n",
       "      <td>Bohemios</td>\n",
       "      <td>1939</td>\n",
       "    </tr>\n",
       "    <tr>\n",
       "      <th>140804</th>\n",
       "      <td>Radio Candelario</td>\n",
       "      <td>1939</td>\n",
       "    </tr>\n",
       "    <tr>\n",
       "      <th>140948</th>\n",
       "      <td>Zhengyi Duoqingzhong</td>\n",
       "      <td>1939</td>\n",
       "    </tr>\n",
       "    <tr>\n",
       "      <th>141008</th>\n",
       "      <td>Way Down South</td>\n",
       "      <td>1939</td>\n",
       "    </tr>\n",
       "    <tr>\n",
       "      <th>141593</th>\n",
       "      <td>No Place to Go</td>\n",
       "      <td>1939</td>\n",
       "    </tr>\n",
       "    <tr>\n",
       "      <th>141903</th>\n",
       "      <td>Ambush</td>\n",
       "      <td>1939</td>\n",
       "    </tr>\n",
       "    <tr>\n",
       "      <th>141956</th>\n",
       "      <td>Yanzhi Ma</td>\n",
       "      <td>1939</td>\n",
       "    </tr>\n",
       "    <tr>\n",
       "      <th>142040</th>\n",
       "      <td>Tarzan Finds a Son!</td>\n",
       "      <td>1939</td>\n",
       "    </tr>\n",
       "    <tr>\n",
       "      <th>142199</th>\n",
       "      <td>Fast and Furious</td>\n",
       "      <td>1939</td>\n",
       "    </tr>\n",
       "    <tr>\n",
       "      <th>142504</th>\n",
       "      <td>Straight to Heaven</td>\n",
       "      <td>1939</td>\n",
       "    </tr>\n",
       "    <tr>\n",
       "      <th>138395</th>\n",
       "      <td>Doktor Kalyuzhnyy</td>\n",
       "      <td>1939</td>\n",
       "    </tr>\n",
       "    <tr>\n",
       "      <th>138387</th>\n",
       "      <td>Everything Happens at Night</td>\n",
       "      <td>1939</td>\n",
       "    </tr>\n",
       "    <tr>\n",
       "      <th>37580</th>\n",
       "      <td>Le paradis des voleurs</td>\n",
       "      <td>1939</td>\n",
       "    </tr>\n",
       "    <tr>\n",
       "      <th>38111</th>\n",
       "      <td>Wife, Husband and Friend</td>\n",
       "      <td>1939</td>\n",
       "    </tr>\n",
       "    <tr>\n",
       "      <th>135082</th>\n",
       "      <td>I Killed the Count</td>\n",
       "      <td>1939</td>\n",
       "    </tr>\n",
       "    <tr>\n",
       "      <th>135100</th>\n",
       "      <td>La grande luce - Montevergine</td>\n",
       "      <td>1939</td>\n",
       "    </tr>\n",
       "    <tr>\n",
       "      <th>135248</th>\n",
       "      <td>Papa Soltero</td>\n",
       "      <td>1939</td>\n",
       "    </tr>\n",
       "    <tr>\n",
       "      <th>...</th>\n",
       "      <td>...</td>\n",
       "      <td>...</td>\n",
       "    </tr>\n",
       "    <tr>\n",
       "      <th>160677</th>\n",
       "      <td>Three Faces East</td>\n",
       "      <td>1930</td>\n",
       "    </tr>\n",
       "    <tr>\n",
       "      <th>29355</th>\n",
       "      <td>Hell Harbor</td>\n",
       "      <td>1930</td>\n",
       "    </tr>\n",
       "    <tr>\n",
       "      <th>45076</th>\n",
       "      <td>Fridas visor</td>\n",
       "      <td>1930</td>\n",
       "    </tr>\n",
       "    <tr>\n",
       "      <th>119868</th>\n",
       "      <td>Should a Girl Marry?</td>\n",
       "      <td>1930</td>\n",
       "    </tr>\n",
       "    <tr>\n",
       "      <th>89528</th>\n",
       "      <td>Common Clay</td>\n",
       "      <td>1930</td>\n",
       "    </tr>\n",
       "    <tr>\n",
       "      <th>119847</th>\n",
       "      <td>Voici dimanche</td>\n",
       "      <td>1930</td>\n",
       "    </tr>\n",
       "    <tr>\n",
       "      <th>58827</th>\n",
       "      <td>What a Man</td>\n",
       "      <td>1930</td>\n",
       "    </tr>\n",
       "    <tr>\n",
       "      <th>45100</th>\n",
       "      <td>Guilty?</td>\n",
       "      <td>1930</td>\n",
       "    </tr>\n",
       "    <tr>\n",
       "      <th>119787</th>\n",
       "      <td>La voluntad del muerto</td>\n",
       "      <td>1930</td>\n",
       "    </tr>\n",
       "    <tr>\n",
       "      <th>160989</th>\n",
       "      <td>Vzorvannye dni</td>\n",
       "      <td>1930</td>\n",
       "    </tr>\n",
       "    <tr>\n",
       "      <th>119655</th>\n",
       "      <td>Renegades</td>\n",
       "      <td>1930</td>\n",
       "    </tr>\n",
       "    <tr>\n",
       "      <th>89223</th>\n",
       "      <td>Kristine Valdresdatter</td>\n",
       "      <td>1930</td>\n",
       "    </tr>\n",
       "    <tr>\n",
       "      <th>11057</th>\n",
       "      <td>Today</td>\n",
       "      <td>1930</td>\n",
       "    </tr>\n",
       "    <tr>\n",
       "      <th>11025</th>\n",
       "      <td>Not So Dumb</td>\n",
       "      <td>1930</td>\n",
       "    </tr>\n",
       "    <tr>\n",
       "      <th>10678</th>\n",
       "      <td>Das Lied ist aus</td>\n",
       "      <td>1930</td>\n",
       "    </tr>\n",
       "    <tr>\n",
       "      <th>44987</th>\n",
       "      <td>Fighting Thru; or, California in 1878</td>\n",
       "      <td>1930</td>\n",
       "    </tr>\n",
       "    <tr>\n",
       "      <th>59153</th>\n",
       "      <td>Lotus Lady</td>\n",
       "      <td>1930</td>\n",
       "    </tr>\n",
       "    <tr>\n",
       "      <th>88817</th>\n",
       "      <td>The Cohens and the Kellys in Scotland</td>\n",
       "      <td>1930</td>\n",
       "    </tr>\n",
       "    <tr>\n",
       "      <th>120512</th>\n",
       "      <td>Zwei Welten</td>\n",
       "      <td>1930</td>\n",
       "    </tr>\n",
       "    <tr>\n",
       "      <th>204304</th>\n",
       "      <td>Shadow Ranch</td>\n",
       "      <td>1930</td>\n",
       "    </tr>\n",
       "    <tr>\n",
       "      <th>159907</th>\n",
       "      <td>Flachsmann als Erzieher</td>\n",
       "      <td>1930</td>\n",
       "    </tr>\n",
       "    <tr>\n",
       "      <th>45052</th>\n",
       "      <td>Ladies of Leisure</td>\n",
       "      <td>1930</td>\n",
       "    </tr>\n",
       "    <tr>\n",
       "      <th>58957</th>\n",
       "      <td>The Love Kiss</td>\n",
       "      <td>1930</td>\n",
       "    </tr>\n",
       "    <tr>\n",
       "      <th>120332</th>\n",
       "      <td>Danger Lights</td>\n",
       "      <td>1930</td>\n",
       "    </tr>\n",
       "    <tr>\n",
       "      <th>10908</th>\n",
       "      <td>Murder on the Roof</td>\n",
       "      <td>1930</td>\n",
       "    </tr>\n",
       "    <tr>\n",
       "      <th>203892</th>\n",
       "      <td>College Lovers</td>\n",
       "      <td>1930</td>\n",
       "    </tr>\n",
       "    <tr>\n",
       "      <th>120230</th>\n",
       "      <td>Zwei Menschen</td>\n",
       "      <td>1930</td>\n",
       "    </tr>\n",
       "    <tr>\n",
       "      <th>160221</th>\n",
       "      <td>Ver e Amar!</td>\n",
       "      <td>1930</td>\n",
       "    </tr>\n",
       "    <tr>\n",
       "      <th>89064</th>\n",
       "      <td>La tendresse</td>\n",
       "      <td>1930</td>\n",
       "    </tr>\n",
       "    <tr>\n",
       "      <th>137513</th>\n",
       "      <td>Lord Byron of Broadway</td>\n",
       "      <td>1930</td>\n",
       "    </tr>\n",
       "  </tbody>\n",
       "</table>\n",
       "<p>10041 rows × 2 columns</p>\n",
       "</div>"
      ],
      "text/plain": [
       "                                        title  year\n",
       "228195                       One Hour to Live  1939\n",
       "35952                       L'esclave blanche  1939\n",
       "37509                     Streets of New York  1939\n",
       "37401                   Gardons notre sourire  1939\n",
       "37389                  Divorcio en Montevideo  1939\n",
       "139096                     Allegri masnadieri  1939\n",
       "37273                         Zuihou de Banlu  1939\n",
       "139228                           On Your Toes  1939\n",
       "139377             Due milioni per un sorriso  1939\n",
       "37113                       $1000 a Touchdown  1939\n",
       "37081                               Gunga Din  1939\n",
       "37053                      Ma tante dictateur  1939\n",
       "140115             Code of the Secret Service  1939\n",
       "140738                               Bohemios  1939\n",
       "140804                       Radio Candelario  1939\n",
       "140948                   Zhengyi Duoqingzhong  1939\n",
       "141008                         Way Down South  1939\n",
       "141593                         No Place to Go  1939\n",
       "141903                                 Ambush  1939\n",
       "141956                              Yanzhi Ma  1939\n",
       "142040                    Tarzan Finds a Son!  1939\n",
       "142199                       Fast and Furious  1939\n",
       "142504                     Straight to Heaven  1939\n",
       "138395                      Doktor Kalyuzhnyy  1939\n",
       "138387            Everything Happens at Night  1939\n",
       "37580                  Le paradis des voleurs  1939\n",
       "38111                Wife, Husband and Friend  1939\n",
       "135082                     I Killed the Count  1939\n",
       "135100          La grande luce - Montevergine  1939\n",
       "135248                           Papa Soltero  1939\n",
       "...                                       ...   ...\n",
       "160677                       Three Faces East  1930\n",
       "29355                             Hell Harbor  1930\n",
       "45076                            Fridas visor  1930\n",
       "119868                   Should a Girl Marry?  1930\n",
       "89528                             Common Clay  1930\n",
       "119847                         Voici dimanche  1930\n",
       "58827                              What a Man  1930\n",
       "45100                                 Guilty?  1930\n",
       "119787                 La voluntad del muerto  1930\n",
       "160989                         Vzorvannye dni  1930\n",
       "119655                              Renegades  1930\n",
       "89223                  Kristine Valdresdatter  1930\n",
       "11057                                   Today  1930\n",
       "11025                             Not So Dumb  1930\n",
       "10678                        Das Lied ist aus  1930\n",
       "44987   Fighting Thru; or, California in 1878  1930\n",
       "59153                              Lotus Lady  1930\n",
       "88817   The Cohens and the Kellys in Scotland  1930\n",
       "120512                            Zwei Welten  1930\n",
       "204304                           Shadow Ranch  1930\n",
       "159907                Flachsmann als Erzieher  1930\n",
       "45052                       Ladies of Leisure  1930\n",
       "58957                           The Love Kiss  1930\n",
       "120332                          Danger Lights  1930\n",
       "10908                      Murder on the Roof  1930\n",
       "203892                         College Lovers  1930\n",
       "120230                          Zwei Menschen  1930\n",
       "160221                            Ver e Amar!  1930\n",
       "89064                            La tendresse  1930\n",
       "137513                 Lord Byron of Broadway  1930\n",
       "\n",
       "[10041 rows x 2 columns]"
      ]
     },
     "execution_count": 45,
     "metadata": {},
     "output_type": "execute_result"
    }
   ],
   "source": [
    "w.sort('year', ascending = 0)"
   ]
  },
  {
   "cell_type": "code",
   "execution_count": null,
   "metadata": {
    "collapsed": true
   },
   "outputs": [],
   "source": []
  },
  {
   "cell_type": "code",
   "execution_count": null,
   "metadata": {
    "collapsed": true
   },
   "outputs": [],
   "source": []
  },
  {
   "cell_type": "code",
   "execution_count": null,
   "metadata": {
    "collapsed": true
   },
   "outputs": [],
   "source": []
  },
  {
   "cell_type": "code",
   "execution_count": null,
   "metadata": {
    "collapsed": true
   },
   "outputs": [],
   "source": []
  },
  {
   "cell_type": "code",
   "execution_count": 12,
   "metadata": {
    "collapsed": false
   },
   "outputs": [
    {
     "ename": "NameError",
     "evalue": "name 'title' is not defined",
     "output_type": "error",
     "traceback": [
      "\u001b[0;31m---------------------------------------------------------------------------\u001b[0m",
      "\u001b[0;31mNameError\u001b[0m                                 Traceback (most recent call last)",
      "\u001b[0;32m<ipython-input-12-a09c1b49df95>\u001b[0m in \u001b[0;36m<module>\u001b[0;34m()\u001b[0m\n\u001b[0;32m----> 1\u001b[0;31m \u001b[0mcast\u001b[0m\u001b[0;34m[\u001b[0m\u001b[0mtitle\u001b[0m\u001b[0;34m]\u001b[0m\u001b[0;34m.\u001b[0m\u001b[0mhead\u001b[0m\u001b[0;34m(\u001b[0m\u001b[0;36m5\u001b[0m\u001b[0;34m)\u001b[0m\u001b[0;34m\u001b[0m\u001b[0m\n\u001b[0m",
      "\u001b[0;31mNameError\u001b[0m: name 'title' is not defined"
     ]
    }
   ],
   "source": [
    "df.groupby('A').sum()"
   ]
  },
  {
   "cell_type": "code",
   "execution_count": 13,
   "metadata": {
    "collapsed": false
   },
   "outputs": [
    {
     "data": {
      "text/plain": [
       "0           Suuri illusioni\n",
       "1       Battle of the Sexes\n",
       "2      Secret in Their Eyes\n",
       "3                Steve Jobs\n",
       "4    Straight Outta Compton\n",
       "Name: title, dtype: object"
      ]
     },
     "execution_count": 13,
     "metadata": {},
     "output_type": "execute_result"
    }
   ],
   "source": [
    "cast.title.head(5)"
   ]
  },
  {
   "cell_type": "code",
   "execution_count": 5,
   "metadata": {
    "collapsed": false
   },
   "outputs": [
    {
     "ename": "NameError",
     "evalue": "name 'titles' is not defined",
     "output_type": "error",
     "traceback": [
      "\u001b[0;31m---------------------------------------------------------------------------\u001b[0m",
      "\u001b[0;31mNameError\u001b[0m                                 Traceback (most recent call last)",
      "\u001b[0;32m<ipython-input-5-34865ef6e7ef>\u001b[0m in \u001b[0;36m<module>\u001b[0;34m()\u001b[0m\n\u001b[0;32m----> 1\u001b[0;31m \u001b[0mtitles\u001b[0m\u001b[0;34m.\u001b[0m\u001b[0mhead\u001b[0m\u001b[0;34m(\u001b[0m\u001b[0;34m)\u001b[0m\u001b[0;34m\u001b[0m\u001b[0m\n\u001b[0m",
      "\u001b[0;31mNameError\u001b[0m: name 'titles' is not defined"
     ]
    }
   ],
   "source": [
    "titles.head()"
   ]
  },
  {
   "cell_type": "code",
   "execution_count": null,
   "metadata": {
    "collapsed": true
   },
   "outputs": [],
   "source": []
  },
  {
   "cell_type": "code",
   "execution_count": null,
   "metadata": {
    "collapsed": true
   },
   "outputs": [],
   "source": []
  },
  {
   "cell_type": "code",
   "execution_count": null,
   "metadata": {
    "collapsed": true
   },
   "outputs": [],
   "source": []
  },
  {
   "cell_type": "markdown",
   "metadata": {
    "collapsed": true
   },
   "source": [
    "### Which three years of the 1930s saw the most films released?"
   ]
  },
  {
   "cell_type": "code",
   "execution_count": 70,
   "metadata": {
    "collapsed": false
   },
   "outputs": [
    {
     "data": {
      "text/html": [
       "<div>\n",
       "<table border=\"1\" class=\"dataframe\">\n",
       "  <thead>\n",
       "    <tr style=\"text-align: right;\">\n",
       "      <th></th>\n",
       "      <th>title</th>\n",
       "      <th>year</th>\n",
       "      <th>name</th>\n",
       "      <th>type</th>\n",
       "      <th>character</th>\n",
       "      <th>n</th>\n",
       "    </tr>\n",
       "  </thead>\n",
       "  <tbody>\n",
       "    <tr>\n",
       "      <th>0</th>\n",
       "      <td>Suuri illusioni</td>\n",
       "      <td>1985</td>\n",
       "      <td>Homo $</td>\n",
       "      <td>actor</td>\n",
       "      <td>Guests</td>\n",
       "      <td>22.0</td>\n",
       "    </tr>\n",
       "    <tr>\n",
       "      <th>1</th>\n",
       "      <td>Battle of the Sexes</td>\n",
       "      <td>2017</td>\n",
       "      <td>$hutter</td>\n",
       "      <td>actor</td>\n",
       "      <td>Bobby Riggs Fan</td>\n",
       "      <td>10.0</td>\n",
       "    </tr>\n",
       "    <tr>\n",
       "      <th>2</th>\n",
       "      <td>Secret in Their Eyes</td>\n",
       "      <td>2015</td>\n",
       "      <td>$hutter</td>\n",
       "      <td>actor</td>\n",
       "      <td>2002 Dodger Fan</td>\n",
       "      <td>NaN</td>\n",
       "    </tr>\n",
       "    <tr>\n",
       "      <th>3</th>\n",
       "      <td>Steve Jobs</td>\n",
       "      <td>2015</td>\n",
       "      <td>$hutter</td>\n",
       "      <td>actor</td>\n",
       "      <td>1988 Opera House Patron</td>\n",
       "      <td>NaN</td>\n",
       "    </tr>\n",
       "    <tr>\n",
       "      <th>4</th>\n",
       "      <td>Straight Outta Compton</td>\n",
       "      <td>2015</td>\n",
       "      <td>$hutter</td>\n",
       "      <td>actor</td>\n",
       "      <td>Club Patron</td>\n",
       "      <td>NaN</td>\n",
       "    </tr>\n",
       "  </tbody>\n",
       "</table>\n",
       "</div>"
      ],
      "text/plain": [
       "                    title  year     name   type                character     n\n",
       "0         Suuri illusioni  1985   Homo $  actor                   Guests  22.0\n",
       "1     Battle of the Sexes  2017  $hutter  actor          Bobby Riggs Fan  10.0\n",
       "2    Secret in Their Eyes  2015  $hutter  actor          2002 Dodger Fan   NaN\n",
       "3              Steve Jobs  2015  $hutter  actor  1988 Opera House Patron   NaN\n",
       "4  Straight Outta Compton  2015  $hutter  actor              Club Patron   NaN"
      ]
     },
     "execution_count": 70,
     "metadata": {},
     "output_type": "execute_result"
    }
   ],
   "source": [
    "cast.head()"
   ]
  },
  {
   "cell_type": "code",
   "execution_count": 71,
   "metadata": {
    "collapsed": false
   },
   "outputs": [
    {
     "data": {
      "text/html": [
       "<div>\n",
       "<table border=\"1\" class=\"dataframe\">\n",
       "  <thead>\n",
       "    <tr style=\"text-align: right;\">\n",
       "      <th></th>\n",
       "      <th>title</th>\n",
       "      <th>year</th>\n",
       "      <th>name</th>\n",
       "      <th>type</th>\n",
       "      <th>character</th>\n",
       "      <th>n</th>\n",
       "    </tr>\n",
       "  </thead>\n",
       "  <tbody>\n",
       "    <tr>\n",
       "      <th>0</th>\n",
       "      <td>Suuri illusioni</td>\n",
       "      <td>1985</td>\n",
       "      <td>Homo $</td>\n",
       "      <td>actor</td>\n",
       "      <td>Guests</td>\n",
       "      <td>22.0</td>\n",
       "    </tr>\n",
       "    <tr>\n",
       "      <th>1</th>\n",
       "      <td>Battle of the Sexes</td>\n",
       "      <td>2017</td>\n",
       "      <td>$hutter</td>\n",
       "      <td>actor</td>\n",
       "      <td>Bobby Riggs Fan</td>\n",
       "      <td>10.0</td>\n",
       "    </tr>\n",
       "    <tr>\n",
       "      <th>2</th>\n",
       "      <td>Secret in Their Eyes</td>\n",
       "      <td>2015</td>\n",
       "      <td>$hutter</td>\n",
       "      <td>actor</td>\n",
       "      <td>2002 Dodger Fan</td>\n",
       "      <td>NaN</td>\n",
       "    </tr>\n",
       "    <tr>\n",
       "      <th>3</th>\n",
       "      <td>Steve Jobs</td>\n",
       "      <td>2015</td>\n",
       "      <td>$hutter</td>\n",
       "      <td>actor</td>\n",
       "      <td>1988 Opera House Patron</td>\n",
       "      <td>NaN</td>\n",
       "    </tr>\n",
       "    <tr>\n",
       "      <th>4</th>\n",
       "      <td>Straight Outta Compton</td>\n",
       "      <td>2015</td>\n",
       "      <td>$hutter</td>\n",
       "      <td>actor</td>\n",
       "      <td>Club Patron</td>\n",
       "      <td>NaN</td>\n",
       "    </tr>\n",
       "  </tbody>\n",
       "</table>\n",
       "</div>"
      ],
      "text/plain": [
       "                    title  year     name   type                character     n\n",
       "0         Suuri illusioni  1985   Homo $  actor                   Guests  22.0\n",
       "1     Battle of the Sexes  2017  $hutter  actor          Bobby Riggs Fan  10.0\n",
       "2    Secret in Their Eyes  2015  $hutter  actor          2002 Dodger Fan   NaN\n",
       "3              Steve Jobs  2015  $hutter  actor  1988 Opera House Patron   NaN\n",
       "4  Straight Outta Compton  2015  $hutter  actor              Club Patron   NaN"
      ]
     },
     "execution_count": 71,
     "metadata": {},
     "output_type": "execute_result"
    }
   ],
   "source": [
    "cast.head(5)"
   ]
  },
  {
   "cell_type": "code",
   "execution_count": 73,
   "metadata": {
    "collapsed": false
   },
   "outputs": [],
   "source": [
    "c = cast[cast.year // 10 == 193]"
   ]
  },
  {
   "cell_type": "code",
   "execution_count": 77,
   "metadata": {
    "collapsed": false
   },
   "outputs": [
    {
     "ename": "NameError",
     "evalue": "name 'describe' is not defined",
     "output_type": "error",
     "traceback": [
      "\u001b[0;31m---------------------------------------------------------------------------\u001b[0m",
      "\u001b[0;31mNameError\u001b[0m                                 Traceback (most recent call last)",
      "\u001b[0;32m<ipython-input-77-69ecc911a857>\u001b[0m in \u001b[0;36m<module>\u001b[0;34m()\u001b[0m\n\u001b[0;32m----> 1\u001b[0;31m \u001b[0mdescribe\u001b[0m\u001b[0;34m(\u001b[0m\u001b[0mc\u001b[0m\u001b[0;34m)\u001b[0m\u001b[0;34m\u001b[0m\u001b[0m\n\u001b[0m",
      "\u001b[0;31mNameError\u001b[0m: name 'describe' is not defined"
     ]
    }
   ],
   "source": [
    "describe(c)"
   ]
  },
  {
   "cell_type": "code",
   "execution_count": 79,
   "metadata": {
    "collapsed": false
   },
   "outputs": [
    {
     "data": {
      "text/plain": [
       "count    198104.000000\n",
       "mean       1935.316349\n",
       "std           2.633019\n",
       "min        1930.000000\n",
       "25%        1933.000000\n",
       "50%        1936.000000\n",
       "75%        1937.000000\n",
       "max        1939.000000\n",
       "Name: year, dtype: float64"
      ]
     },
     "execution_count": 79,
     "metadata": {},
     "output_type": "execute_result"
    }
   ],
   "source": [
    "c.year.describe()"
   ]
  },
  {
   "cell_type": "code",
   "execution_count": 80,
   "metadata": {
    "collapsed": false
   },
   "outputs": [
    {
     "data": {
      "text/plain": [
       "1937    27300\n",
       "1936    25643\n",
       "1938    25139\n",
       "1939    24330\n",
       "1935    23824\n",
       "1934    20513\n",
       "1933    15335\n",
       "1932    14631\n",
       "1931    11711\n",
       "1930     9678\n",
       "Name: year, dtype: int64"
      ]
     },
     "execution_count": 80,
     "metadata": {},
     "output_type": "execute_result"
    }
   ],
   "source": [
    "c.year.value_counts()"
   ]
  },
  {
   "cell_type": "code",
   "execution_count": 85,
   "metadata": {
    "collapsed": false
   },
   "outputs": [],
   "source": [
    "import matplotlib.pyplot as plt"
   ]
  },
  {
   "cell_type": "code",
   "execution_count": 88,
   "metadata": {
    "collapsed": false
   },
   "outputs": [],
   "source": [
    "import numpy as np"
   ]
  },
  {
   "cell_type": "code",
   "execution_count": 89,
   "metadata": {
    "collapsed": true
   },
   "outputs": [],
   "source": [
    "import pandas as pd"
   ]
  },
  {
   "cell_type": "code",
   "execution_count": null,
   "metadata": {
    "collapsed": false
   },
   "outputs": [
    {
     "name": "stdout",
     "output_type": "stream",
     "text": [
      "Fetching package metadata .......\n",
      "Solving package specifications: ..........\n",
      "\n",
      "Package plan for installation in environment /Users/mjlivingston/anaconda:\n",
      "\n",
      "The following packages will be downloaded:\n",
      "\n",
      "    package                    |            build\n",
      "    ---------------------------|-----------------\n",
      "    conda-env-2.5.2            |           py35_0          27 KB\n",
      "    conda-4.1.11               |           py35_0         204 KB\n",
      "    seaborn-0.7.1              |           py35_0         282 KB\n",
      "    ------------------------------------------------------------\n",
      "                                           Total:         513 KB\n",
      "\n",
      "The following NEW packages will be INSTALLED:\n",
      "\n",
      "    seaborn:   0.7.1-py35_0\n",
      "\n",
      "The following packages will be UPDATED:\n",
      "\n",
      "    conda:     4.1.6-py35_0 --> 4.1.11-py35_0\n",
      "    conda-env: 2.5.1-py35_0 --> 2.5.2-py35_0 \n",
      "\n",
      "Proceed ([y]/n)? "
     ]
    }
   ],
   "source": [
    "!conda install seaborn"
   ]
  },
  {
   "cell_type": "code",
   "execution_count": null,
   "metadata": {
    "collapsed": true
   },
   "outputs": [],
   "source": [
    "### Plot the number of films that have been released each decade over the history of cinema."
   ]
  },
  {
   "cell_type": "code",
   "execution_count": null,
   "metadata": {
    "collapsed": true
   },
   "outputs": [],
   "source": [
    "import seaborn as sea"
   ]
  },
  {
   "cell_type": "code",
   "execution_count": null,
   "metadata": {
    "collapsed": true
   },
   "outputs": [],
   "source": [
    "plt.hist(c.year)"
   ]
  },
  {
   "cell_type": "code",
   "execution_count": 95,
   "metadata": {
    "collapsed": true
   },
   "outputs": [],
   "source": [
    "t = titles"
   ]
  },
  {
   "cell_type": "code",
   "execution_count": 115,
   "metadata": {
    "collapsed": false
   },
   "outputs": [
    {
     "data": {
      "text/plain": [
       "<matplotlib.axes._subplots.AxesSubplot at 0x113720390>"
      ]
     },
     "execution_count": 115,
     "metadata": {},
     "output_type": "execute_result"
    },
    {
     "data": {
      "image/png": "[encoded data removed]",
      "text/plain": [
       "<matplotlib.figure.Figure at 0x1135356a0>"
      ]
     },
     "metadata": {},
     "output_type": "display_data"
    }
   ],
   "source": [
    "(t.year //10 *10 ).value_counts().sort_index().plot(kind='bar')"
   ]
  },
  {
   "cell_type": "code",
   "execution_count": 105,
   "metadata": {
    "collapsed": false
   },
   "outputs": [
    {
     "data": {
      "text/plain": [
       "0    1951.0\n",
       "1    1990.0\n",
       "2    2013.0\n",
       "3    2013.0\n",
       "4    2015.0\n",
       "Name: year, dtype: float64"
      ]
     },
     "execution_count": 105,
     "metadata": {},
     "output_type": "execute_result"
    }
   ],
   "source": [
    "(t.year/10 *10).head(5)"
   ]
  },
  {
   "cell_type": "code",
   "execution_count": null,
   "metadata": {
    "collapsed": true
   },
   "outputs": [],
   "source": []
  },
  {
   "cell_type": "markdown",
   "metadata": {
    "collapsed": true
   },
   "source": [
    "### Plot the number of \"Hamlet\" films made each decade."
   ]
  },
  {
   "cell_type": "code",
   "execution_count": 122,
   "metadata": {
    "collapsed": true
   },
   "outputs": [],
   "source": [
    "t = titles[titles.title == 'Hamlet']"
   ]
  },
  {
   "cell_type": "code",
   "execution_count": 127,
   "metadata": {
    "collapsed": false
   },
   "outputs": [
    {
     "data": {
      "image/png": "[encoded data removed]",
      "text/plain": [
       "<matplotlib.figure.Figure at 0x113ffaba8>"
      ]
     },
     "metadata": {},
     "output_type": "display_data"
    }
   ],
   "source": [
    "plot_hamlet = (t.year//10 *10).value_counts().sort_index().plot(kind='bar')"
   ]
  },
  {
   "cell_type": "code",
   "execution_count": 128,
   "metadata": {
    "collapsed": false
   },
   "outputs": [
    {
     "data": {
      "text/plain": [
       "<matplotlib.axes._subplots.AxesSubplot at 0x1166ab2e8>"
      ]
     },
     "execution_count": 128,
     "metadata": {},
     "output_type": "execute_result"
    },
    {
     "data": {
      "image/png": "[encoded data removed]",
      "text/plain": [
       "<matplotlib.figure.Figure at 0x1166ad390>"
      ]
     },
     "metadata": {},
     "output_type": "display_data"
    }
   ],
   "source": [
    "(t.year // 10 * 10).value_counts().sort_index().plot(kind='bar')"
   ]
  },
  {
   "cell_type": "markdown",
   "metadata": {
    "collapsed": true
   },
   "source": [
    "### Plot the number of \"Rustler\" characters in each decade of the history of film."
   ]
  },
  {
   "cell_type": "code",
   "execution_count": null,
   "metadata": {
    "collapsed": true
   },
   "outputs": [],
   "source": []
  },
  {
   "cell_type": "code",
   "execution_count": null,
   "metadata": {
    "collapsed": true
   },
   "outputs": [],
   "source": []
  },
  {
   "cell_type": "markdown",
   "metadata": {
    "collapsed": true
   },
   "source": [
    "### Plot the number of \"Hamlet\" characters each decade."
   ]
  },
  {
   "cell_type": "code",
   "execution_count": null,
   "metadata": {
    "collapsed": true
   },
   "outputs": [],
   "source": []
  },
  {
   "cell_type": "code",
   "execution_count": null,
   "metadata": {
    "collapsed": true
   },
   "outputs": [],
   "source": []
  },
  {
   "cell_type": "markdown",
   "metadata": {
    "collapsed": true
   },
   "source": [
    "### What are the 11 most common character names in movie history?"
   ]
  },
  {
   "cell_type": "code",
   "execution_count": null,
   "metadata": {
    "collapsed": true
   },
   "outputs": [],
   "source": []
  },
  {
   "cell_type": "code",
   "execution_count": null,
   "metadata": {
    "collapsed": true
   },
   "outputs": [],
   "source": []
  },
  {
   "cell_type": "markdown",
   "metadata": {
    "collapsed": true
   },
   "source": [
    "### Who are the 10 people most often credited as \"Herself\" in film history?"
   ]
  },
  {
   "cell_type": "code",
   "execution_count": null,
   "metadata": {
    "collapsed": true
   },
   "outputs": [],
   "source": []
  },
  {
   "cell_type": "code",
   "execution_count": null,
   "metadata": {
    "collapsed": true
   },
   "outputs": [],
   "source": []
  },
  {
   "cell_type": "markdown",
   "metadata": {
    "collapsed": true
   },
   "source": [
    "### Who are the 10 people most often credited as \"Himself\" in film history?"
   ]
  },
  {
   "cell_type": "code",
   "execution_count": null,
   "metadata": {
    "collapsed": true
   },
   "outputs": [],
   "source": []
  },
  {
   "cell_type": "code",
   "execution_count": null,
   "metadata": {
    "collapsed": true
   },
   "outputs": [],
   "source": []
  },
  {
   "cell_type": "markdown",
   "metadata": {
    "collapsed": true
   },
   "source": [
    "### Which actors or actresses appeared in the most movies in the year 1945?"
   ]
  },
  {
   "cell_type": "code",
   "execution_count": null,
   "metadata": {
    "collapsed": true
   },
   "outputs": [],
   "source": []
  },
  {
   "cell_type": "code",
   "execution_count": null,
   "metadata": {
    "collapsed": true
   },
   "outputs": [],
   "source": []
  },
  {
   "cell_type": "markdown",
   "metadata": {
    "collapsed": true
   },
   "source": [
    "### Which actors or actresses appeared in the most movies in the year 1985?"
   ]
  },
  {
   "cell_type": "code",
   "execution_count": null,
   "metadata": {
    "collapsed": true
   },
   "outputs": [],
   "source": []
  },
  {
   "cell_type": "code",
   "execution_count": null,
   "metadata": {
    "collapsed": true
   },
   "outputs": [],
   "source": []
  },
  {
   "cell_type": "markdown",
   "metadata": {
    "collapsed": true
   },
   "source": [
    "### Plot how many roles Mammootty has played in each year of his career."
   ]
  },
  {
   "cell_type": "code",
   "execution_count": null,
   "metadata": {
    "collapsed": true
   },
   "outputs": [],
   "source": []
  },
  {
   "cell_type": "code",
   "execution_count": null,
   "metadata": {
    "collapsed": true
   },
   "outputs": [],
   "source": []
  },
  {
   "cell_type": "markdown",
   "metadata": {
    "collapsed": true
   },
   "source": [
    "### What are the 10 most frequent roles that start with the phrase \"Patron in\"?"
   ]
  },
  {
   "cell_type": "code",
   "execution_count": null,
   "metadata": {
    "collapsed": true
   },
   "outputs": [],
   "source": []
  },
  {
   "cell_type": "code",
   "execution_count": null,
   "metadata": {
    "collapsed": true
   },
   "outputs": [],
   "source": []
  },
  {
   "cell_type": "markdown",
   "metadata": {
    "collapsed": true
   },
   "source": [
    "### What are the 10 most frequent roles that start with the word \"Science\"?"
   ]
  },
  {
   "cell_type": "code",
   "execution_count": 145,
   "metadata": {
    "collapsed": false
   },
   "outputs": [],
   "source": [
    "c = cast\n",
    "c.head()\n",
    "import numpy as np"
   ]
  },
  {
   "cell_type": "code",
   "execution_count": 157,
   "metadata": {
    "collapsed": false
   },
   "outputs": [
    {
     "data": {
      "text/html": [
       "<div>\n",
       "<table border=\"1\" class=\"dataframe\">\n",
       "  <thead>\n",
       "    <tr style=\"text-align: right;\">\n",
       "      <th></th>\n",
       "      <th>title</th>\n",
       "      <th>year</th>\n",
       "      <th>name</th>\n",
       "      <th>type</th>\n",
       "      <th>character</th>\n",
       "      <th>n</th>\n",
       "    </tr>\n",
       "  </thead>\n",
       "  <tbody>\n",
       "  </tbody>\n",
       "</table>\n",
       "</div>"
      ],
      "text/plain": [
       "Empty DataFrame\n",
       "Columns: [title, year, name, type, character, n]\n",
       "Index: []"
      ]
     },
     "execution_count": 157,
     "metadata": {},
     "output_type": "execute_result"
    }
   ],
   "source": [
    "c[c.character == '\\\\%science\\\\%']"
   ]
  },
  {
   "cell_type": "code",
   "execution_count": null,
   "metadata": {
    "collapsed": true
   },
   "outputs": [],
   "source": [
    "c[c.character.str.startswith('Science')].character.value_counts().head(10)"
   ]
  },
  {
   "cell_type": "markdown",
   "metadata": {
    "collapsed": true
   },
   "source": [
    "### Plot the n-values of the roles that Judi Dench has played over her career."
   ]
  },
  {
   "cell_type": "code",
   "execution_count": null,
   "metadata": {
    "collapsed": true
   },
   "outputs": [],
   "source": []
  },
  {
   "cell_type": "code",
   "execution_count": null,
   "metadata": {
    "collapsed": true
   },
   "outputs": [],
   "source": []
  },
  {
   "cell_type": "markdown",
   "metadata": {
    "collapsed": true
   },
   "source": [
    "### Plot the n-values of Cary Grant's roles through his career."
   ]
  },
  {
   "cell_type": "code",
   "execution_count": null,
   "metadata": {
    "collapsed": true
   },
   "outputs": [],
   "source": []
  },
  {
   "cell_type": "code",
   "execution_count": null,
   "metadata": {
    "collapsed": true
   },
   "outputs": [],
   "source": []
  },
  {
   "cell_type": "markdown",
   "metadata": {
    "collapsed": true
   },
   "source": [
    "### Plot the n-value of the roles that Sidney Poitier has acted over the years."
   ]
  },
  {
   "cell_type": "code",
   "execution_count": null,
   "metadata": {
    "collapsed": true
   },
   "outputs": [],
   "source": []
  },
  {
   "cell_type": "code",
   "execution_count": null,
   "metadata": {
    "collapsed": true
   },
   "outputs": [],
   "source": []
  },
  {
   "cell_type": "markdown",
   "metadata": {
    "collapsed": true
   },
   "source": [
    "### How many leading (n=1) roles were available to actors, and how many to actresses, in the 1950s?"
   ]
  },
  {
   "cell_type": "code",
   "execution_count": null,
   "metadata": {
    "collapsed": true
   },
   "outputs": [],
   "source": []
  },
  {
   "cell_type": "code",
   "execution_count": null,
   "metadata": {
    "collapsed": true
   },
   "outputs": [],
   "source": []
  },
  {
   "cell_type": "markdown",
   "metadata": {
    "collapsed": true
   },
   "source": [
    "### How many supporting (n=2) roles were available to actors, and how many to actresses, in the 1950s?"
   ]
  },
  {
   "cell_type": "code",
   "execution_count": null,
   "metadata": {
    "collapsed": true
   },
   "outputs": [],
   "source": []
  },
  {
   "cell_type": "code",
   "execution_count": null,
   "metadata": {
    "collapsed": true
   },
   "outputs": [],
   "source": []
  }
 ],
 "metadata": {
  "anaconda-cloud": {},
  "kernelspec": {
   "display_name": "Python [Root]",
   "language": "python",
   "name": "Python [Root]"
  }
 },
 "nbformat": 4,
 "nbformat_minor": 0
}
