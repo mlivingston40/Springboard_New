{
 "cells": [
  {
   "cell_type": "code",
   "execution_count": 1,
   "metadata": {
    "collapsed": true
   },
   "outputs": [],
   "source": [
    "import pandas as pd"
   ]
  },
  {
   "cell_type": "code",
   "execution_count": 4,
   "metadata": {
    "collapsed": false
   },
   "outputs": [],
   "source": [
    "reviews = pd.read_csv('reviews.csv', iterator=True, chunksize=1000)"
   ]
  },
  {
   "cell_type": "code",
   "execution_count": 13,
   "metadata": {
    "collapsed": false
   },
   "outputs": [],
   "source": [
    "reviews = pd.read_csv('reviews')"
   ]
  },
  {
   "cell_type": "code",
   "execution_count": 18,
   "metadata": {
    "collapsed": false
   },
   "outputs": [
    {
     "data": {
      "text/html": [
       "<div>\n",
       "<table border=\"1\" class=\"dataframe\">\n",
       "  <thead>\n",
       "    <tr style=\"text-align: right;\">\n",
       "      <th></th>\n",
       "      <th>Unnamed: 0</th>\n",
       "      <th>business_id</th>\n",
       "      <th>num_reviews</th>\n",
       "      <th>stars</th>\n",
       "      <th>text</th>\n",
       "    </tr>\n",
       "  </thead>\n",
       "  <tbody>\n",
       "    <tr>\n",
       "      <th>0</th>\n",
       "      <td>0</td>\n",
       "      <td>b'5UmKMjUEUNdYWqANhGckJw'</td>\n",
       "      <td>7</td>\n",
       "      <td>4</td>\n",
       "      <td>b'Mr Hoagie is an institution. Walking in, it ...</td>\n",
       "    </tr>\n",
       "  </tbody>\n",
       "</table>\n",
       "</div>"
      ],
      "text/plain": [
       "   Unnamed: 0                business_id  num_reviews  stars  \\\n",
       "0           0  b'5UmKMjUEUNdYWqANhGckJw'            7      4   \n",
       "\n",
       "                                                text  \n",
       "0  b'Mr Hoagie is an institution. Walking in, it ...  "
      ]
     },
     "execution_count": 18,
     "metadata": {},
     "output_type": "execute_result"
    }
   ],
   "source": [
    "reviews.head(1)"
   ]
  },
  {
   "cell_type": "code",
   "execution_count": 16,
   "metadata": {
    "collapsed": true
   },
   "outputs": [],
   "source": [
    "categories = pd.read_csv('categories')"
   ]
  },
  {
   "cell_type": "code",
   "execution_count": 19,
   "metadata": {
    "collapsed": false
   },
   "outputs": [
    {
     "data": {
      "text/html": [
       "<div>\n",
       "<table border=\"1\" class=\"dataframe\">\n",
       "  <thead>\n",
       "    <tr style=\"text-align: right;\">\n",
       "      <th></th>\n",
       "      <th>Unnamed: 0</th>\n",
       "      <th>categories</th>\n",
       "      <th>business_id</th>\n",
       "    </tr>\n",
       "  </thead>\n",
       "  <tbody>\n",
       "    <tr>\n",
       "      <th>0</th>\n",
       "      <td>0</td>\n",
       "      <td>'Fast Food'</td>\n",
       "      <td>b'5UmKMjUEUNdYWqANhGckJw'</td>\n",
       "    </tr>\n",
       "  </tbody>\n",
       "</table>\n",
       "</div>"
      ],
      "text/plain": [
       "   Unnamed: 0   categories                business_id\n",
       "0           0  'Fast Food'  b'5UmKMjUEUNdYWqANhGckJw'"
      ]
     },
     "execution_count": 19,
     "metadata": {},
     "output_type": "execute_result"
    }
   ],
   "source": [
    "categories.head(1)"
   ]
  },
  {
   "cell_type": "code",
   "execution_count": 26,
   "metadata": {
    "collapsed": true
   },
   "outputs": [],
   "source": [
    "reviews.drop(reviews.columns[[0]], axis=1, inplace=True)"
   ]
  },
  {
   "cell_type": "code",
   "execution_count": 30,
   "metadata": {
    "collapsed": true
   },
   "outputs": [],
   "source": [
    "categories.drop(categories.columns[[0]], axis=1, inplace=True)"
   ]
  },
  {
   "cell_type": "code",
   "execution_count": 38,
   "metadata": {
    "collapsed": false
   },
   "outputs": [
    {
     "data": {
      "text/html": [
       "<div>\n",
       "<table border=\"1\" class=\"dataframe\">\n",
       "  <thead>\n",
       "    <tr style=\"text-align: right;\">\n",
       "      <th></th>\n",
       "      <th>business_id</th>\n",
       "      <th>num_reviews</th>\n",
       "      <th>stars</th>\n",
       "      <th>text</th>\n",
       "    </tr>\n",
       "  </thead>\n",
       "  <tbody>\n",
       "    <tr>\n",
       "      <th>0</th>\n",
       "      <td>b'5UmKMjUEUNdYWqANhGckJw'</td>\n",
       "      <td>7</td>\n",
       "      <td>4</td>\n",
       "      <td>b'Mr Hoagie is an institution. Walking in, it ...</td>\n",
       "    </tr>\n",
       "    <tr>\n",
       "      <th>1</th>\n",
       "      <td>b'5UmKMjUEUNdYWqANhGckJw'</td>\n",
       "      <td>7</td>\n",
       "      <td>5</td>\n",
       "      <td>b\"Excellent food. Superb customer service. I m...</td>\n",
       "    </tr>\n",
       "    <tr>\n",
       "      <th>2</th>\n",
       "      <td>b'5UmKMjUEUNdYWqANhGckJw'</td>\n",
       "      <td>7</td>\n",
       "      <td>5</td>\n",
       "      <td>b'Yes this place is a little out dated and not...</td>\n",
       "    </tr>\n",
       "    <tr>\n",
       "      <th>3</th>\n",
       "      <td>b'5UmKMjUEUNdYWqANhGckJw'</td>\n",
       "      <td>7</td>\n",
       "      <td>3</td>\n",
       "      <td>b'PROS: Italian hoagie was delicious.  Friendl...</td>\n",
       "    </tr>\n",
       "    <tr>\n",
       "      <th>4</th>\n",
       "      <td>b'5UmKMjUEUNdYWqANhGckJw'</td>\n",
       "      <td>7</td>\n",
       "      <td>2</td>\n",
       "      <td>b'First the only reason this place could possi...</td>\n",
       "    </tr>\n",
       "  </tbody>\n",
       "</table>\n",
       "</div>"
      ],
      "text/plain": [
       "                 business_id  num_reviews  stars  \\\n",
       "0  b'5UmKMjUEUNdYWqANhGckJw'            7      4   \n",
       "1  b'5UmKMjUEUNdYWqANhGckJw'            7      5   \n",
       "2  b'5UmKMjUEUNdYWqANhGckJw'            7      5   \n",
       "3  b'5UmKMjUEUNdYWqANhGckJw'            7      3   \n",
       "4  b'5UmKMjUEUNdYWqANhGckJw'            7      2   \n",
       "\n",
       "                                                text  \n",
       "0  b'Mr Hoagie is an institution. Walking in, it ...  \n",
       "1  b\"Excellent food. Superb customer service. I m...  \n",
       "2  b'Yes this place is a little out dated and not...  \n",
       "3  b'PROS: Italian hoagie was delicious.  Friendl...  \n",
       "4  b'First the only reason this place could possi...  "
      ]
     },
     "execution_count": 38,
     "metadata": {},
     "output_type": "execute_result"
    }
   ],
   "source": [
    "reviews.head()"
   ]
  },
  {
   "cell_type": "code",
   "execution_count": 39,
   "metadata": {
    "collapsed": false
   },
   "outputs": [
    {
     "data": {
      "text/html": [
       "<div>\n",
       "<table border=\"1\" class=\"dataframe\">\n",
       "  <thead>\n",
       "    <tr style=\"text-align: right;\">\n",
       "      <th></th>\n",
       "      <th>categories</th>\n",
       "      <th>business_id</th>\n",
       "    </tr>\n",
       "  </thead>\n",
       "  <tbody>\n",
       "    <tr>\n",
       "      <th>0</th>\n",
       "      <td>'Fast Food'</td>\n",
       "      <td>b'5UmKMjUEUNdYWqANhGckJw'</td>\n",
       "    </tr>\n",
       "    <tr>\n",
       "      <th>1</th>\n",
       "      <td>'Restaurants'</td>\n",
       "      <td>b'5UmKMjUEUNdYWqANhGckJw'</td>\n",
       "    </tr>\n",
       "    <tr>\n",
       "      <th>2</th>\n",
       "      <td>'Nightlife'</td>\n",
       "      <td>b'UsFtqoBl7naz8AVUBZMjQQ'</td>\n",
       "    </tr>\n",
       "    <tr>\n",
       "      <th>3</th>\n",
       "      <td>'Active Life'</td>\n",
       "      <td>b'cE27W9VPgO88Qxe4ol6y_g'</td>\n",
       "    </tr>\n",
       "    <tr>\n",
       "      <th>4</th>\n",
       "      <td>'Mini Golf'</td>\n",
       "      <td>b'cE27W9VPgO88Qxe4ol6y_g'</td>\n",
       "    </tr>\n",
       "  </tbody>\n",
       "</table>\n",
       "</div>"
      ],
      "text/plain": [
       "       categories                business_id\n",
       "0     'Fast Food'  b'5UmKMjUEUNdYWqANhGckJw'\n",
       "1   'Restaurants'  b'5UmKMjUEUNdYWqANhGckJw'\n",
       "2     'Nightlife'  b'UsFtqoBl7naz8AVUBZMjQQ'\n",
       "3   'Active Life'  b'cE27W9VPgO88Qxe4ol6y_g'\n",
       "4     'Mini Golf'  b'cE27W9VPgO88Qxe4ol6y_g'"
      ]
     },
     "execution_count": 39,
     "metadata": {},
     "output_type": "execute_result"
    }
   ],
   "source": [
    "categories.head()"
   ]
  },
  {
   "cell_type": "markdown",
   "metadata": {},
   "source": [
    "categories has mutiple tags for each business_id (i.e. could be a 'Fast Food' place, but also a 'Restaurants' category).  "
   ]
  },
  {
   "cell_type": "markdown",
   "metadata": {},
   "source": [
    "categories is also not trimmed, the text has extra spaces.  See grouping below"
   ]
  },
  {
   "cell_type": "code",
   "execution_count": 41,
   "metadata": {
    "collapsed": false
   },
   "outputs": [
    {
     "data": {
      "text/plain": [
       " 'Restaurants'                  25433\n",
       " 'Shopping'                      8769\n",
       "'Food'                           8404\n",
       " 'Beauty & Spas'                 6060\n",
       " 'Nightlife'                     5013\n",
       " 'Health & Medical'              4285\n",
       " 'Home Services'                 4012\n",
       "'Shopping'                       3675\n",
       "'Local Services'                 3667\n",
       " 'Automotive'                    3240\n",
       "'Active Life'                    3122\n",
       " 'Event Planning & Services'     2912\n",
       "'Bars'                           2864\n",
       " 'Fashion'                       2611\n",
       "'Hotels & Travel'                2396\n",
       " 'Coffee & Tea'                  2354\n",
       "'Hair Salons'                    2330\n",
       " 'Sandwiches'                    1960\n",
       "'Fast Food'                      1912\n",
       " 'Home & Garden'                 1886\n",
       " 'Nail Salons'                   1879\n",
       " 'Bars'                          1863\n",
       "'Home Services'                  1854\n",
       "'Health & Medical'               1821\n",
       "'Mexican'                        1798\n",
       "'Burgers'                        1741\n",
       " 'Food'                          1739\n",
       "'Auto Repair'                    1726\n",
       " 'American (Traditional)'        1716\n",
       "'Automotive'                     1648\n",
       "Name: categories, dtype: int64"
      ]
     },
     "execution_count": 41,
     "metadata": {},
     "output_type": "execute_result"
    }
   ],
   "source": [
    "categories.categories.value_counts().head(30)"
   ]
  },
  {
   "cell_type": "markdown",
   "metadata": {},
   "source": [
    "Note that categories show up twice"
   ]
  },
  {
   "cell_type": "markdown",
   "metadata": {},
   "source": [
    "# Goal"
   ]
  },
  {
   "cell_type": "markdown",
   "metadata": {},
   "source": [
    "Using business_id as the UID, I want to build a NLP model that shows which phrases correlate to the highest (number of stars) reviews by category type"
   ]
  },
  {
   "cell_type": "code",
   "execution_count": 42,
   "metadata": {
    "collapsed": false
   },
   "outputs": [
    {
     "data": {
      "text/html": [
       "<div>\n",
       "<table border=\"1\" class=\"dataframe\">\n",
       "  <thead>\n",
       "    <tr style=\"text-align: right;\">\n",
       "      <th></th>\n",
       "      <th>categories</th>\n",
       "      <th>business_id</th>\n",
       "    </tr>\n",
       "  </thead>\n",
       "  <tbody>\n",
       "    <tr>\n",
       "      <th>0</th>\n",
       "      <td>'Fast Food'</td>\n",
       "      <td>b'5UmKMjUEUNdYWqANhGckJw'</td>\n",
       "    </tr>\n",
       "  </tbody>\n",
       "</table>\n",
       "</div>"
      ],
      "text/plain": [
       "    categories                business_id\n",
       "0  'Fast Food'  b'5UmKMjUEUNdYWqANhGckJw'"
      ]
     },
     "execution_count": 42,
     "metadata": {},
     "output_type": "execute_result"
    }
   ],
   "source": [
    "categories.head(1)"
   ]
  },
  {
   "cell_type": "code",
   "execution_count": 44,
   "metadata": {
    "collapsed": false
   },
   "outputs": [
    {
     "data": {
      "text/plain": [
       "258014"
      ]
     },
     "execution_count": 44,
     "metadata": {},
     "output_type": "execute_result"
    }
   ],
   "source": [
    "len(categories)"
   ]
  },
  {
   "cell_type": "code",
   "execution_count": null,
   "metadata": {
    "collapsed": true
   },
   "outputs": [],
   "source": [
    "#categories.categories.strip()"
   ]
  },
  {
   "cell_type": "code",
   "execution_count": null,
   "metadata": {
    "collapsed": true
   },
   "outputs": [],
   "source": []
  },
  {
   "cell_type": "code",
   "execution_count": null,
   "metadata": {
    "collapsed": true
   },
   "outputs": [],
   "source": []
  },
  {
   "cell_type": "code",
   "execution_count": 43,
   "metadata": {
    "collapsed": false
   },
   "outputs": [
    {
     "data": {
      "text/html": [
       "<div>\n",
       "<table border=\"1\" class=\"dataframe\">\n",
       "  <thead>\n",
       "    <tr style=\"text-align: right;\">\n",
       "      <th></th>\n",
       "      <th>business_id</th>\n",
       "      <th>num_reviews</th>\n",
       "      <th>stars</th>\n",
       "      <th>text</th>\n",
       "    </tr>\n",
       "  </thead>\n",
       "  <tbody>\n",
       "    <tr>\n",
       "      <th>0</th>\n",
       "      <td>b'5UmKMjUEUNdYWqANhGckJw'</td>\n",
       "      <td>7</td>\n",
       "      <td>4</td>\n",
       "      <td>b'Mr Hoagie is an institution. Walking in, it ...</td>\n",
       "    </tr>\n",
       "  </tbody>\n",
       "</table>\n",
       "</div>"
      ],
      "text/plain": [
       "                 business_id  num_reviews  stars  \\\n",
       "0  b'5UmKMjUEUNdYWqANhGckJw'            7      4   \n",
       "\n",
       "                                                text  \n",
       "0  b'Mr Hoagie is an institution. Walking in, it ...  "
      ]
     },
     "execution_count": 43,
     "metadata": {},
     "output_type": "execute_result"
    }
   ],
   "source": [
    "reviews.head(1)"
   ]
  },
  {
   "cell_type": "code",
   "execution_count": 45,
   "metadata": {
    "collapsed": false
   },
   "outputs": [
    {
     "data": {
      "text/plain": [
       "2685066"
      ]
     },
     "execution_count": 45,
     "metadata": {},
     "output_type": "execute_result"
    }
   ],
   "source": [
    "len(reviews)"
   ]
  },
  {
   "cell_type": "markdown",
   "metadata": {},
   "source": [
    "topic or clustering, LDA topic, "
   ]
  },
  {
   "cell_type": "code",
   "execution_count": null,
   "metadata": {
    "collapsed": true
   },
   "outputs": [],
   "source": []
  }
 ],
 "metadata": {
  "anaconda-cloud": {},
  "kernelspec": {
   "display_name": "Python [Root]",
   "language": "python",
   "name": "Python [Root]"
  },
  "language_info": {
   "codemirror_mode": {
    "name": "ipython",
    "version": 3
   },
   "file_extension": ".py",
   "mimetype": "text/x-python",
   "name": "python",
   "nbconvert_exporter": "python",
   "pygments_lexer": "ipython3",
   "version": "3.5.2"
  }
 },
 "nbformat": 4,
 "nbformat_minor": 0
}
