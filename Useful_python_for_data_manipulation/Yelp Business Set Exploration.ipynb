{
 "cells": [
  {
   "cell_type": "markdown",
   "metadata": {},
   "source": [
    "# 9/15 Yelp Academic Dataset Business"
   ]
  },
  {
   "cell_type": "code",
   "execution_count": 1,
   "metadata": {
    "collapsed": true
   },
   "outputs": [],
   "source": [
    "import pandas as pd"
   ]
  },
  {
   "cell_type": "code",
   "execution_count": 11,
   "metadata": {
    "collapsed": true
   },
   "outputs": [],
   "source": [
    "import json\n",
    "from pandas.io.json import json_normalize"
   ]
  },
  {
   "cell_type": "code",
   "execution_count": 21,
   "metadata": {
    "collapsed": false
   },
   "outputs": [
    {
     "name": "stderr",
     "output_type": "stream",
     "text": [
      "/Users/mjlivingston/anaconda/lib/python3.5/site-packages/IPython/core/interactiveshell.py:2723: DtypeWarning: Columns (5,8,12,19,26,29,33,39,50,64,81,86) have mixed types. Specify dtype option on import or set low_memory=False.\n",
      "  interactivity=interactivity, compiler=compiler, result=result)\n"
     ]
    }
   ],
   "source": [
    "bdf = pd.read_csv('yelp_academic_dataset_business.csv')"
   ]
  },
  {
   "cell_type": "code",
   "execution_count": 39,
   "metadata": {
    "collapsed": true
   },
   "outputs": [],
   "source": [
    "#import as low_memory#"
   ]
  },
  {
   "cell_type": "code",
   "execution_count": 2,
   "metadata": {
    "collapsed": true
   },
   "outputs": [],
   "source": [
    "bdf = pd.read_csv('yelp_academic_dataset_business.csv', low_memory=False)"
   ]
  },
  {
   "cell_type": "code",
   "execution_count": 3,
   "metadata": {
    "collapsed": false
   },
   "outputs": [
    {
     "data": {
      "text/html": [
       "<div>\n",
       "<table border=\"1\" class=\"dataframe\">\n",
       "  <thead>\n",
       "    <tr style=\"text-align: right;\">\n",
       "      <th></th>\n",
       "      <th>attributes.Delivery</th>\n",
       "      <th>hours.Monday.close</th>\n",
       "      <th>attributes.Good For Groups</th>\n",
       "      <th>attributes.Has TV</th>\n",
       "      <th>attributes.Music.jukebox</th>\n",
       "      <th>attributes.Corkage</th>\n",
       "      <th>full_address</th>\n",
       "      <th>attributes.Takes Reservations</th>\n",
       "      <th>attributes.Dietary Restrictions.vegetarian</th>\n",
       "      <th>attributes.Good For.dessert</th>\n",
       "      <th>...</th>\n",
       "      <th>attributes.Ambience.hipster</th>\n",
       "      <th>attributes.Take-out</th>\n",
       "      <th>attributes.Ambience.intimate</th>\n",
       "      <th>attributes.Good For.brunch</th>\n",
       "      <th>hours.Saturday.open</th>\n",
       "      <th>attributes.Hair Types Specialized In.africanamerican</th>\n",
       "      <th>neighborhoods</th>\n",
       "      <th>attributes.Waiter Service</th>\n",
       "      <th>attributes.Caters</th>\n",
       "      <th>hours.Saturday.close</th>\n",
       "    </tr>\n",
       "  </thead>\n",
       "  <tbody>\n",
       "    <tr>\n",
       "      <th>0</th>\n",
       "      <td>False</td>\n",
       "      <td>b'21:00'</td>\n",
       "      <td>True</td>\n",
       "      <td>False</td>\n",
       "      <td>NaN</td>\n",
       "      <td>NaN</td>\n",
       "      <td>b'4734 Lebanon Church Rd\\nDravosburg, PA 15034'</td>\n",
       "      <td>False</td>\n",
       "      <td>NaN</td>\n",
       "      <td>False</td>\n",
       "      <td>...</td>\n",
       "      <td>False</td>\n",
       "      <td>True</td>\n",
       "      <td>False</td>\n",
       "      <td>False</td>\n",
       "      <td>NaN</td>\n",
       "      <td>NaN</td>\n",
       "      <td>[]</td>\n",
       "      <td>False</td>\n",
       "      <td>False</td>\n",
       "      <td>NaN</td>\n",
       "    </tr>\n",
       "    <tr>\n",
       "      <th>1</th>\n",
       "      <td>NaN</td>\n",
       "      <td>NaN</td>\n",
       "      <td>True</td>\n",
       "      <td>NaN</td>\n",
       "      <td>NaN</td>\n",
       "      <td>NaN</td>\n",
       "      <td>b'202 McClure St\\nDravosburg, PA 15034'</td>\n",
       "      <td>NaN</td>\n",
       "      <td>NaN</td>\n",
       "      <td>NaN</td>\n",
       "      <td>...</td>\n",
       "      <td>NaN</td>\n",
       "      <td>NaN</td>\n",
       "      <td>NaN</td>\n",
       "      <td>NaN</td>\n",
       "      <td>NaN</td>\n",
       "      <td>NaN</td>\n",
       "      <td>[]</td>\n",
       "      <td>NaN</td>\n",
       "      <td>NaN</td>\n",
       "      <td>NaN</td>\n",
       "    </tr>\n",
       "    <tr>\n",
       "      <th>2</th>\n",
       "      <td>NaN</td>\n",
       "      <td>NaN</td>\n",
       "      <td>NaN</td>\n",
       "      <td>NaN</td>\n",
       "      <td>NaN</td>\n",
       "      <td>NaN</td>\n",
       "      <td>b'1530 Hamilton Rd\\nBethel Park, PA 15234'</td>\n",
       "      <td>NaN</td>\n",
       "      <td>NaN</td>\n",
       "      <td>NaN</td>\n",
       "      <td>...</td>\n",
       "      <td>NaN</td>\n",
       "      <td>NaN</td>\n",
       "      <td>NaN</td>\n",
       "      <td>NaN</td>\n",
       "      <td>NaN</td>\n",
       "      <td>NaN</td>\n",
       "      <td>[]</td>\n",
       "      <td>NaN</td>\n",
       "      <td>NaN</td>\n",
       "      <td>NaN</td>\n",
       "    </tr>\n",
       "    <tr>\n",
       "      <th>3</th>\n",
       "      <td>False</td>\n",
       "      <td>NaN</td>\n",
       "      <td>True</td>\n",
       "      <td>True</td>\n",
       "      <td>NaN</td>\n",
       "      <td>NaN</td>\n",
       "      <td>b'414 Hawkins Ave\\nBraddock, PA 15104'</td>\n",
       "      <td>False</td>\n",
       "      <td>NaN</td>\n",
       "      <td>False</td>\n",
       "      <td>...</td>\n",
       "      <td>False</td>\n",
       "      <td>True</td>\n",
       "      <td>False</td>\n",
       "      <td>False</td>\n",
       "      <td>b'10:00'</td>\n",
       "      <td>NaN</td>\n",
       "      <td>[]</td>\n",
       "      <td>True</td>\n",
       "      <td>True</td>\n",
       "      <td>b'16:00'</td>\n",
       "    </tr>\n",
       "    <tr>\n",
       "      <th>4</th>\n",
       "      <td>NaN</td>\n",
       "      <td>NaN</td>\n",
       "      <td>True</td>\n",
       "      <td>NaN</td>\n",
       "      <td>NaN</td>\n",
       "      <td>NaN</td>\n",
       "      <td>b'1000 Clubhouse Dr\\nBraddock, PA 15104'</td>\n",
       "      <td>True</td>\n",
       "      <td>NaN</td>\n",
       "      <td>NaN</td>\n",
       "      <td>...</td>\n",
       "      <td>NaN</td>\n",
       "      <td>NaN</td>\n",
       "      <td>NaN</td>\n",
       "      <td>NaN</td>\n",
       "      <td>b'11:00'</td>\n",
       "      <td>NaN</td>\n",
       "      <td>[]</td>\n",
       "      <td>NaN</td>\n",
       "      <td>NaN</td>\n",
       "      <td>b'20:00'</td>\n",
       "    </tr>\n",
       "  </tbody>\n",
       "</table>\n",
       "<p>5 rows × 98 columns</p>\n",
       "</div>"
      ],
      "text/plain": [
       "  attributes.Delivery hours.Monday.close attributes.Good For Groups  \\\n",
       "0               False           b'21:00'                       True   \n",
       "1                 NaN                NaN                       True   \n",
       "2                 NaN                NaN                        NaN   \n",
       "3               False                NaN                       True   \n",
       "4                 NaN                NaN                       True   \n",
       "\n",
       "  attributes.Has TV attributes.Music.jukebox attributes.Corkage  \\\n",
       "0             False                      NaN                NaN   \n",
       "1               NaN                      NaN                NaN   \n",
       "2               NaN                      NaN                NaN   \n",
       "3              True                      NaN                NaN   \n",
       "4               NaN                      NaN                NaN   \n",
       "\n",
       "                                      full_address  \\\n",
       "0  b'4734 Lebanon Church Rd\\nDravosburg, PA 15034'   \n",
       "1          b'202 McClure St\\nDravosburg, PA 15034'   \n",
       "2       b'1530 Hamilton Rd\\nBethel Park, PA 15234'   \n",
       "3           b'414 Hawkins Ave\\nBraddock, PA 15104'   \n",
       "4         b'1000 Clubhouse Dr\\nBraddock, PA 15104'   \n",
       "\n",
       "  attributes.Takes Reservations attributes.Dietary Restrictions.vegetarian  \\\n",
       "0                         False                                        NaN   \n",
       "1                           NaN                                        NaN   \n",
       "2                           NaN                                        NaN   \n",
       "3                         False                                        NaN   \n",
       "4                          True                                        NaN   \n",
       "\n",
       "  attributes.Good For.dessert         ...           \\\n",
       "0                       False         ...            \n",
       "1                         NaN         ...            \n",
       "2                         NaN         ...            \n",
       "3                       False         ...            \n",
       "4                         NaN         ...            \n",
       "\n",
       "  attributes.Ambience.hipster attributes.Take-out  \\\n",
       "0                       False                True   \n",
       "1                         NaN                 NaN   \n",
       "2                         NaN                 NaN   \n",
       "3                       False                True   \n",
       "4                         NaN                 NaN   \n",
       "\n",
       "  attributes.Ambience.intimate attributes.Good For.brunch hours.Saturday.open  \\\n",
       "0                        False                      False                 NaN   \n",
       "1                          NaN                        NaN                 NaN   \n",
       "2                          NaN                        NaN                 NaN   \n",
       "3                        False                      False            b'10:00'   \n",
       "4                          NaN                        NaN            b'11:00'   \n",
       "\n",
       "  attributes.Hair Types Specialized In.africanamerican neighborhoods  \\\n",
       "0                                                NaN              []   \n",
       "1                                                NaN              []   \n",
       "2                                                NaN              []   \n",
       "3                                                NaN              []   \n",
       "4                                                NaN              []   \n",
       "\n",
       "  attributes.Waiter Service attributes.Caters hours.Saturday.close  \n",
       "0                     False             False                  NaN  \n",
       "1                       NaN               NaN                  NaN  \n",
       "2                       NaN               NaN                  NaN  \n",
       "3                      True              True             b'16:00'  \n",
       "4                       NaN               NaN             b'20:00'  \n",
       "\n",
       "[5 rows x 98 columns]"
      ]
     },
     "execution_count": 3,
     "metadata": {},
     "output_type": "execute_result"
    }
   ],
   "source": [
    "bdf.head()"
   ]
  },
  {
   "cell_type": "code",
   "execution_count": 6,
   "metadata": {
    "collapsed": false
   },
   "outputs": [
    {
     "data": {
      "text/plain": [
       "Index(['attributes.Delivery', 'hours.Monday.close',\n",
       "       'attributes.Good For Groups', 'attributes.Has TV',\n",
       "       'attributes.Music.jukebox', 'attributes.Corkage', 'full_address',\n",
       "       'attributes.Takes Reservations',\n",
       "       'attributes.Dietary Restrictions.vegetarian',\n",
       "       'attributes.Good For.dessert', 'open', 'attributes.Good For.latenight',\n",
       "       'attributes.BYOB', 'attributes.Music.live', 'attributes.Music.dj',\n",
       "       'attributes.Music.karaoke', 'hours.Monday.open',\n",
       "       'attributes.Hair Types Specialized In.curly',\n",
       "       'attributes.Good For.lunch', 'attributes.Dietary Restrictions.soy-free',\n",
       "       'attributes.Ambience.upscale', 'stars', 'type',\n",
       "       'attributes.Good for Kids', 'attributes.Wheelchair Accessible', 'city',\n",
       "       'attributes.BYOB/Corkage',\n",
       "       'attributes.Hair Types Specialized In.extensions',\n",
       "       'attributes.Coat Check', 'attributes.Dietary Restrictions.vegan',\n",
       "       'attributes.Parking.garage', 'attributes.Dogs Allowed',\n",
       "       'attributes.Ambience.divey',\n",
       "       'attributes.Dietary Restrictions.dairy-free', 'hours.Tuesday.close',\n",
       "       'hours.Sunday.close', 'attributes.Hair Types Specialized In.asian',\n",
       "       'attributes.Alcohol', 'attributes.Wi-Fi', 'attributes.Order at Counter',\n",
       "       'attributes.Music.video', 'hours.Thursday.open',\n",
       "       'attributes.By Appointment Only', 'attributes.Happy Hour', 'latitude',\n",
       "       'attributes.Hair Types Specialized In.straightperms',\n",
       "       'attributes.Good For Dancing',\n",
       "       'attributes.Hair Types Specialized In.coloring', 'hours.Wednesday.open',\n",
       "       'attributes.Parking.street',\n",
       "       'attributes.Dietary Restrictions.gluten-free',\n",
       "       'attributes.Hair Types Specialized In.perms', 'hours.Friday.close',\n",
       "       'attributes.Ambience.trendy', 'review_count', 'attributes.Drive-Thru',\n",
       "       'attributes.Hair Types Specialized In.kids', 'state',\n",
       "       'hours.Tuesday.open', 'attributes.Noise Level', 'hours.Sunday.open',\n",
       "       'attributes.Good For.dinner', 'hours.Friday.open',\n",
       "       'attributes.Ages Allowed', 'attributes.Dietary Restrictions.kosher',\n",
       "       'attributes.Ambience.classy', 'hours.Wednesday.close',\n",
       "       'attributes.Outdoor Seating', 'attributes.Parking.valet',\n",
       "       'attributes.Smoking', 'attributes.Ambience.touristy',\n",
       "       'hours.Thursday.close', 'attributes.Ambience.casual',\n",
       "       'attributes.Ambience.romantic', 'longitude', 'attributes.Parking.lot',\n",
       "       'attributes.Attire', 'attributes.Price Range',\n",
       "       'attributes.Accepts Insurance', 'categories', 'business_id',\n",
       "       'attributes.Open 24 Hours', 'attributes.Music.background_music', 'name',\n",
       "       'attributes.Good For.breakfast', 'attributes.Parking.validated',\n",
       "       'attributes.Dietary Restrictions.halal',\n",
       "       'attributes.Accepts Credit Cards', 'attributes.Ambience.hipster',\n",
       "       'attributes.Take-out', 'attributes.Ambience.intimate',\n",
       "       'attributes.Good For.brunch', 'hours.Saturday.open',\n",
       "       'attributes.Hair Types Specialized In.africanamerican', 'neighborhoods',\n",
       "       'attributes.Waiter Service', 'attributes.Caters',\n",
       "       'hours.Saturday.close'],\n",
       "      dtype='object')"
      ]
     },
     "execution_count": 6,
     "metadata": {},
     "output_type": "execute_result"
    }
   ],
   "source": [
    "bdf.columns"
   ]
  },
  {
   "cell_type": "code",
   "execution_count": 27,
   "metadata": {
    "collapsed": false
   },
   "outputs": [],
   "source": [
    "B_ID_NAME = bdf[['business_id','name']]"
   ]
  },
  {
   "cell_type": "code",
   "execution_count": 28,
   "metadata": {
    "collapsed": false
   },
   "outputs": [
    {
     "data": {
      "text/html": [
       "<div>\n",
       "<table border=\"1\" class=\"dataframe\">\n",
       "  <thead>\n",
       "    <tr style=\"text-align: right;\">\n",
       "      <th></th>\n",
       "      <th>business_id</th>\n",
       "      <th>name</th>\n",
       "    </tr>\n",
       "  </thead>\n",
       "  <tbody>\n",
       "    <tr>\n",
       "      <th>0</th>\n",
       "      <td>b'5UmKMjUEUNdYWqANhGckJw'</td>\n",
       "      <td>b'Mr Hoagie'</td>\n",
       "    </tr>\n",
       "    <tr>\n",
       "      <th>1</th>\n",
       "      <td>b'UsFtqoBl7naz8AVUBZMjQQ'</td>\n",
       "      <td>b\"Clancy's Pub\"</td>\n",
       "    </tr>\n",
       "    <tr>\n",
       "      <th>2</th>\n",
       "      <td>b'cE27W9VPgO88Qxe4ol6y_g'</td>\n",
       "      <td>b'Cool Springs Golf Center'</td>\n",
       "    </tr>\n",
       "    <tr>\n",
       "      <th>3</th>\n",
       "      <td>b'mVHrayjG3uZ_RLHkLj-AMg'</td>\n",
       "      <td>b\"Emil's Lounge\"</td>\n",
       "    </tr>\n",
       "    <tr>\n",
       "      <th>4</th>\n",
       "      <td>b'mYSpR_SLPgUVymYOvTQd_Q'</td>\n",
       "      <td>b'Grand View Golf Club'</td>\n",
       "    </tr>\n",
       "  </tbody>\n",
       "</table>\n",
       "</div>"
      ],
      "text/plain": [
       "                 business_id                         name\n",
       "0  b'5UmKMjUEUNdYWqANhGckJw'                 b'Mr Hoagie'\n",
       "1  b'UsFtqoBl7naz8AVUBZMjQQ'              b\"Clancy's Pub\"\n",
       "2  b'cE27W9VPgO88Qxe4ol6y_g'  b'Cool Springs Golf Center'\n",
       "3  b'mVHrayjG3uZ_RLHkLj-AMg'             b\"Emil's Lounge\"\n",
       "4  b'mYSpR_SLPgUVymYOvTQd_Q'      b'Grand View Golf Club'"
      ]
     },
     "execution_count": 28,
     "metadata": {},
     "output_type": "execute_result"
    }
   ],
   "source": [
    "B_ID_NAME.head()"
   ]
  },
  {
   "cell_type": "code",
   "execution_count": 29,
   "metadata": {
    "collapsed": true
   },
   "outputs": [],
   "source": [
    "B_ID_NAME.to_csv('B_ID_NAME.csv')"
   ]
  },
  {
   "cell_type": "code",
   "execution_count": 21,
   "metadata": {
    "collapsed": true
   },
   "outputs": [],
   "source": [
    "test = B_ID_NAME.groupby(['business_id','name'])"
   ]
  },
  {
   "cell_type": "code",
   "execution_count": 26,
   "metadata": {
    "collapsed": false
   },
   "outputs": [
    {
     "data": {
      "text/html": [
       "<div>\n",
       "<table border=\"1\" class=\"dataframe\">\n",
       "  <thead>\n",
       "    <tr style=\"text-align: right;\">\n",
       "      <th></th>\n",
       "      <th>business_id</th>\n",
       "      <th>name</th>\n",
       "    </tr>\n",
       "  </thead>\n",
       "  <tbody>\n",
       "    <tr>\n",
       "      <th>0</th>\n",
       "      <td>b'5UmKMjUEUNdYWqANhGckJw'</td>\n",
       "      <td>b'Mr Hoagie'</td>\n",
       "    </tr>\n",
       "    <tr>\n",
       "      <th>1</th>\n",
       "      <td>b'UsFtqoBl7naz8AVUBZMjQQ'</td>\n",
       "      <td>b\"Clancy's Pub\"</td>\n",
       "    </tr>\n",
       "    <tr>\n",
       "      <th>2</th>\n",
       "      <td>b'cE27W9VPgO88Qxe4ol6y_g'</td>\n",
       "      <td>b'Cool Springs Golf Center'</td>\n",
       "    </tr>\n",
       "    <tr>\n",
       "      <th>3</th>\n",
       "      <td>b'mVHrayjG3uZ_RLHkLj-AMg'</td>\n",
       "      <td>b\"Emil's Lounge\"</td>\n",
       "    </tr>\n",
       "    <tr>\n",
       "      <th>4</th>\n",
       "      <td>b'mYSpR_SLPgUVymYOvTQd_Q'</td>\n",
       "      <td>b'Grand View Golf Club'</td>\n",
       "    </tr>\n",
       "    <tr>\n",
       "      <th>5</th>\n",
       "      <td>b'KayYbHCt-RkbGcPdGOThNg'</td>\n",
       "      <td>b\"Alexion's Bar &amp; Grill\"</td>\n",
       "    </tr>\n",
       "    <tr>\n",
       "      <th>6</th>\n",
       "      <td>b'b12U9TFESStdy7CsTtcOeg'</td>\n",
       "      <td>b\"Flynn's Tire &amp; Auto Service\"</td>\n",
       "    </tr>\n",
       "    <tr>\n",
       "      <th>7</th>\n",
       "      <td>b'Sktj1eHQFuVa-M4bgnEh8g'</td>\n",
       "      <td>b'Forsythe Miniature Golf &amp; Snacks'</td>\n",
       "    </tr>\n",
       "    <tr>\n",
       "      <th>8</th>\n",
       "      <td>b'3ZVKmuK2l7uXPE6lXY4Dbg'</td>\n",
       "      <td>b'Quaker State Construction'</td>\n",
       "    </tr>\n",
       "    <tr>\n",
       "      <th>9</th>\n",
       "      <td>b'QoDa50dc7g62xciFygXB9w'</td>\n",
       "      <td>b'Greentree Animal Clinic'</td>\n",
       "    </tr>\n",
       "    <tr>\n",
       "      <th>10</th>\n",
       "      <td>b'1_lU0-eSWJCRvNGk78Zh9Q'</td>\n",
       "      <td>b'Carnegie Free Library'</td>\n",
       "    </tr>\n",
       "    <tr>\n",
       "      <th>11</th>\n",
       "      <td>b'_qopVQ6_Mz6W7-Pmbi56GQ'</td>\n",
       "      <td>b'Advance Auto Parts'</td>\n",
       "    </tr>\n",
       "    <tr>\n",
       "      <th>12</th>\n",
       "      <td>b'wJr6kSA5dchdgOdwH6dZ2w'</td>\n",
       "      <td>b'Kings Family Restaurant'</td>\n",
       "    </tr>\n",
       "    <tr>\n",
       "      <th>13</th>\n",
       "      <td>b'yXuao0pFz1AxB21vJjDf5w'</td>\n",
       "      <td>b\"Shop N' Save\"</td>\n",
       "    </tr>\n",
       "    <tr>\n",
       "      <th>14</th>\n",
       "      <td>b'LLJMI-_fSp6OYQuY4rwarw'</td>\n",
       "      <td>b\"Knorr's Sunoco Service\"</td>\n",
       "    </tr>\n",
       "    <tr>\n",
       "      <th>15</th>\n",
       "      <td>b'F04xyOUA2xnUoCiWpx9iJA'</td>\n",
       "      <td>b'Rossi Tailoring &amp; Cleaners'</td>\n",
       "    </tr>\n",
       "    <tr>\n",
       "      <th>16</th>\n",
       "      <td>b'Cdcus0NADzyY3XiJM2O5Sg'</td>\n",
       "      <td>b'Heidelberg B P'</td>\n",
       "    </tr>\n",
       "    <tr>\n",
       "      <th>17</th>\n",
       "      <td>b'fNGIbpazjTRdXgwRY_NIXA'</td>\n",
       "      <td>b\"Rocky's Lounge\"</td>\n",
       "    </tr>\n",
       "    <tr>\n",
       "      <th>18</th>\n",
       "      <td>b'b9WZJp5L1RZr4F1nxclOoQ'</td>\n",
       "      <td>b'Gab &amp; Eat'</td>\n",
       "    </tr>\n",
       "    <tr>\n",
       "      <th>19</th>\n",
       "      <td>b'zaXDakTd3RXyOa7sMrUE1g'</td>\n",
       "      <td>b\"Barb's Country Junction Cafe\"</td>\n",
       "    </tr>\n",
       "    <tr>\n",
       "      <th>20</th>\n",
       "      <td>b'zgy27FSnvwdINfk5cXBIyQ'</td>\n",
       "      <td>b'Extended Stay America - Pittsburgh - Carnegie'</td>\n",
       "    </tr>\n",
       "    <tr>\n",
       "      <th>21</th>\n",
       "      <td>b'WETE_LykpcnrC1sFcQ5EGg'</td>\n",
       "      <td>b\"Paddy's Pour House\"</td>\n",
       "    </tr>\n",
       "    <tr>\n",
       "      <th>22</th>\n",
       "      <td>b'6o3RK6rTcN3nw-j-r2nQmA'</td>\n",
       "      <td>b'Porto Fino Pizzaria &amp; Gyro'</td>\n",
       "    </tr>\n",
       "    <tr>\n",
       "      <th>23</th>\n",
       "      <td>b'woOVJ0Z2f6XNCDntHA3b_g'</td>\n",
       "      <td>b'Alteration World'</td>\n",
       "    </tr>\n",
       "    <tr>\n",
       "      <th>24</th>\n",
       "      <td>b'rv7CY8G_XibTx82YhuqQRw'</td>\n",
       "      <td>b\"Long John Silver's\"</td>\n",
       "    </tr>\n",
       "    <tr>\n",
       "      <th>25</th>\n",
       "      <td>b'e_U_FnpdKVgNb4mUN2cU_Q'</td>\n",
       "      <td>b'Weinberg Lisa, DMD'</td>\n",
       "    </tr>\n",
       "    <tr>\n",
       "      <th>26</th>\n",
       "      <td>b'SQ0j7bgSTazkVQlF5AnqyQ'</td>\n",
       "      <td>b'Don Don Chinese Restaurant'</td>\n",
       "    </tr>\n",
       "    <tr>\n",
       "      <th>27</th>\n",
       "      <td>b'LTXS986DAz-4jE_sV2Ui4w'</td>\n",
       "      <td>b'Chartiers Animal Hospital'</td>\n",
       "    </tr>\n",
       "    <tr>\n",
       "      <th>28</th>\n",
       "      <td>b'wqu7ILomIOPSduRwoWp4AQ'</td>\n",
       "      <td>b\"Denny's\"</td>\n",
       "    </tr>\n",
       "    <tr>\n",
       "      <th>29</th>\n",
       "      <td>b'1u2NauOy8xDj7aFQET680A'</td>\n",
       "      <td>b'Amerifit'</td>\n",
       "    </tr>\n",
       "    <tr>\n",
       "      <th>...</th>\n",
       "      <td>...</td>\n",
       "      <td>...</td>\n",
       "    </tr>\n",
       "    <tr>\n",
       "      <th>85871</th>\n",
       "      <td>b'EB7_p4M5whur3KWesXE6gw'</td>\n",
       "      <td>b'Kanoa Strength Gym'</td>\n",
       "    </tr>\n",
       "    <tr>\n",
       "      <th>85872</th>\n",
       "      <td>b'm1sb0KxX6wjr1gdA0bCTvg'</td>\n",
       "      <td>b'March\\xc3\\xa9 Adonis'</td>\n",
       "    </tr>\n",
       "    <tr>\n",
       "      <th>85873</th>\n",
       "      <td>b'iFX50dGCzWkVyunSZUzoiw'</td>\n",
       "      <td>b'CM2 Pizzeria &amp; Bakeshop'</td>\n",
       "    </tr>\n",
       "    <tr>\n",
       "      <th>85874</th>\n",
       "      <td>b'5PGbTsWR0UN9QuzN2XljyQ'</td>\n",
       "      <td>b'The Grand Central Coffee Company'</td>\n",
       "    </tr>\n",
       "    <tr>\n",
       "      <th>85875</th>\n",
       "      <td>b'xoMhBZHpY40EAyy6iQ_I-A'</td>\n",
       "      <td>b'Sexy3D Extensions'</td>\n",
       "    </tr>\n",
       "    <tr>\n",
       "      <th>85876</th>\n",
       "      <td>b'jyNgr_fYls8Nwm1kgcza0Q'</td>\n",
       "      <td>b'Yelp Elites Celebrate The Zombie Apocalypse!'</td>\n",
       "    </tr>\n",
       "    <tr>\n",
       "      <th>85877</th>\n",
       "      <td>b'9giI9_BtiLyANWUOPOpHLQ'</td>\n",
       "      <td>b'Elites at Overture: Kinky Boots'</td>\n",
       "    </tr>\n",
       "    <tr>\n",
       "      <th>85878</th>\n",
       "      <td>b'5JDMpRduKnuPz-1OsF0I_A'</td>\n",
       "      <td>b'YEE: \"Greed\" at The Mob Museum'</td>\n",
       "    </tr>\n",
       "    <tr>\n",
       "      <th>85879</th>\n",
       "      <td>b'C6_IoaDD3mddplTXdbKGEg'</td>\n",
       "      <td>b'YEE: An Evening With Kid Cashew'</td>\n",
       "    </tr>\n",
       "    <tr>\n",
       "      <th>85880</th>\n",
       "      <td>b'UByngND8rAr6Qu2il34Qrw'</td>\n",
       "      <td>b'The Chicken Scoop'</td>\n",
       "    </tr>\n",
       "    <tr>\n",
       "      <th>85881</th>\n",
       "      <td>b'FcvkAc_OTDOOLLEln3jlxA'</td>\n",
       "      <td>b'Pure Sushi Colony'</td>\n",
       "    </tr>\n",
       "    <tr>\n",
       "      <th>85882</th>\n",
       "      <td>b'h1aZ3B_i83ccUcjgtRfMaA'</td>\n",
       "      <td>b'Skin Awakened'</td>\n",
       "    </tr>\n",
       "    <tr>\n",
       "      <th>85883</th>\n",
       "      <td>b'ieZDYoAEq0xV4budBDOU6w'</td>\n",
       "      <td>b'Brad Winston, CPA/Realtor-King of Condos, Inc.'</td>\n",
       "    </tr>\n",
       "    <tr>\n",
       "      <th>85884</th>\n",
       "      <td>b'BiufIB-tejW9JqJdxUZJ5w'</td>\n",
       "      <td>b'Pita Pit'</td>\n",
       "    </tr>\n",
       "    <tr>\n",
       "      <th>85885</th>\n",
       "      <td>b'ECRjdXYLhGzQjCoZKeq6qg'</td>\n",
       "      <td>b'Tokyo Sushi House II'</td>\n",
       "    </tr>\n",
       "    <tr>\n",
       "      <th>85886</th>\n",
       "      <td>b'mCiSmiZ7iNI08F6dGXP7tw'</td>\n",
       "      <td>b'Kneaders Bakery &amp; Cafe'</td>\n",
       "    </tr>\n",
       "    <tr>\n",
       "      <th>85887</th>\n",
       "      <td>b'csnolzm2mzbsohha4jSi-g'</td>\n",
       "      <td>b'Frys Marketplace'</td>\n",
       "    </tr>\n",
       "    <tr>\n",
       "      <th>85888</th>\n",
       "      <td>b'0c5BWTHCjKyxh4461H14IQ'</td>\n",
       "      <td>b'Photobetty Photography'</td>\n",
       "    </tr>\n",
       "    <tr>\n",
       "      <th>85889</th>\n",
       "      <td>b'TFCPmrQj9PD1WvnZGYO85Q'</td>\n",
       "      <td>b'Chestnut'</td>\n",
       "    </tr>\n",
       "    <tr>\n",
       "      <th>85890</th>\n",
       "      <td>b'hNX62vEzvdVsMUMmYYHoPQ'</td>\n",
       "      <td>b'Greathouse Sports Grill'</td>\n",
       "    </tr>\n",
       "    <tr>\n",
       "      <th>85891</th>\n",
       "      <td>b'Tc_jU5vqV6208ElA6lNk-A'</td>\n",
       "      <td>b'Bar Louie'</td>\n",
       "    </tr>\n",
       "    <tr>\n",
       "      <th>85892</th>\n",
       "      <td>b'ezB4DWv1MjWwjbIjVNAb9A'</td>\n",
       "      <td>b'Lyric Apartments'</td>\n",
       "    </tr>\n",
       "    <tr>\n",
       "      <th>85893</th>\n",
       "      <td>b'56tU2oGqnPAn621Xl_9Fpw'</td>\n",
       "      <td>b\"Dunn's Import\"</td>\n",
       "    </tr>\n",
       "    <tr>\n",
       "      <th>85894</th>\n",
       "      <td>b'BxqRovZ76pJudWJE1tNXbg'</td>\n",
       "      <td>b'Aries Unisex Salon'</td>\n",
       "    </tr>\n",
       "    <tr>\n",
       "      <th>85895</th>\n",
       "      <td>b'R4BA2eTM1jeIEq31EVlE4g'</td>\n",
       "      <td>b'Citta Delle Luci'</td>\n",
       "    </tr>\n",
       "    <tr>\n",
       "      <th>85896</th>\n",
       "      <td>b'm7-3lyY0CJEhePfJKWtD3w'</td>\n",
       "      <td>b'Bowties Bridal'</td>\n",
       "    </tr>\n",
       "    <tr>\n",
       "      <th>85897</th>\n",
       "      <td>b'g0vvhkZWZKlwF8BUeSPaTA'</td>\n",
       "      <td>b'Senor Taco'</td>\n",
       "    </tr>\n",
       "    <tr>\n",
       "      <th>85898</th>\n",
       "      <td>b'46L_7y9QXffPpOaXNLX8hg'</td>\n",
       "      <td>b'Cobblestone Auto Spa'</td>\n",
       "    </tr>\n",
       "    <tr>\n",
       "      <th>85899</th>\n",
       "      <td>b'HuLzZUBkHEcHk6ETDJIVhQ'</td>\n",
       "      <td>b'Princess Street Suites'</td>\n",
       "    </tr>\n",
       "    <tr>\n",
       "      <th>85900</th>\n",
       "      <td>b'DH2Ujt_hwcMBIz8VvCb0Lg'</td>\n",
       "      <td>b\"Salsarita's Express\"</td>\n",
       "    </tr>\n",
       "  </tbody>\n",
       "</table>\n",
       "<p>85901 rows × 2 columns</p>\n",
       "</div>"
      ],
      "text/plain": [
       "                     business_id  \\\n",
       "0      b'5UmKMjUEUNdYWqANhGckJw'   \n",
       "1      b'UsFtqoBl7naz8AVUBZMjQQ'   \n",
       "2      b'cE27W9VPgO88Qxe4ol6y_g'   \n",
       "3      b'mVHrayjG3uZ_RLHkLj-AMg'   \n",
       "4      b'mYSpR_SLPgUVymYOvTQd_Q'   \n",
       "5      b'KayYbHCt-RkbGcPdGOThNg'   \n",
       "6      b'b12U9TFESStdy7CsTtcOeg'   \n",
       "7      b'Sktj1eHQFuVa-M4bgnEh8g'   \n",
       "8      b'3ZVKmuK2l7uXPE6lXY4Dbg'   \n",
       "9      b'QoDa50dc7g62xciFygXB9w'   \n",
       "10     b'1_lU0-eSWJCRvNGk78Zh9Q'   \n",
       "11     b'_qopVQ6_Mz6W7-Pmbi56GQ'   \n",
       "12     b'wJr6kSA5dchdgOdwH6dZ2w'   \n",
       "13     b'yXuao0pFz1AxB21vJjDf5w'   \n",
       "14     b'LLJMI-_fSp6OYQuY4rwarw'   \n",
       "15     b'F04xyOUA2xnUoCiWpx9iJA'   \n",
       "16     b'Cdcus0NADzyY3XiJM2O5Sg'   \n",
       "17     b'fNGIbpazjTRdXgwRY_NIXA'   \n",
       "18     b'b9WZJp5L1RZr4F1nxclOoQ'   \n",
       "19     b'zaXDakTd3RXyOa7sMrUE1g'   \n",
       "20     b'zgy27FSnvwdINfk5cXBIyQ'   \n",
       "21     b'WETE_LykpcnrC1sFcQ5EGg'   \n",
       "22     b'6o3RK6rTcN3nw-j-r2nQmA'   \n",
       "23     b'woOVJ0Z2f6XNCDntHA3b_g'   \n",
       "24     b'rv7CY8G_XibTx82YhuqQRw'   \n",
       "25     b'e_U_FnpdKVgNb4mUN2cU_Q'   \n",
       "26     b'SQ0j7bgSTazkVQlF5AnqyQ'   \n",
       "27     b'LTXS986DAz-4jE_sV2Ui4w'   \n",
       "28     b'wqu7ILomIOPSduRwoWp4AQ'   \n",
       "29     b'1u2NauOy8xDj7aFQET680A'   \n",
       "...                          ...   \n",
       "85871  b'EB7_p4M5whur3KWesXE6gw'   \n",
       "85872  b'm1sb0KxX6wjr1gdA0bCTvg'   \n",
       "85873  b'iFX50dGCzWkVyunSZUzoiw'   \n",
       "85874  b'5PGbTsWR0UN9QuzN2XljyQ'   \n",
       "85875  b'xoMhBZHpY40EAyy6iQ_I-A'   \n",
       "85876  b'jyNgr_fYls8Nwm1kgcza0Q'   \n",
       "85877  b'9giI9_BtiLyANWUOPOpHLQ'   \n",
       "85878  b'5JDMpRduKnuPz-1OsF0I_A'   \n",
       "85879  b'C6_IoaDD3mddplTXdbKGEg'   \n",
       "85880  b'UByngND8rAr6Qu2il34Qrw'   \n",
       "85881  b'FcvkAc_OTDOOLLEln3jlxA'   \n",
       "85882  b'h1aZ3B_i83ccUcjgtRfMaA'   \n",
       "85883  b'ieZDYoAEq0xV4budBDOU6w'   \n",
       "85884  b'BiufIB-tejW9JqJdxUZJ5w'   \n",
       "85885  b'ECRjdXYLhGzQjCoZKeq6qg'   \n",
       "85886  b'mCiSmiZ7iNI08F6dGXP7tw'   \n",
       "85887  b'csnolzm2mzbsohha4jSi-g'   \n",
       "85888  b'0c5BWTHCjKyxh4461H14IQ'   \n",
       "85889  b'TFCPmrQj9PD1WvnZGYO85Q'   \n",
       "85890  b'hNX62vEzvdVsMUMmYYHoPQ'   \n",
       "85891  b'Tc_jU5vqV6208ElA6lNk-A'   \n",
       "85892  b'ezB4DWv1MjWwjbIjVNAb9A'   \n",
       "85893  b'56tU2oGqnPAn621Xl_9Fpw'   \n",
       "85894  b'BxqRovZ76pJudWJE1tNXbg'   \n",
       "85895  b'R4BA2eTM1jeIEq31EVlE4g'   \n",
       "85896  b'm7-3lyY0CJEhePfJKWtD3w'   \n",
       "85897  b'g0vvhkZWZKlwF8BUeSPaTA'   \n",
       "85898  b'46L_7y9QXffPpOaXNLX8hg'   \n",
       "85899  b'HuLzZUBkHEcHk6ETDJIVhQ'   \n",
       "85900  b'DH2Ujt_hwcMBIz8VvCb0Lg'   \n",
       "\n",
       "                                                    name  \n",
       "0                                           b'Mr Hoagie'  \n",
       "1                                        b\"Clancy's Pub\"  \n",
       "2                            b'Cool Springs Golf Center'  \n",
       "3                                       b\"Emil's Lounge\"  \n",
       "4                                b'Grand View Golf Club'  \n",
       "5                               b\"Alexion's Bar & Grill\"  \n",
       "6                         b\"Flynn's Tire & Auto Service\"  \n",
       "7                    b'Forsythe Miniature Golf & Snacks'  \n",
       "8                           b'Quaker State Construction'  \n",
       "9                             b'Greentree Animal Clinic'  \n",
       "10                              b'Carnegie Free Library'  \n",
       "11                                 b'Advance Auto Parts'  \n",
       "12                            b'Kings Family Restaurant'  \n",
       "13                                       b\"Shop N' Save\"  \n",
       "14                             b\"Knorr's Sunoco Service\"  \n",
       "15                         b'Rossi Tailoring & Cleaners'  \n",
       "16                                     b'Heidelberg B P'  \n",
       "17                                     b\"Rocky's Lounge\"  \n",
       "18                                          b'Gab & Eat'  \n",
       "19                       b\"Barb's Country Junction Cafe\"  \n",
       "20      b'Extended Stay America - Pittsburgh - Carnegie'  \n",
       "21                                 b\"Paddy's Pour House\"  \n",
       "22                         b'Porto Fino Pizzaria & Gyro'  \n",
       "23                                   b'Alteration World'  \n",
       "24                                 b\"Long John Silver's\"  \n",
       "25                                 b'Weinberg Lisa, DMD'  \n",
       "26                         b'Don Don Chinese Restaurant'  \n",
       "27                          b'Chartiers Animal Hospital'  \n",
       "28                                            b\"Denny's\"  \n",
       "29                                           b'Amerifit'  \n",
       "...                                                  ...  \n",
       "85871                              b'Kanoa Strength Gym'  \n",
       "85872                            b'March\\xc3\\xa9 Adonis'  \n",
       "85873                         b'CM2 Pizzeria & Bakeshop'  \n",
       "85874                b'The Grand Central Coffee Company'  \n",
       "85875                               b'Sexy3D Extensions'  \n",
       "85876    b'Yelp Elites Celebrate The Zombie Apocalypse!'  \n",
       "85877                 b'Elites at Overture: Kinky Boots'  \n",
       "85878                  b'YEE: \"Greed\" at The Mob Museum'  \n",
       "85879                 b'YEE: An Evening With Kid Cashew'  \n",
       "85880                               b'The Chicken Scoop'  \n",
       "85881                               b'Pure Sushi Colony'  \n",
       "85882                                   b'Skin Awakened'  \n",
       "85883  b'Brad Winston, CPA/Realtor-King of Condos, Inc.'  \n",
       "85884                                        b'Pita Pit'  \n",
       "85885                            b'Tokyo Sushi House II'  \n",
       "85886                          b'Kneaders Bakery & Cafe'  \n",
       "85887                                b'Frys Marketplace'  \n",
       "85888                          b'Photobetty Photography'  \n",
       "85889                                        b'Chestnut'  \n",
       "85890                         b'Greathouse Sports Grill'  \n",
       "85891                                       b'Bar Louie'  \n",
       "85892                                b'Lyric Apartments'  \n",
       "85893                                   b\"Dunn's Import\"  \n",
       "85894                              b'Aries Unisex Salon'  \n",
       "85895                                b'Citta Delle Luci'  \n",
       "85896                                  b'Bowties Bridal'  \n",
       "85897                                      b'Senor Taco'  \n",
       "85898                            b'Cobblestone Auto Spa'  \n",
       "85899                          b'Princess Street Suites'  \n",
       "85900                             b\"Salsarita's Express\"  \n",
       "\n",
       "[85901 rows x 2 columns]"
      ]
     },
     "execution_count": 26,
     "metadata": {},
     "output_type": "execute_result"
    }
   ],
   "source": [
    "test.head(5)"
   ]
  },
  {
   "cell_type": "code",
   "execution_count": 16,
   "metadata": {
    "collapsed": false
   },
   "outputs": [
    {
     "data": {
      "text/plain": [
       "85901"
      ]
     },
     "execution_count": 16,
     "metadata": {},
     "output_type": "execute_result"
    }
   ],
   "source": [
    "len(B_ID_NAME)"
   ]
  },
  {
   "cell_type": "code",
   "execution_count": 18,
   "metadata": {
    "collapsed": false
   },
   "outputs": [
    {
     "ename": "AttributeError",
     "evalue": "'DataFrame' object has no attribute 'set'",
     "output_type": "error",
     "traceback": [
      "\u001b[0;31m---------------------------------------------------------------------------\u001b[0m",
      "\u001b[0;31mAttributeError\u001b[0m                            Traceback (most recent call last)",
      "\u001b[0;32m<ipython-input-18-b4ac8daad8cd>\u001b[0m in \u001b[0;36m<module>\u001b[0;34m()\u001b[0m\n\u001b[0;32m----> 1\u001b[0;31m \u001b[0mtest\u001b[0m \u001b[0;34m=\u001b[0m \u001b[0mB_ID_NAME\u001b[0m\u001b[0;34m.\u001b[0m\u001b[0mset\u001b[0m\u001b[0;34m(\u001b[0m\u001b[0;34m[\u001b[0m\u001b[0;34m'business_id'\u001b[0m\u001b[0;34m,\u001b[0m\u001b[0;34m'name'\u001b[0m\u001b[0;34m]\u001b[0m\u001b[0;34m)\u001b[0m\u001b[0;34m\u001b[0m\u001b[0m\n\u001b[0m",
      "\u001b[0;32m/Users/mjlivingston/anaconda/lib/python3.5/site-packages/pandas/core/generic.py\u001b[0m in \u001b[0;36m__getattr__\u001b[0;34m(self, name)\u001b[0m\n\u001b[1;32m   2670\u001b[0m             \u001b[0;32mif\u001b[0m \u001b[0mname\u001b[0m \u001b[0;32min\u001b[0m \u001b[0mself\u001b[0m\u001b[0;34m.\u001b[0m\u001b[0m_info_axis\u001b[0m\u001b[0;34m:\u001b[0m\u001b[0;34m\u001b[0m\u001b[0m\n\u001b[1;32m   2671\u001b[0m                 \u001b[0;32mreturn\u001b[0m \u001b[0mself\u001b[0m\u001b[0;34m[\u001b[0m\u001b[0mname\u001b[0m\u001b[0;34m]\u001b[0m\u001b[0;34m\u001b[0m\u001b[0m\n\u001b[0;32m-> 2672\u001b[0;31m             \u001b[0;32mreturn\u001b[0m \u001b[0mobject\u001b[0m\u001b[0;34m.\u001b[0m\u001b[0m__getattribute__\u001b[0m\u001b[0;34m(\u001b[0m\u001b[0mself\u001b[0m\u001b[0;34m,\u001b[0m \u001b[0mname\u001b[0m\u001b[0;34m)\u001b[0m\u001b[0;34m\u001b[0m\u001b[0m\n\u001b[0m\u001b[1;32m   2673\u001b[0m \u001b[0;34m\u001b[0m\u001b[0m\n\u001b[1;32m   2674\u001b[0m     \u001b[0;32mdef\u001b[0m \u001b[0m__setattr__\u001b[0m\u001b[0;34m(\u001b[0m\u001b[0mself\u001b[0m\u001b[0;34m,\u001b[0m \u001b[0mname\u001b[0m\u001b[0;34m,\u001b[0m \u001b[0mvalue\u001b[0m\u001b[0;34m)\u001b[0m\u001b[0;34m:\u001b[0m\u001b[0;34m\u001b[0m\u001b[0m\n",
      "\u001b[0;31mAttributeError\u001b[0m: 'DataFrame' object has no attribute 'set'"
     ]
    }
   ],
   "source": [
    "test = B_ID_NAME.set(['business_id','name'])"
   ]
  },
  {
   "cell_type": "code",
   "execution_count": 40,
   "metadata": {
    "collapsed": true
   },
   "outputs": [],
   "source": [
    "#create df that is just columns of interest#"
   ]
  },
  {
   "cell_type": "code",
   "execution_count": 4,
   "metadata": {
    "collapsed": false
   },
   "outputs": [
    {
     "data": {
      "text/html": [
       "<div>\n",
       "<table border=\"1\" class=\"dataframe\">\n",
       "  <thead>\n",
       "    <tr style=\"text-align: right;\">\n",
       "      <th></th>\n",
       "      <th>business_id</th>\n",
       "      <th>name</th>\n",
       "      <th>city</th>\n",
       "      <th>state</th>\n",
       "      <th>categories</th>\n",
       "      <th>stars</th>\n",
       "      <th>review_count</th>\n",
       "    </tr>\n",
       "  </thead>\n",
       "  <tbody>\n",
       "    <tr>\n",
       "      <th>0</th>\n",
       "      <td>b'5UmKMjUEUNdYWqANhGckJw'</td>\n",
       "      <td>b'Mr Hoagie'</td>\n",
       "      <td>b'Dravosburg'</td>\n",
       "      <td>b'PA'</td>\n",
       "      <td>['Fast Food', 'Restaurants']</td>\n",
       "      <td>3.5</td>\n",
       "      <td>7</td>\n",
       "    </tr>\n",
       "    <tr>\n",
       "      <th>1</th>\n",
       "      <td>b'UsFtqoBl7naz8AVUBZMjQQ'</td>\n",
       "      <td>b\"Clancy's Pub\"</td>\n",
       "      <td>b'Dravosburg'</td>\n",
       "      <td>b'PA'</td>\n",
       "      <td>['Nightlife']</td>\n",
       "      <td>3.0</td>\n",
       "      <td>5</td>\n",
       "    </tr>\n",
       "    <tr>\n",
       "      <th>2</th>\n",
       "      <td>b'cE27W9VPgO88Qxe4ol6y_g'</td>\n",
       "      <td>b'Cool Springs Golf Center'</td>\n",
       "      <td>b'Bethel Park'</td>\n",
       "      <td>b'PA'</td>\n",
       "      <td>['Active Life', 'Mini Golf', 'Golf']</td>\n",
       "      <td>2.5</td>\n",
       "      <td>5</td>\n",
       "    </tr>\n",
       "    <tr>\n",
       "      <th>3</th>\n",
       "      <td>b'mVHrayjG3uZ_RLHkLj-AMg'</td>\n",
       "      <td>b\"Emil's Lounge\"</td>\n",
       "      <td>b'Braddock'</td>\n",
       "      <td>b'PA'</td>\n",
       "      <td>['Bars', 'American (New)', 'Nightlife', 'Loung...</td>\n",
       "      <td>4.5</td>\n",
       "      <td>26</td>\n",
       "    </tr>\n",
       "    <tr>\n",
       "      <th>4</th>\n",
       "      <td>b'mYSpR_SLPgUVymYOvTQd_Q'</td>\n",
       "      <td>b'Grand View Golf Club'</td>\n",
       "      <td>b'Braddock'</td>\n",
       "      <td>b'PA'</td>\n",
       "      <td>['Active Life', 'Golf']</td>\n",
       "      <td>5.0</td>\n",
       "      <td>3</td>\n",
       "    </tr>\n",
       "  </tbody>\n",
       "</table>\n",
       "</div>"
      ],
      "text/plain": [
       "                 business_id                         name            city  \\\n",
       "0  b'5UmKMjUEUNdYWqANhGckJw'                 b'Mr Hoagie'   b'Dravosburg'   \n",
       "1  b'UsFtqoBl7naz8AVUBZMjQQ'              b\"Clancy's Pub\"   b'Dravosburg'   \n",
       "2  b'cE27W9VPgO88Qxe4ol6y_g'  b'Cool Springs Golf Center'  b'Bethel Park'   \n",
       "3  b'mVHrayjG3uZ_RLHkLj-AMg'             b\"Emil's Lounge\"     b'Braddock'   \n",
       "4  b'mYSpR_SLPgUVymYOvTQd_Q'      b'Grand View Golf Club'     b'Braddock'   \n",
       "\n",
       "   state                                         categories  stars  \\\n",
       "0  b'PA'                       ['Fast Food', 'Restaurants']    3.5   \n",
       "1  b'PA'                                      ['Nightlife']    3.0   \n",
       "2  b'PA'               ['Active Life', 'Mini Golf', 'Golf']    2.5   \n",
       "3  b'PA'  ['Bars', 'American (New)', 'Nightlife', 'Loung...    4.5   \n",
       "4  b'PA'                            ['Active Life', 'Golf']    5.0   \n",
       "\n",
       "   review_count  \n",
       "0             7  \n",
       "1             5  \n",
       "2             5  \n",
       "3            26  \n",
       "4             3  "
      ]
     },
     "execution_count": 4,
     "metadata": {},
     "output_type": "execute_result"
    }
   ],
   "source": [
    "a = bdf[['business_id','name','city', 'state','categories','stars','review_count']]\n",
    "a.head()"
   ]
  },
  {
   "cell_type": "code",
   "execution_count": null,
   "metadata": {
    "collapsed": true
   },
   "outputs": [],
   "source": []
  },
  {
   "cell_type": "code",
   "execution_count": 41,
   "metadata": {
    "collapsed": true
   },
   "outputs": [],
   "source": [
    "#check to see that each entry is unique#"
   ]
  },
  {
   "cell_type": "code",
   "execution_count": 5,
   "metadata": {
    "collapsed": false
   },
   "outputs": [
    {
     "data": {
      "text/plain": [
       "85901"
      ]
     },
     "execution_count": 5,
     "metadata": {},
     "output_type": "execute_result"
    }
   ],
   "source": [
    "check_uniques = bdf[['business_id']]\n",
    "check_uniques = set(check_uniques.business_id)\n",
    "len(check_uniques)"
   ]
  },
  {
   "cell_type": "code",
   "execution_count": 47,
   "metadata": {
    "collapsed": true
   },
   "outputs": [],
   "source": [
    "#aggregation count by state#"
   ]
  },
  {
   "cell_type": "code",
   "execution_count": 51,
   "metadata": {
    "collapsed": false
   },
   "outputs": [
    {
     "data": {
      "text/plain": [
       "b'AZ'    36500\n",
       "b'NV'    23591\n",
       "b'NC'     6835\n",
       "b'QC'     5591\n",
       "b'PA'     4086\n",
       "Name: state, dtype: int64"
      ]
     },
     "execution_count": 51,
     "metadata": {},
     "output_type": "execute_result"
    }
   ],
   "source": [
    "a.state.value_counts().head()"
   ]
  },
  {
   "cell_type": "markdown",
   "metadata": {},
   "source": [
    "Looks like vast majority is in Arizona and Nevada"
   ]
  },
  {
   "cell_type": "code",
   "execution_count": 48,
   "metadata": {
    "collapsed": true
   },
   "outputs": [],
   "source": [
    "#aggregation count by categories#"
   ]
  },
  {
   "cell_type": "code",
   "execution_count": 50,
   "metadata": {
    "collapsed": false
   },
   "outputs": [
    {
     "data": {
      "text/plain": [
       "['Mexican', 'Restaurants']          1680\n",
       "['Pizza', 'Restaurants']            1298\n",
       "['Food', 'Coffee & Tea']            1206\n",
       "['Beauty & Spas', 'Nail Salons']    1183\n",
       "['Hair Salons', 'Beauty & Spas']    1127\n",
       "Name: categories, dtype: int64"
      ]
     },
     "execution_count": 50,
     "metadata": {},
     "output_type": "execute_result"
    }
   ],
   "source": [
    "a.categories.value_counts().head()"
   ]
  },
  {
   "cell_type": "markdown",
   "metadata": {},
   "source": [
    "Will have to flatten this and create list where business_id is more than one dimension"
   ]
  },
  {
   "cell_type": "code",
   "execution_count": 52,
   "metadata": {
    "collapsed": true
   },
   "outputs": [],
   "source": [
    "#aggregation count by stars#"
   ]
  },
  {
   "cell_type": "code",
   "execution_count": 88,
   "metadata": {
    "collapsed": false
   },
   "outputs": [
    {
     "data": {
      "text/plain": [
       "4.0    17456\n",
       "3.5    16624\n",
       "4.5    13648\n",
       "5.0    12964\n",
       "3.0    11023\n",
       "2.5     7447\n",
       "2.0     3777\n",
       "1.5     1890\n",
       "1.0     1072\n",
       "Name: stars, dtype: int64"
      ]
     },
     "execution_count": 88,
     "metadata": {},
     "output_type": "execute_result"
    }
   ],
   "source": [
    "a.stars.value_counts()"
   ]
  },
  {
   "cell_type": "code",
   "execution_count": 71,
   "metadata": {
    "collapsed": true
   },
   "outputs": [],
   "source": [
    "import numpy as np\n",
    "import matplotlib.pyplot as plt\n",
    "%matplotlib inline"
   ]
  },
  {
   "cell_type": "code",
   "execution_count": 72,
   "metadata": {
    "collapsed": true
   },
   "outputs": [],
   "source": [
    "import seaborn as sns\n",
    "import scipy as sci"
   ]
  },
  {
   "cell_type": "code",
   "execution_count": 73,
   "metadata": {
    "collapsed": true
   },
   "outputs": [],
   "source": [
    "sns.set_palette(\"deep\", desat=.6)\n",
    "sns.set_context(rc={\"figure.figsize\": (8,4)})"
   ]
  },
  {
   "cell_type": "code",
   "execution_count": 87,
   "metadata": {
    "collapsed": false
   },
   "outputs": [
    {
     "data": {
      "text/plain": [
       "<matplotlib.axes._subplots.AxesSubplot at 0x11413c9b0>"
      ]
     },
     "execution_count": 87,
     "metadata": {},
     "output_type": "execute_result"
    },
    {
     "data": {
      "image/png": "[encoded data removed]",
      "text/plain": [
       "<matplotlib.figure.Figure at 0x1149bbd68>"
      ]
     },
     "metadata": {},
     "output_type": "display_data"
    }
   ],
   "source": [
    "sns.boxplot(a.stars)"
   ]
  },
  {
   "cell_type": "code",
   "execution_count": 55,
   "metadata": {
    "collapsed": true
   },
   "outputs": [],
   "source": [
    "#aggregation count by review_count#"
   ]
  },
  {
   "cell_type": "code",
   "execution_count": 58,
   "metadata": {
    "collapsed": false
   },
   "outputs": [
    {
     "data": {
      "text/plain": [
       "3    11319\n",
       "4     8337\n",
       "5     6544\n",
       "6     5216\n",
       "7     4275\n",
       "Name: review_count, dtype: int64"
      ]
     },
     "execution_count": 58,
     "metadata": {},
     "output_type": "execute_result"
    }
   ],
   "source": [
    "a.review_count.value_counts().head()"
   ]
  },
  {
   "cell_type": "code",
   "execution_count": 89,
   "metadata": {
    "collapsed": false
   },
   "outputs": [
    {
     "data": {
      "text/plain": [
       "(array([  8.55150000e+04,   2.82000000e+02,   5.80000000e+01,\n",
       "          2.30000000e+01,   9.00000000e+00,   7.00000000e+00,\n",
       "          2.00000000e+00,   2.00000000e+00,   2.00000000e+00,\n",
       "          1.00000000e+00]),\n",
       " array([  3.00000000e+00,   6.22700000e+02,   1.24240000e+03,\n",
       "          1.86210000e+03,   2.48180000e+03,   3.10150000e+03,\n",
       "          3.72120000e+03,   4.34090000e+03,   4.96060000e+03,\n",
       "          5.58030000e+03,   6.20000000e+03]),\n",
       " <a list of 10 Patch objects>)"
      ]
     },
     "execution_count": 89,
     "metadata": {},
     "output_type": "execute_result"
    },
    {
     "data": {
      "image/png": "[encoded data removed]",
      "text/plain": [
       "<matplotlib.figure.Figure at 0x1149f64e0>"
      ]
     },
     "metadata": {},
     "output_type": "display_data"
    }
   ],
   "source": [
    "plt.hist(a.review_count)"
   ]
  },
  {
   "cell_type": "code",
   "execution_count": 93,
   "metadata": {
    "collapsed": true
   },
   "outputs": [],
   "source": [
    "#See how many business have greater than x reviews (trying to find business with enough)#"
   ]
  },
  {
   "cell_type": "code",
   "execution_count": 91,
   "metadata": {
    "collapsed": false
   },
   "outputs": [
    {
     "data": {
      "text/plain": [
       "43604"
      ]
     },
     "execution_count": 91,
     "metadata": {},
     "output_type": "execute_result"
    }
   ],
   "source": [
    "len(a[a.review_count >=10])"
   ]
  },
  {
   "cell_type": "code",
   "execution_count": 94,
   "metadata": {
    "collapsed": false
   },
   "outputs": [
    {
     "data": {
      "text/plain": [
       "12278"
      ]
     },
     "execution_count": 94,
     "metadata": {},
     "output_type": "execute_result"
    }
   ],
   "source": [
    "len(a[a.review_count >=50])"
   ]
  },
  {
   "cell_type": "code",
   "execution_count": null,
   "metadata": {
    "collapsed": true
   },
   "outputs": [],
   "source": []
  },
  {
   "cell_type": "code",
   "execution_count": 7,
   "metadata": {
    "collapsed": false
   },
   "outputs": [
    {
     "data": {
      "text/html": [
       "<div>\n",
       "<table border=\"1\" class=\"dataframe\">\n",
       "  <thead>\n",
       "    <tr style=\"text-align: right;\">\n",
       "      <th></th>\n",
       "      <th>business_id</th>\n",
       "    </tr>\n",
       "  </thead>\n",
       "  <tbody>\n",
       "    <tr>\n",
       "      <th>0</th>\n",
       "      <td>b'5UmKMjUEUNdYWqANhGckJw'</td>\n",
       "    </tr>\n",
       "    <tr>\n",
       "      <th>1</th>\n",
       "      <td>b'UsFtqoBl7naz8AVUBZMjQQ'</td>\n",
       "    </tr>\n",
       "    <tr>\n",
       "      <th>2</th>\n",
       "      <td>b'cE27W9VPgO88Qxe4ol6y_g'</td>\n",
       "    </tr>\n",
       "    <tr>\n",
       "      <th>3</th>\n",
       "      <td>b'mVHrayjG3uZ_RLHkLj-AMg'</td>\n",
       "    </tr>\n",
       "    <tr>\n",
       "      <th>4</th>\n",
       "      <td>b'mYSpR_SLPgUVymYOvTQd_Q'</td>\n",
       "    </tr>\n",
       "  </tbody>\n",
       "</table>\n",
       "</div>"
      ],
      "text/plain": [
       "                 business_id\n",
       "0  b'5UmKMjUEUNdYWqANhGckJw'\n",
       "1  b'UsFtqoBl7naz8AVUBZMjQQ'\n",
       "2  b'cE27W9VPgO88Qxe4ol6y_g'\n",
       "3  b'mVHrayjG3uZ_RLHkLj-AMg'\n",
       "4  b'mYSpR_SLPgUVymYOvTQd_Q'"
      ]
     },
     "execution_count": 7,
     "metadata": {},
     "output_type": "execute_result"
    }
   ],
   "source": [
    "unique_BI = bdf[['business_id']]\n",
    "unique_BI.head()"
   ]
  },
  {
   "cell_type": "code",
   "execution_count": 8,
   "metadata": {
    "collapsed": true
   },
   "outputs": [],
   "source": [
    "unique_BI.to_csv('unique_BI_in_categories.csv')"
   ]
  },
  {
   "cell_type": "code",
   "execution_count": 9,
   "metadata": {
    "collapsed": true
   },
   "outputs": [],
   "source": [
    "cats = bdf[['business_id','categories']]"
   ]
  },
  {
   "cell_type": "code",
   "execution_count": 159,
   "metadata": {
    "collapsed": false
   },
   "outputs": [
    {
     "data": {
      "text/html": [
       "<div>\n",
       "<table border=\"1\" class=\"dataframe\">\n",
       "  <thead>\n",
       "    <tr style=\"text-align: right;\">\n",
       "      <th></th>\n",
       "      <th>business_id</th>\n",
       "      <th>categories</th>\n",
       "    </tr>\n",
       "  </thead>\n",
       "  <tbody>\n",
       "    <tr>\n",
       "      <th>0</th>\n",
       "      <td>b'5UmKMjUEUNdYWqANhGckJw'</td>\n",
       "      <td>['Fast Food', 'Restaurants']</td>\n",
       "    </tr>\n",
       "    <tr>\n",
       "      <th>1</th>\n",
       "      <td>b'UsFtqoBl7naz8AVUBZMjQQ'</td>\n",
       "      <td>['Nightlife']</td>\n",
       "    </tr>\n",
       "    <tr>\n",
       "      <th>2</th>\n",
       "      <td>b'cE27W9VPgO88Qxe4ol6y_g'</td>\n",
       "      <td>['Active Life', 'Mini Golf', 'Golf']</td>\n",
       "    </tr>\n",
       "    <tr>\n",
       "      <th>3</th>\n",
       "      <td>b'mVHrayjG3uZ_RLHkLj-AMg'</td>\n",
       "      <td>['Bars', 'American (New)', 'Nightlife', 'Loung...</td>\n",
       "    </tr>\n",
       "    <tr>\n",
       "      <th>4</th>\n",
       "      <td>b'mYSpR_SLPgUVymYOvTQd_Q'</td>\n",
       "      <td>['Active Life', 'Golf']</td>\n",
       "    </tr>\n",
       "  </tbody>\n",
       "</table>\n",
       "</div>"
      ],
      "text/plain": [
       "                 business_id  \\\n",
       "0  b'5UmKMjUEUNdYWqANhGckJw'   \n",
       "1  b'UsFtqoBl7naz8AVUBZMjQQ'   \n",
       "2  b'cE27W9VPgO88Qxe4ol6y_g'   \n",
       "3  b'mVHrayjG3uZ_RLHkLj-AMg'   \n",
       "4  b'mYSpR_SLPgUVymYOvTQd_Q'   \n",
       "\n",
       "                                          categories  \n",
       "0                       ['Fast Food', 'Restaurants']  \n",
       "1                                      ['Nightlife']  \n",
       "2               ['Active Life', 'Mini Golf', 'Golf']  \n",
       "3  ['Bars', 'American (New)', 'Nightlife', 'Loung...  \n",
       "4                            ['Active Life', 'Golf']  "
      ]
     },
     "execution_count": 159,
     "metadata": {},
     "output_type": "execute_result"
    }
   ],
   "source": [
    "cats.head()"
   ]
  },
  {
   "cell_type": "code",
   "execution_count": 166,
   "metadata": {
    "collapsed": true
   },
   "outputs": [],
   "source": [
    "test = cats"
   ]
  },
  {
   "cell_type": "code",
   "execution_count": 167,
   "metadata": {
    "collapsed": false
   },
   "outputs": [],
   "source": [
    "test['categories'] = test['categories'].str.strip('[]')"
   ]
  },
  {
   "cell_type": "code",
   "execution_count": 197,
   "metadata": {
    "collapsed": false
   },
   "outputs": [
    {
     "data": {
      "text/html": [
       "<div>\n",
       "<table border=\"1\" class=\"dataframe\">\n",
       "  <thead>\n",
       "    <tr style=\"text-align: right;\">\n",
       "      <th></th>\n",
       "      <th>business_id</th>\n",
       "      <th>categories</th>\n",
       "    </tr>\n",
       "  </thead>\n",
       "  <tbody>\n",
       "    <tr>\n",
       "      <th>0</th>\n",
       "      <td>b'5UmKMjUEUNdYWqANhGckJw'</td>\n",
       "      <td>'Fast Food', 'Restaurants'</td>\n",
       "    </tr>\n",
       "    <tr>\n",
       "      <th>1</th>\n",
       "      <td>b'UsFtqoBl7naz8AVUBZMjQQ'</td>\n",
       "      <td>'Nightlife'</td>\n",
       "    </tr>\n",
       "    <tr>\n",
       "      <th>2</th>\n",
       "      <td>b'cE27W9VPgO88Qxe4ol6y_g'</td>\n",
       "      <td>'Active Life', 'Mini Golf', 'Golf'</td>\n",
       "    </tr>\n",
       "    <tr>\n",
       "      <th>3</th>\n",
       "      <td>b'mVHrayjG3uZ_RLHkLj-AMg'</td>\n",
       "      <td>'Bars', 'American (New)', 'Nightlife', 'Lounge...</td>\n",
       "    </tr>\n",
       "    <tr>\n",
       "      <th>4</th>\n",
       "      <td>b'mYSpR_SLPgUVymYOvTQd_Q'</td>\n",
       "      <td>'Active Life', 'Golf'</td>\n",
       "    </tr>\n",
       "  </tbody>\n",
       "</table>\n",
       "</div>"
      ],
      "text/plain": [
       "                 business_id  \\\n",
       "0  b'5UmKMjUEUNdYWqANhGckJw'   \n",
       "1  b'UsFtqoBl7naz8AVUBZMjQQ'   \n",
       "2  b'cE27W9VPgO88Qxe4ol6y_g'   \n",
       "3  b'mVHrayjG3uZ_RLHkLj-AMg'   \n",
       "4  b'mYSpR_SLPgUVymYOvTQd_Q'   \n",
       "\n",
       "                                          categories  \n",
       "0                         'Fast Food', 'Restaurants'  \n",
       "1                                        'Nightlife'  \n",
       "2                 'Active Life', 'Mini Golf', 'Golf'  \n",
       "3  'Bars', 'American (New)', 'Nightlife', 'Lounge...  \n",
       "4                              'Active Life', 'Golf'  "
      ]
     },
     "execution_count": 197,
     "metadata": {},
     "output_type": "execute_result"
    }
   ],
   "source": [
    "test.head()"
   ]
  },
  {
   "cell_type": "code",
   "execution_count": 198,
   "metadata": {
    "collapsed": false
   },
   "outputs": [
    {
     "data": {
      "text/plain": [
       "85901"
      ]
     },
     "execution_count": 198,
     "metadata": {},
     "output_type": "execute_result"
    }
   ],
   "source": [
    "len(test)"
   ]
  },
  {
   "cell_type": "code",
   "execution_count": 181,
   "metadata": {
    "collapsed": false
   },
   "outputs": [
    {
     "data": {
      "text/plain": [
       "business_id                 \n",
       "b'5UmKMjUEUNdYWqANhGckJw'  0       'Fast Food'\n",
       "                           1     'Restaurants'\n",
       "b'UsFtqoBl7naz8AVUBZMjQQ'  0       'Nightlife'\n",
       "b'cE27W9VPgO88Qxe4ol6y_g'  0     'Active Life'\n",
       "                           1       'Mini Golf'\n",
       "dtype: object"
      ]
     },
     "execution_count": 181,
     "metadata": {},
     "output_type": "execute_result"
    }
   ],
   "source": [
    "b = pd.DataFrame(test.categories.str.split(',').tolist(), index=test.business_id).stack()\n",
    "b.head()"
   ]
  },
  {
   "cell_type": "code",
   "execution_count": 189,
   "metadata": {
    "collapsed": false
   },
   "outputs": [
    {
     "data": {
      "text/html": [
       "<div>\n",
       "<table border=\"1\" class=\"dataframe\">\n",
       "  <thead>\n",
       "    <tr style=\"text-align: right;\">\n",
       "      <th></th>\n",
       "      <th>0</th>\n",
       "      <th>business_id</th>\n",
       "    </tr>\n",
       "  </thead>\n",
       "  <tbody>\n",
       "    <tr>\n",
       "      <th>0</th>\n",
       "      <td>'Fast Food'</td>\n",
       "      <td>b'5UmKMjUEUNdYWqANhGckJw'</td>\n",
       "    </tr>\n",
       "    <tr>\n",
       "      <th>1</th>\n",
       "      <td>'Restaurants'</td>\n",
       "      <td>b'5UmKMjUEUNdYWqANhGckJw'</td>\n",
       "    </tr>\n",
       "    <tr>\n",
       "      <th>2</th>\n",
       "      <td>'Nightlife'</td>\n",
       "      <td>b'UsFtqoBl7naz8AVUBZMjQQ'</td>\n",
       "    </tr>\n",
       "    <tr>\n",
       "      <th>3</th>\n",
       "      <td>'Active Life'</td>\n",
       "      <td>b'cE27W9VPgO88Qxe4ol6y_g'</td>\n",
       "    </tr>\n",
       "    <tr>\n",
       "      <th>4</th>\n",
       "      <td>'Mini Golf'</td>\n",
       "      <td>b'cE27W9VPgO88Qxe4ol6y_g'</td>\n",
       "    </tr>\n",
       "    <tr>\n",
       "      <th>5</th>\n",
       "      <td>'Golf'</td>\n",
       "      <td>b'cE27W9VPgO88Qxe4ol6y_g'</td>\n",
       "    </tr>\n",
       "    <tr>\n",
       "      <th>6</th>\n",
       "      <td>'Bars'</td>\n",
       "      <td>b'mVHrayjG3uZ_RLHkLj-AMg'</td>\n",
       "    </tr>\n",
       "    <tr>\n",
       "      <th>7</th>\n",
       "      <td>'American (New)'</td>\n",
       "      <td>b'mVHrayjG3uZ_RLHkLj-AMg'</td>\n",
       "    </tr>\n",
       "    <tr>\n",
       "      <th>8</th>\n",
       "      <td>'Nightlife'</td>\n",
       "      <td>b'mVHrayjG3uZ_RLHkLj-AMg'</td>\n",
       "    </tr>\n",
       "    <tr>\n",
       "      <th>9</th>\n",
       "      <td>'Lounges'</td>\n",
       "      <td>b'mVHrayjG3uZ_RLHkLj-AMg'</td>\n",
       "    </tr>\n",
       "    <tr>\n",
       "      <th>10</th>\n",
       "      <td>'Restaurants'</td>\n",
       "      <td>b'mVHrayjG3uZ_RLHkLj-AMg'</td>\n",
       "    </tr>\n",
       "    <tr>\n",
       "      <th>11</th>\n",
       "      <td>'Active Life'</td>\n",
       "      <td>b'mYSpR_SLPgUVymYOvTQd_Q'</td>\n",
       "    </tr>\n",
       "    <tr>\n",
       "      <th>12</th>\n",
       "      <td>'Golf'</td>\n",
       "      <td>b'mYSpR_SLPgUVymYOvTQd_Q'</td>\n",
       "    </tr>\n",
       "    <tr>\n",
       "      <th>13</th>\n",
       "      <td>'Bars'</td>\n",
       "      <td>b'KayYbHCt-RkbGcPdGOThNg'</td>\n",
       "    </tr>\n",
       "    <tr>\n",
       "      <th>14</th>\n",
       "      <td>'American (Traditional)'</td>\n",
       "      <td>b'KayYbHCt-RkbGcPdGOThNg'</td>\n",
       "    </tr>\n",
       "  </tbody>\n",
       "</table>\n",
       "</div>"
      ],
      "text/plain": [
       "                            0                business_id\n",
       "0                 'Fast Food'  b'5UmKMjUEUNdYWqANhGckJw'\n",
       "1               'Restaurants'  b'5UmKMjUEUNdYWqANhGckJw'\n",
       "2                 'Nightlife'  b'UsFtqoBl7naz8AVUBZMjQQ'\n",
       "3               'Active Life'  b'cE27W9VPgO88Qxe4ol6y_g'\n",
       "4                 'Mini Golf'  b'cE27W9VPgO88Qxe4ol6y_g'\n",
       "5                      'Golf'  b'cE27W9VPgO88Qxe4ol6y_g'\n",
       "6                      'Bars'  b'mVHrayjG3uZ_RLHkLj-AMg'\n",
       "7            'American (New)'  b'mVHrayjG3uZ_RLHkLj-AMg'\n",
       "8                 'Nightlife'  b'mVHrayjG3uZ_RLHkLj-AMg'\n",
       "9                   'Lounges'  b'mVHrayjG3uZ_RLHkLj-AMg'\n",
       "10              'Restaurants'  b'mVHrayjG3uZ_RLHkLj-AMg'\n",
       "11              'Active Life'  b'mYSpR_SLPgUVymYOvTQd_Q'\n",
       "12                     'Golf'  b'mYSpR_SLPgUVymYOvTQd_Q'\n",
       "13                     'Bars'  b'KayYbHCt-RkbGcPdGOThNg'\n",
       "14   'American (Traditional)'  b'KayYbHCt-RkbGcPdGOThNg'"
      ]
     },
     "execution_count": 189,
     "metadata": {},
     "output_type": "execute_result"
    }
   ],
   "source": [
    "b = b.reset_index()[[0, 'business_id']] # var1 variable is currently labeled 0\n",
    "b.head(15)"
   ]
  },
  {
   "cell_type": "code",
   "execution_count": 190,
   "metadata": {
    "collapsed": true
   },
   "outputs": [],
   "source": [
    "b.columns = ['categories','business_id'] "
   ]
  },
  {
   "cell_type": "code",
   "execution_count": 199,
   "metadata": {
    "collapsed": false
   },
   "outputs": [
    {
     "data": {
      "text/html": [
       "<div>\n",
       "<table border=\"1\" class=\"dataframe\">\n",
       "  <thead>\n",
       "    <tr style=\"text-align: right;\">\n",
       "      <th></th>\n",
       "      <th>categories</th>\n",
       "      <th>business_id</th>\n",
       "    </tr>\n",
       "  </thead>\n",
       "  <tbody>\n",
       "    <tr>\n",
       "      <th>0</th>\n",
       "      <td>'Fast Food'</td>\n",
       "      <td>b'5UmKMjUEUNdYWqANhGckJw'</td>\n",
       "    </tr>\n",
       "    <tr>\n",
       "      <th>1</th>\n",
       "      <td>'Restaurants'</td>\n",
       "      <td>b'5UmKMjUEUNdYWqANhGckJw'</td>\n",
       "    </tr>\n",
       "    <tr>\n",
       "      <th>2</th>\n",
       "      <td>'Nightlife'</td>\n",
       "      <td>b'UsFtqoBl7naz8AVUBZMjQQ'</td>\n",
       "    </tr>\n",
       "    <tr>\n",
       "      <th>3</th>\n",
       "      <td>'Active Life'</td>\n",
       "      <td>b'cE27W9VPgO88Qxe4ol6y_g'</td>\n",
       "    </tr>\n",
       "    <tr>\n",
       "      <th>4</th>\n",
       "      <td>'Mini Golf'</td>\n",
       "      <td>b'cE27W9VPgO88Qxe4ol6y_g'</td>\n",
       "    </tr>\n",
       "  </tbody>\n",
       "</table>\n",
       "</div>"
      ],
      "text/plain": [
       "       categories                business_id\n",
       "0     'Fast Food'  b'5UmKMjUEUNdYWqANhGckJw'\n",
       "1   'Restaurants'  b'5UmKMjUEUNdYWqANhGckJw'\n",
       "2     'Nightlife'  b'UsFtqoBl7naz8AVUBZMjQQ'\n",
       "3   'Active Life'  b'cE27W9VPgO88Qxe4ol6y_g'\n",
       "4     'Mini Golf'  b'cE27W9VPgO88Qxe4ol6y_g'"
      ]
     },
     "execution_count": 199,
     "metadata": {},
     "output_type": "execute_result"
    }
   ],
   "source": [
    "b.head()"
   ]
  },
  {
   "cell_type": "code",
   "execution_count": 200,
   "metadata": {
    "collapsed": false
   },
   "outputs": [
    {
     "data": {
      "text/plain": [
       "258014"
      ]
     },
     "execution_count": 200,
     "metadata": {},
     "output_type": "execute_result"
    }
   ],
   "source": [
    "len(b)"
   ]
  },
  {
   "cell_type": "code",
   "execution_count": 201,
   "metadata": {
    "collapsed": false
   },
   "outputs": [
    {
     "data": {
      "text/plain": [
       " 'Restaurants'                  25433\n",
       " 'Shopping'                      8769\n",
       "'Food'                           8404\n",
       " 'Beauty & Spas'                 6060\n",
       " 'Nightlife'                     5013\n",
       " 'Health & Medical'              4285\n",
       " 'Home Services'                 4012\n",
       "'Shopping'                       3675\n",
       "'Local Services'                 3667\n",
       " 'Automotive'                    3240\n",
       "'Active Life'                    3122\n",
       " 'Event Planning & Services'     2912\n",
       "'Bars'                           2864\n",
       " 'Fashion'                       2611\n",
       "'Hotels & Travel'                2396\n",
       " 'Coffee & Tea'                  2354\n",
       "'Hair Salons'                    2330\n",
       " 'Sandwiches'                    1960\n",
       "'Fast Food'                      1912\n",
       " 'Home & Garden'                 1886\n",
       " 'Nail Salons'                   1879\n",
       " 'Bars'                          1863\n",
       "'Home Services'                  1854\n",
       "'Health & Medical'               1821\n",
       "'Mexican'                        1798\n",
       "'Burgers'                        1741\n",
       " 'Food'                          1739\n",
       "'Auto Repair'                    1726\n",
       " 'American (Traditional)'        1716\n",
       "'Automotive'                     1648\n",
       "Name: categories, dtype: int64"
      ]
     },
     "execution_count": 201,
     "metadata": {},
     "output_type": "execute_result"
    }
   ],
   "source": [
    "b.categories.value_counts().head(30)"
   ]
  },
  {
   "cell_type": "markdown",
   "metadata": {},
   "source": [
    "Need to trim up the text in categories because not grouping right"
   ]
  },
  {
   "cell_type": "code",
   "execution_count": 202,
   "metadata": {
    "collapsed": false
   },
   "outputs": [
    {
     "name": "stdout",
     "output_type": "stream",
     "text": [
      "Stored 'b' (DataFrame)\n"
     ]
    }
   ],
   "source": [
    "%store b"
   ]
  },
  {
   "cell_type": "code",
   "execution_count": null,
   "metadata": {
    "collapsed": true
   },
   "outputs": [],
   "source": []
  }
 ],
 "metadata": {
  "anaconda-cloud": {},
  "kernelspec": {
   "display_name": "Python [Root]",
   "language": "python",
   "name": "Python [Root]"
  },
  "language_info": {
   "codemirror_mode": {
    "name": "ipython",
    "version": 3
   },
   "file_extension": ".py",
   "mimetype": "text/x-python",
   "name": "python",
   "nbconvert_exporter": "python",
   "pygments_lexer": "ipython3",
   "version": "3.5.2"
  }
 },
 "nbformat": 4,
 "nbformat_minor": 0
}
