{
 "cells": [
  {
   "cell_type": "markdown",
   "metadata": {},
   "source": [
    "# 9/15 Yelp Academic Dataset Reviews"
   ]
  },
  {
   "cell_type": "code",
   "execution_count": 2,
   "metadata": {
    "collapsed": true
   },
   "outputs": [],
   "source": [
    "import pandas as pd"
   ]
  },
  {
   "cell_type": "code",
   "execution_count": 3,
   "metadata": {
    "collapsed": true
   },
   "outputs": [],
   "source": [
    "rdf = pd.read_csv('yelp_academic_dataset_review.csv')"
   ]
  },
  {
   "cell_type": "code",
   "execution_count": 3,
   "metadata": {
    "collapsed": false
   },
   "outputs": [
    {
     "data": {
      "text/html": [
       "<div>\n",
       "<table border=\"1\" class=\"dataframe\">\n",
       "  <thead>\n",
       "    <tr style=\"text-align: right;\">\n",
       "      <th></th>\n",
       "      <th>votes.cool</th>\n",
       "      <th>date</th>\n",
       "      <th>review_id</th>\n",
       "      <th>votes.useful</th>\n",
       "      <th>business_id</th>\n",
       "      <th>stars</th>\n",
       "      <th>user_id</th>\n",
       "      <th>votes.funny</th>\n",
       "      <th>text</th>\n",
       "      <th>type</th>\n",
       "    </tr>\n",
       "  </thead>\n",
       "  <tbody>\n",
       "    <tr>\n",
       "      <th>0</th>\n",
       "      <td>0</td>\n",
       "      <td>b'2012-08-01'</td>\n",
       "      <td>b'Ya85v4eqdd6k9Od8HbQjyA'</td>\n",
       "      <td>0</td>\n",
       "      <td>b'5UmKMjUEUNdYWqANhGckJw'</td>\n",
       "      <td>4</td>\n",
       "      <td>b'PUFPaY9KxDAcGqfsorJp3Q'</td>\n",
       "      <td>0</td>\n",
       "      <td>b'Mr Hoagie is an institution. Walking in, it ...</td>\n",
       "      <td>b'review'</td>\n",
       "    </tr>\n",
       "    <tr>\n",
       "      <th>1</th>\n",
       "      <td>0</td>\n",
       "      <td>b'2014-02-13'</td>\n",
       "      <td>b'KPvLNJ21_4wbYNctrOwWdQ'</td>\n",
       "      <td>0</td>\n",
       "      <td>b'5UmKMjUEUNdYWqANhGckJw'</td>\n",
       "      <td>5</td>\n",
       "      <td>b'Iu6AxdBYGR4A0wspR9BYHA'</td>\n",
       "      <td>0</td>\n",
       "      <td>b\"Excellent food. Superb customer service. I m...</td>\n",
       "      <td>b'review'</td>\n",
       "    </tr>\n",
       "    <tr>\n",
       "      <th>2</th>\n",
       "      <td>0</td>\n",
       "      <td>b'2015-10-31'</td>\n",
       "      <td>b'fFSoGV46Yxuwbr3fHNuZig'</td>\n",
       "      <td>1</td>\n",
       "      <td>b'5UmKMjUEUNdYWqANhGckJw'</td>\n",
       "      <td>5</td>\n",
       "      <td>b'auESFwWvW42h6alXgFxAXQ'</td>\n",
       "      <td>1</td>\n",
       "      <td>b'Yes this place is a little out dated and not...</td>\n",
       "      <td>b'review'</td>\n",
       "    </tr>\n",
       "    <tr>\n",
       "      <th>3</th>\n",
       "      <td>0</td>\n",
       "      <td>b'2015-12-26'</td>\n",
       "      <td>b'pVMIt0a_QsKtuDfWVfSk2A'</td>\n",
       "      <td>0</td>\n",
       "      <td>b'5UmKMjUEUNdYWqANhGckJw'</td>\n",
       "      <td>3</td>\n",
       "      <td>b'qiczib2fO_1VBG8IoCGvVg'</td>\n",
       "      <td>0</td>\n",
       "      <td>b'PROS: Italian hoagie was delicious.  Friendl...</td>\n",
       "      <td>b'review'</td>\n",
       "    </tr>\n",
       "    <tr>\n",
       "      <th>4</th>\n",
       "      <td>0</td>\n",
       "      <td>b'2016-04-08'</td>\n",
       "      <td>b'AEyiQ_Y44isJmNbMTyoMKQ'</td>\n",
       "      <td>1</td>\n",
       "      <td>b'5UmKMjUEUNdYWqANhGckJw'</td>\n",
       "      <td>2</td>\n",
       "      <td>b'qEE5EvV-f-s7yHC0Z4ydJQ'</td>\n",
       "      <td>0</td>\n",
       "      <td>b'First the only reason this place could possi...</td>\n",
       "      <td>b'review'</td>\n",
       "    </tr>\n",
       "  </tbody>\n",
       "</table>\n",
       "</div>"
      ],
      "text/plain": [
       "   votes.cool           date                  review_id  votes.useful  \\\n",
       "0           0  b'2012-08-01'  b'Ya85v4eqdd6k9Od8HbQjyA'             0   \n",
       "1           0  b'2014-02-13'  b'KPvLNJ21_4wbYNctrOwWdQ'             0   \n",
       "2           0  b'2015-10-31'  b'fFSoGV46Yxuwbr3fHNuZig'             1   \n",
       "3           0  b'2015-12-26'  b'pVMIt0a_QsKtuDfWVfSk2A'             0   \n",
       "4           0  b'2016-04-08'  b'AEyiQ_Y44isJmNbMTyoMKQ'             1   \n",
       "\n",
       "                 business_id  stars                    user_id  votes.funny  \\\n",
       "0  b'5UmKMjUEUNdYWqANhGckJw'      4  b'PUFPaY9KxDAcGqfsorJp3Q'            0   \n",
       "1  b'5UmKMjUEUNdYWqANhGckJw'      5  b'Iu6AxdBYGR4A0wspR9BYHA'            0   \n",
       "2  b'5UmKMjUEUNdYWqANhGckJw'      5  b'auESFwWvW42h6alXgFxAXQ'            1   \n",
       "3  b'5UmKMjUEUNdYWqANhGckJw'      3  b'qiczib2fO_1VBG8IoCGvVg'            0   \n",
       "4  b'5UmKMjUEUNdYWqANhGckJw'      2  b'qEE5EvV-f-s7yHC0Z4ydJQ'            0   \n",
       "\n",
       "                                                text       type  \n",
       "0  b'Mr Hoagie is an institution. Walking in, it ...  b'review'  \n",
       "1  b\"Excellent food. Superb customer service. I m...  b'review'  \n",
       "2  b'Yes this place is a little out dated and not...  b'review'  \n",
       "3  b'PROS: Italian hoagie was delicious.  Friendl...  b'review'  \n",
       "4  b'First the only reason this place could possi...  b'review'  "
      ]
     },
     "execution_count": 3,
     "metadata": {},
     "output_type": "execute_result"
    }
   ],
   "source": [
    "rdf.head()"
   ]
  },
  {
   "cell_type": "code",
   "execution_count": 4,
   "metadata": {
    "collapsed": true
   },
   "outputs": [],
   "source": [
    "#prepare file to see overlap with business dataset#"
   ]
  },
  {
   "cell_type": "code",
   "execution_count": 4,
   "metadata": {
    "collapsed": true
   },
   "outputs": [],
   "source": [
    "prep = rdf['business_id']"
   ]
  },
  {
   "cell_type": "code",
   "execution_count": 6,
   "metadata": {
    "collapsed": false
   },
   "outputs": [
    {
     "data": {
      "text/plain": [
       "0    b'5UmKMjUEUNdYWqANhGckJw'\n",
       "1    b'5UmKMjUEUNdYWqANhGckJw'\n",
       "2    b'5UmKMjUEUNdYWqANhGckJw'\n",
       "3    b'5UmKMjUEUNdYWqANhGckJw'\n",
       "4    b'5UmKMjUEUNdYWqANhGckJw'\n",
       "Name: business_id, dtype: object"
      ]
     },
     "execution_count": 6,
     "metadata": {},
     "output_type": "execute_result"
    }
   ],
   "source": [
    "prep.head()"
   ]
  },
  {
   "cell_type": "code",
   "execution_count": 5,
   "metadata": {
    "collapsed": false
   },
   "outputs": [
    {
     "data": {
      "text/html": [
       "<div>\n",
       "<table border=\"1\" class=\"dataframe\">\n",
       "  <thead>\n",
       "    <tr style=\"text-align: right;\">\n",
       "      <th></th>\n",
       "      <th>num_reviews</th>\n",
       "    </tr>\n",
       "  </thead>\n",
       "  <tbody>\n",
       "    <tr>\n",
       "      <th>b'4bEjOyTaDG24SY5TxsaUNQ'</th>\n",
       "      <td>5558</td>\n",
       "    </tr>\n",
       "    <tr>\n",
       "      <th>b'sIyHTizqAiGu12XMLX3N3g'</th>\n",
       "      <td>4531</td>\n",
       "    </tr>\n",
       "    <tr>\n",
       "      <th>b'zt1TpTuJ6y9n551sw9TaEg'</th>\n",
       "      <td>4333</td>\n",
       "    </tr>\n",
       "    <tr>\n",
       "      <th>b'aGbjLWzcrnEx2ZmMCFm3EA'</th>\n",
       "      <td>4149</td>\n",
       "    </tr>\n",
       "    <tr>\n",
       "      <th>b'2e2e7WgqU1BnpxmQL5jbfw'</th>\n",
       "      <td>4103</td>\n",
       "    </tr>\n",
       "  </tbody>\n",
       "</table>\n",
       "</div>"
      ],
      "text/plain": [
       "                           num_reviews\n",
       "b'4bEjOyTaDG24SY5TxsaUNQ'         5558\n",
       "b'sIyHTizqAiGu12XMLX3N3g'         4531\n",
       "b'zt1TpTuJ6y9n551sw9TaEg'         4333\n",
       "b'aGbjLWzcrnEx2ZmMCFm3EA'         4149\n",
       "b'2e2e7WgqU1BnpxmQL5jbfw'         4103"
      ]
     },
     "execution_count": 5,
     "metadata": {},
     "output_type": "execute_result"
    }
   ],
   "source": [
    "counts_reviews = prep.value_counts()\n",
    "CV = counts_reviews.to_frame(name='num_reviews')\n",
    "CV.head()"
   ]
  },
  {
   "cell_type": "code",
   "execution_count": 6,
   "metadata": {
    "collapsed": false
   },
   "outputs": [
    {
     "data": {
      "text/html": [
       "<div>\n",
       "<table border=\"1\" class=\"dataframe\">\n",
       "  <thead>\n",
       "    <tr style=\"text-align: right;\">\n",
       "      <th></th>\n",
       "      <th>num_reviews</th>\n",
       "      <th>business_id</th>\n",
       "    </tr>\n",
       "  </thead>\n",
       "  <tbody>\n",
       "    <tr>\n",
       "      <th>b'4bEjOyTaDG24SY5TxsaUNQ'</th>\n",
       "      <td>5558</td>\n",
       "      <td>b'4bEjOyTaDG24SY5TxsaUNQ'</td>\n",
       "    </tr>\n",
       "    <tr>\n",
       "      <th>b'sIyHTizqAiGu12XMLX3N3g'</th>\n",
       "      <td>4531</td>\n",
       "      <td>b'sIyHTizqAiGu12XMLX3N3g'</td>\n",
       "    </tr>\n",
       "    <tr>\n",
       "      <th>b'zt1TpTuJ6y9n551sw9TaEg'</th>\n",
       "      <td>4333</td>\n",
       "      <td>b'zt1TpTuJ6y9n551sw9TaEg'</td>\n",
       "    </tr>\n",
       "    <tr>\n",
       "      <th>b'aGbjLWzcrnEx2ZmMCFm3EA'</th>\n",
       "      <td>4149</td>\n",
       "      <td>b'aGbjLWzcrnEx2ZmMCFm3EA'</td>\n",
       "    </tr>\n",
       "    <tr>\n",
       "      <th>b'2e2e7WgqU1BnpxmQL5jbfw'</th>\n",
       "      <td>4103</td>\n",
       "      <td>b'2e2e7WgqU1BnpxmQL5jbfw'</td>\n",
       "    </tr>\n",
       "  </tbody>\n",
       "</table>\n",
       "</div>"
      ],
      "text/plain": [
       "                           num_reviews                business_id\n",
       "b'4bEjOyTaDG24SY5TxsaUNQ'         5558  b'4bEjOyTaDG24SY5TxsaUNQ'\n",
       "b'sIyHTizqAiGu12XMLX3N3g'         4531  b'sIyHTizqAiGu12XMLX3N3g'\n",
       "b'zt1TpTuJ6y9n551sw9TaEg'         4333  b'zt1TpTuJ6y9n551sw9TaEg'\n",
       "b'aGbjLWzcrnEx2ZmMCFm3EA'         4149  b'aGbjLWzcrnEx2ZmMCFm3EA'\n",
       "b'2e2e7WgqU1BnpxmQL5jbfw'         4103  b'2e2e7WgqU1BnpxmQL5jbfw'"
      ]
     },
     "execution_count": 6,
     "metadata": {},
     "output_type": "execute_result"
    }
   ],
   "source": [
    "CV['business_id'] = CV.index\n",
    "CV.head()"
   ]
  },
  {
   "cell_type": "code",
   "execution_count": 7,
   "metadata": {
    "collapsed": false
   },
   "outputs": [
    {
     "data": {
      "text/html": [
       "<div>\n",
       "<table border=\"1\" class=\"dataframe\">\n",
       "  <thead>\n",
       "    <tr style=\"text-align: right;\">\n",
       "      <th></th>\n",
       "      <th>business_id</th>\n",
       "    </tr>\n",
       "  </thead>\n",
       "  <tbody>\n",
       "    <tr>\n",
       "      <th>0</th>\n",
       "      <td>b'5UmKMjUEUNdYWqANhGckJw'</td>\n",
       "    </tr>\n",
       "    <tr>\n",
       "      <th>1</th>\n",
       "      <td>b'UsFtqoBl7naz8AVUBZMjQQ'</td>\n",
       "    </tr>\n",
       "    <tr>\n",
       "      <th>2</th>\n",
       "      <td>b'cE27W9VPgO88Qxe4ol6y_g'</td>\n",
       "    </tr>\n",
       "    <tr>\n",
       "      <th>3</th>\n",
       "      <td>b'mVHrayjG3uZ_RLHkLj-AMg'</td>\n",
       "    </tr>\n",
       "    <tr>\n",
       "      <th>4</th>\n",
       "      <td>b'mYSpR_SLPgUVymYOvTQd_Q'</td>\n",
       "    </tr>\n",
       "  </tbody>\n",
       "</table>\n",
       "</div>"
      ],
      "text/plain": [
       "                 business_id\n",
       "0  b'5UmKMjUEUNdYWqANhGckJw'\n",
       "1  b'UsFtqoBl7naz8AVUBZMjQQ'\n",
       "2  b'cE27W9VPgO88Qxe4ol6y_g'\n",
       "3  b'mVHrayjG3uZ_RLHkLj-AMg'\n",
       "4  b'mYSpR_SLPgUVymYOvTQd_Q'"
      ]
     },
     "execution_count": 7,
     "metadata": {},
     "output_type": "execute_result"
    }
   ],
   "source": [
    "ubi_cat = pd.read_csv('unique_BI_in_categories.csv')\n",
    "ubi_cat = pd.DataFrame(ubi_cat['business_id'])\n",
    "ubi_cat.head()"
   ]
  },
  {
   "cell_type": "code",
   "execution_count": 8,
   "metadata": {
    "collapsed": false
   },
   "outputs": [],
   "source": [
    "merged = ubi_cat.merge(CV, left_on = 'business_id', right_on = 'business_id', how='inner')"
   ]
  },
  {
   "cell_type": "code",
   "execution_count": 9,
   "metadata": {
    "collapsed": false
   },
   "outputs": [
    {
     "data": {
      "text/html": [
       "<div>\n",
       "<table border=\"1\" class=\"dataframe\">\n",
       "  <thead>\n",
       "    <tr style=\"text-align: right;\">\n",
       "      <th></th>\n",
       "      <th>business_id</th>\n",
       "      <th>num_reviews</th>\n",
       "    </tr>\n",
       "  </thead>\n",
       "  <tbody>\n",
       "    <tr>\n",
       "      <th>0</th>\n",
       "      <td>b'5UmKMjUEUNdYWqANhGckJw'</td>\n",
       "      <td>7</td>\n",
       "    </tr>\n",
       "    <tr>\n",
       "      <th>1</th>\n",
       "      <td>b'UsFtqoBl7naz8AVUBZMjQQ'</td>\n",
       "      <td>5</td>\n",
       "    </tr>\n",
       "    <tr>\n",
       "      <th>2</th>\n",
       "      <td>b'cE27W9VPgO88Qxe4ol6y_g'</td>\n",
       "      <td>5</td>\n",
       "    </tr>\n",
       "    <tr>\n",
       "      <th>3</th>\n",
       "      <td>b'mVHrayjG3uZ_RLHkLj-AMg'</td>\n",
       "      <td>25</td>\n",
       "    </tr>\n",
       "    <tr>\n",
       "      <th>4</th>\n",
       "      <td>b'mYSpR_SLPgUVymYOvTQd_Q'</td>\n",
       "      <td>3</td>\n",
       "    </tr>\n",
       "  </tbody>\n",
       "</table>\n",
       "</div>"
      ],
      "text/plain": [
       "                 business_id  num_reviews\n",
       "0  b'5UmKMjUEUNdYWqANhGckJw'            7\n",
       "1  b'UsFtqoBl7naz8AVUBZMjQQ'            5\n",
       "2  b'cE27W9VPgO88Qxe4ol6y_g'            5\n",
       "3  b'mVHrayjG3uZ_RLHkLj-AMg'           25\n",
       "4  b'mYSpR_SLPgUVymYOvTQd_Q'            3"
      ]
     },
     "execution_count": 9,
     "metadata": {},
     "output_type": "execute_result"
    }
   ],
   "source": [
    "merged.head()"
   ]
  },
  {
   "cell_type": "code",
   "execution_count": 10,
   "metadata": {
    "collapsed": false
   },
   "outputs": [
    {
     "data": {
      "text/plain": [
       "85901"
      ]
     },
     "execution_count": 10,
     "metadata": {},
     "output_type": "execute_result"
    }
   ],
   "source": [
    "len(ubi_cat)"
   ]
  },
  {
   "cell_type": "code",
   "execution_count": 11,
   "metadata": {
    "collapsed": false
   },
   "outputs": [
    {
     "data": {
      "text/plain": [
       "85539"
      ]
     },
     "execution_count": 11,
     "metadata": {},
     "output_type": "execute_result"
    }
   ],
   "source": [
    "len(CV)"
   ]
  },
  {
   "cell_type": "code",
   "execution_count": 12,
   "metadata": {
    "collapsed": false
   },
   "outputs": [
    {
     "data": {
      "text/plain": [
       "85539"
      ]
     },
     "execution_count": 12,
     "metadata": {},
     "output_type": "execute_result"
    }
   ],
   "source": [
    "len(merged)"
   ]
  },
  {
   "cell_type": "code",
   "execution_count": 13,
   "metadata": {
    "collapsed": false
   },
   "outputs": [],
   "source": [
    "merged = merged[['business_id', 'num_reviews']]"
   ]
  },
  {
   "cell_type": "markdown",
   "metadata": {},
   "source": [
    "merged now contains the business ids that have a category(s) (from business data) and have text reviews.  The 'num_reviews' is the amount from the reviews file, not the reviews_count in business data file."
   ]
  },
  {
   "cell_type": "code",
   "execution_count": 14,
   "metadata": {
    "collapsed": false
   },
   "outputs": [
    {
     "data": {
      "text/html": [
       "<div>\n",
       "<table border=\"1\" class=\"dataframe\">\n",
       "  <thead>\n",
       "    <tr style=\"text-align: right;\">\n",
       "      <th></th>\n",
       "      <th>business_id</th>\n",
       "      <th>num_reviews</th>\n",
       "    </tr>\n",
       "  </thead>\n",
       "  <tbody>\n",
       "    <tr>\n",
       "      <th>0</th>\n",
       "      <td>b'5UmKMjUEUNdYWqANhGckJw'</td>\n",
       "      <td>7</td>\n",
       "    </tr>\n",
       "    <tr>\n",
       "      <th>1</th>\n",
       "      <td>b'UsFtqoBl7naz8AVUBZMjQQ'</td>\n",
       "      <td>5</td>\n",
       "    </tr>\n",
       "    <tr>\n",
       "      <th>2</th>\n",
       "      <td>b'cE27W9VPgO88Qxe4ol6y_g'</td>\n",
       "      <td>5</td>\n",
       "    </tr>\n",
       "    <tr>\n",
       "      <th>3</th>\n",
       "      <td>b'mVHrayjG3uZ_RLHkLj-AMg'</td>\n",
       "      <td>25</td>\n",
       "    </tr>\n",
       "    <tr>\n",
       "      <th>4</th>\n",
       "      <td>b'mYSpR_SLPgUVymYOvTQd_Q'</td>\n",
       "      <td>3</td>\n",
       "    </tr>\n",
       "  </tbody>\n",
       "</table>\n",
       "</div>"
      ],
      "text/plain": [
       "                 business_id  num_reviews\n",
       "0  b'5UmKMjUEUNdYWqANhGckJw'            7\n",
       "1  b'UsFtqoBl7naz8AVUBZMjQQ'            5\n",
       "2  b'cE27W9VPgO88Qxe4ol6y_g'            5\n",
       "3  b'mVHrayjG3uZ_RLHkLj-AMg'           25\n",
       "4  b'mYSpR_SLPgUVymYOvTQd_Q'            3"
      ]
     },
     "execution_count": 14,
     "metadata": {},
     "output_type": "execute_result"
    }
   ],
   "source": [
    "merged.head()"
   ]
  },
  {
   "cell_type": "markdown",
   "metadata": {},
   "source": [
    "Next steps is to merge more files.\n",
    "1)  Get a file that has (stars, text, business_id) from the review set (that has the business_ids in merged)\n",
    "2)  Get a file that has (categories, business_id) from the business set (that has the business_ids in merged)\n",
    "\n",
    "Then join this two files.  Should then have categories (multi levels) associated to stars and text.  Then figure out what is driving stars rating by category based on the language in text review"
   ]
  },
  {
   "cell_type": "code",
   "execution_count": 15,
   "metadata": {
    "collapsed": false
   },
   "outputs": [
    {
     "data": {
      "text/plain": [
       "2685066"
      ]
     },
     "execution_count": 15,
     "metadata": {},
     "output_type": "execute_result"
    }
   ],
   "source": [
    "reviews = rdf[['business_id', 'stars', 'text']]\n",
    "len(reviews)"
   ]
  },
  {
   "cell_type": "code",
   "execution_count": 16,
   "metadata": {
    "collapsed": true
   },
   "outputs": [],
   "source": [
    "reviews = merged.merge(reviews, left_on = 'business_id', right_on = 'business_id', how='inner')"
   ]
  },
  {
   "cell_type": "code",
   "execution_count": 17,
   "metadata": {
    "collapsed": false
   },
   "outputs": [
    {
     "data": {
      "text/html": [
       "<div>\n",
       "<table border=\"1\" class=\"dataframe\">\n",
       "  <thead>\n",
       "    <tr style=\"text-align: right;\">\n",
       "      <th></th>\n",
       "      <th>business_id</th>\n",
       "      <th>num_reviews</th>\n",
       "      <th>stars</th>\n",
       "      <th>text</th>\n",
       "    </tr>\n",
       "  </thead>\n",
       "  <tbody>\n",
       "    <tr>\n",
       "      <th>0</th>\n",
       "      <td>b'5UmKMjUEUNdYWqANhGckJw'</td>\n",
       "      <td>7</td>\n",
       "      <td>4</td>\n",
       "      <td>b'Mr Hoagie is an institution. Walking in, it ...</td>\n",
       "    </tr>\n",
       "    <tr>\n",
       "      <th>1</th>\n",
       "      <td>b'5UmKMjUEUNdYWqANhGckJw'</td>\n",
       "      <td>7</td>\n",
       "      <td>5</td>\n",
       "      <td>b\"Excellent food. Superb customer service. I m...</td>\n",
       "    </tr>\n",
       "    <tr>\n",
       "      <th>2</th>\n",
       "      <td>b'5UmKMjUEUNdYWqANhGckJw'</td>\n",
       "      <td>7</td>\n",
       "      <td>5</td>\n",
       "      <td>b'Yes this place is a little out dated and not...</td>\n",
       "    </tr>\n",
       "    <tr>\n",
       "      <th>3</th>\n",
       "      <td>b'5UmKMjUEUNdYWqANhGckJw'</td>\n",
       "      <td>7</td>\n",
       "      <td>3</td>\n",
       "      <td>b'PROS: Italian hoagie was delicious.  Friendl...</td>\n",
       "    </tr>\n",
       "    <tr>\n",
       "      <th>4</th>\n",
       "      <td>b'5UmKMjUEUNdYWqANhGckJw'</td>\n",
       "      <td>7</td>\n",
       "      <td>2</td>\n",
       "      <td>b'First the only reason this place could possi...</td>\n",
       "    </tr>\n",
       "    <tr>\n",
       "      <th>5</th>\n",
       "      <td>b'5UmKMjUEUNdYWqANhGckJw'</td>\n",
       "      <td>7</td>\n",
       "      <td>1</td>\n",
       "      <td>b'Normally, I do not do reviews of an establis...</td>\n",
       "    </tr>\n",
       "    <tr>\n",
       "      <th>6</th>\n",
       "      <td>b'5UmKMjUEUNdYWqANhGckJw'</td>\n",
       "      <td>7</td>\n",
       "      <td>4</td>\n",
       "      <td>b\"I like this place a lot. It's a good toasted...</td>\n",
       "    </tr>\n",
       "    <tr>\n",
       "      <th>7</th>\n",
       "      <td>b'UsFtqoBl7naz8AVUBZMjQQ'</td>\n",
       "      <td>5</td>\n",
       "      <td>5</td>\n",
       "      <td>b'All the food is great here. But the best thi...</td>\n",
       "    </tr>\n",
       "    <tr>\n",
       "      <th>8</th>\n",
       "      <td>b'UsFtqoBl7naz8AVUBZMjQQ'</td>\n",
       "      <td>5</td>\n",
       "      <td>3</td>\n",
       "      <td>b\"We checked this place out this past Monday f...</td>\n",
       "    </tr>\n",
       "    <tr>\n",
       "      <th>9</th>\n",
       "      <td>b'UsFtqoBl7naz8AVUBZMjQQ'</td>\n",
       "      <td>5</td>\n",
       "      <td>1</td>\n",
       "      <td>b'Wing sauce is like water. Pretty much a lot ...</td>\n",
       "    </tr>\n",
       "  </tbody>\n",
       "</table>\n",
       "</div>"
      ],
      "text/plain": [
       "                 business_id  num_reviews  stars  \\\n",
       "0  b'5UmKMjUEUNdYWqANhGckJw'            7      4   \n",
       "1  b'5UmKMjUEUNdYWqANhGckJw'            7      5   \n",
       "2  b'5UmKMjUEUNdYWqANhGckJw'            7      5   \n",
       "3  b'5UmKMjUEUNdYWqANhGckJw'            7      3   \n",
       "4  b'5UmKMjUEUNdYWqANhGckJw'            7      2   \n",
       "5  b'5UmKMjUEUNdYWqANhGckJw'            7      1   \n",
       "6  b'5UmKMjUEUNdYWqANhGckJw'            7      4   \n",
       "7  b'UsFtqoBl7naz8AVUBZMjQQ'            5      5   \n",
       "8  b'UsFtqoBl7naz8AVUBZMjQQ'            5      3   \n",
       "9  b'UsFtqoBl7naz8AVUBZMjQQ'            5      1   \n",
       "\n",
       "                                                text  \n",
       "0  b'Mr Hoagie is an institution. Walking in, it ...  \n",
       "1  b\"Excellent food. Superb customer service. I m...  \n",
       "2  b'Yes this place is a little out dated and not...  \n",
       "3  b'PROS: Italian hoagie was delicious.  Friendl...  \n",
       "4  b'First the only reason this place could possi...  \n",
       "5  b'Normally, I do not do reviews of an establis...  \n",
       "6  b\"I like this place a lot. It's a good toasted...  \n",
       "7  b'All the food is great here. But the best thi...  \n",
       "8  b\"We checked this place out this past Monday f...  \n",
       "9  b'Wing sauce is like water. Pretty much a lot ...  "
      ]
     },
     "execution_count": 17,
     "metadata": {},
     "output_type": "execute_result"
    }
   ],
   "source": [
    "reviews.head(10)"
   ]
  },
  {
   "cell_type": "code",
   "execution_count": 19,
   "metadata": {
    "collapsed": false
   },
   "outputs": [
    {
     "data": {
      "text/plain": [
       "2685066"
      ]
     },
     "execution_count": 19,
     "metadata": {},
     "output_type": "execute_result"
    }
   ],
   "source": [
    "len(reviews)"
   ]
  },
  {
   "cell_type": "code",
   "execution_count": 21,
   "metadata": {
    "collapsed": true
   },
   "outputs": [],
   "source": [
    "reviews.to_csv('reviews')"
   ]
  },
  {
   "cell_type": "code",
   "execution_count": null,
   "metadata": {
    "collapsed": true
   },
   "outputs": [],
   "source": []
  }
 ],
 "metadata": {
  "anaconda-cloud": {},
  "kernelspec": {
   "display_name": "Python [Root]",
   "language": "python",
   "name": "Python [Root]"
  },
  "language_info": {
   "codemirror_mode": {
    "name": "ipython",
    "version": 3
   },
   "file_extension": ".py",
   "mimetype": "text/x-python",
   "name": "python",
   "nbconvert_exporter": "python",
   "pygments_lexer": "ipython3",
   "version": "3.5.2"
  }
 },
 "nbformat": 4,
 "nbformat_minor": 0
}
